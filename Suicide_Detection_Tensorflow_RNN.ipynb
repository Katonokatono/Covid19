{
  "nbformat": 4,
  "nbformat_minor": 0,
  "metadata": {
    "colab": {
      "name": "Suicide Detection Tensorflow RNN.ipynb",
      "provenance": [],
      "collapsed_sections": [],
      "include_colab_link": true
    },
    "kernelspec": {
      "display_name": "Python 3",
      "name": "python3"
    },
    "language_info": {
      "name": "python"
    }
  },
  "cells": [
    {
      "cell_type": "markdown",
      "metadata": {
        "id": "view-in-github",
        "colab_type": "text"
      },
      "source": [
        "<a href=\"https://colab.research.google.com/github/Katonokatono/Suicide/blob/model/Suicide_Detection_Tensorflow_RNN.ipynb\" target=\"_parent\"><img src=\"https://colab.research.google.com/assets/colab-badge.svg\" alt=\"Open In Colab\"/></a>"
      ]
    },
    {
      "cell_type": "code",
      "metadata": {
        "colab": {
          "base_uri": "https://localhost:8080/"
        },
        "id": "fJ788-SHhJIH",
        "outputId": "7f9d691d-79ab-4f25-a6e6-a24a1e1144c3"
      },
      "source": [
        "\n",
        "!pip install wandb\n",
        "!wandb login"
      ],
      "execution_count": 1,
      "outputs": [
        {
          "output_type": "stream",
          "name": "stdout",
          "text": [
            "Requirement already satisfied: wandb in /usr/local/lib/python3.7/dist-packages (0.12.2)\n",
            "Requirement already satisfied: protobuf>=3.12.0 in /usr/local/lib/python3.7/dist-packages (from wandb) (3.17.3)\n",
            "Requirement already satisfied: GitPython>=1.0.0 in /usr/local/lib/python3.7/dist-packages (from wandb) (3.1.24)\n",
            "Requirement already satisfied: yaspin>=1.0.0 in /usr/local/lib/python3.7/dist-packages (from wandb) (2.1.0)\n",
            "Requirement already satisfied: pathtools in /usr/local/lib/python3.7/dist-packages (from wandb) (0.1.2)\n",
            "Requirement already satisfied: six>=1.13.0 in /usr/local/lib/python3.7/dist-packages (from wandb) (1.15.0)\n",
            "Requirement already satisfied: Click!=8.0.0,>=7.0 in /usr/local/lib/python3.7/dist-packages (from wandb) (7.1.2)\n",
            "Requirement already satisfied: requests<3,>=2.0.0 in /usr/local/lib/python3.7/dist-packages (from wandb) (2.23.0)\n",
            "Requirement already satisfied: python-dateutil>=2.6.1 in /usr/local/lib/python3.7/dist-packages (from wandb) (2.8.2)\n",
            "Requirement already satisfied: subprocess32>=3.5.3 in /usr/local/lib/python3.7/dist-packages (from wandb) (3.5.4)\n",
            "Requirement already satisfied: psutil>=5.0.0 in /usr/local/lib/python3.7/dist-packages (from wandb) (5.4.8)\n",
            "Requirement already satisfied: sentry-sdk>=1.0.0 in /usr/local/lib/python3.7/dist-packages (from wandb) (1.4.1)\n",
            "Requirement already satisfied: promise<3,>=2.0 in /usr/local/lib/python3.7/dist-packages (from wandb) (2.3)\n",
            "Requirement already satisfied: docker-pycreds>=0.4.0 in /usr/local/lib/python3.7/dist-packages (from wandb) (0.4.0)\n",
            "Requirement already satisfied: configparser>=3.8.1 in /usr/local/lib/python3.7/dist-packages (from wandb) (5.0.2)\n",
            "Requirement already satisfied: PyYAML in /usr/local/lib/python3.7/dist-packages (from wandb) (3.13)\n",
            "Requirement already satisfied: shortuuid>=0.5.0 in /usr/local/lib/python3.7/dist-packages (from wandb) (1.0.1)\n",
            "Requirement already satisfied: typing-extensions>=3.7.4.3 in /usr/local/lib/python3.7/dist-packages (from GitPython>=1.0.0->wandb) (3.7.4.3)\n",
            "Requirement already satisfied: gitdb<5,>=4.0.1 in /usr/local/lib/python3.7/dist-packages (from GitPython>=1.0.0->wandb) (4.0.7)\n",
            "Requirement already satisfied: smmap<5,>=3.0.1 in /usr/local/lib/python3.7/dist-packages (from gitdb<5,>=4.0.1->GitPython>=1.0.0->wandb) (4.0.0)\n",
            "Requirement already satisfied: chardet<4,>=3.0.2 in /usr/local/lib/python3.7/dist-packages (from requests<3,>=2.0.0->wandb) (3.0.4)\n",
            "Requirement already satisfied: certifi>=2017.4.17 in /usr/local/lib/python3.7/dist-packages (from requests<3,>=2.0.0->wandb) (2021.5.30)\n",
            "Requirement already satisfied: idna<3,>=2.5 in /usr/local/lib/python3.7/dist-packages (from requests<3,>=2.0.0->wandb) (2.10)\n",
            "Requirement already satisfied: urllib3!=1.25.0,!=1.25.1,<1.26,>=1.21.1 in /usr/local/lib/python3.7/dist-packages (from requests<3,>=2.0.0->wandb) (1.24.3)\n",
            "Requirement already satisfied: termcolor<2.0.0,>=1.1.0 in /usr/local/lib/python3.7/dist-packages (from yaspin>=1.0.0->wandb) (1.1.0)\n",
            "\u001b[34m\u001b[1mwandb\u001b[0m: Currently logged in as: \u001b[33mkanoak\u001b[0m (use `wandb login --relogin` to force relogin)\n"
          ]
        }
      ]
    },
    {
      "cell_type": "code",
      "metadata": {
        "id": "7nHEow6otjVT"
      },
      "source": [
        "import tensorflow as tf\n",
        "from tensorflow.python.distribute import distribution_strategy_context\n",
        "from tensorflow.python.framework import ops\n",
        "from tensorflow.python.framework import smart_cond\n",
        "from tensorflow.python.framework import tensor_util\n",
        "from tensorflow.python.keras import backend as K\n",
        "from tensorflow.python.keras.utils import losses_utils\n",
        "from tensorflow.python.keras.utils import tf_utils\n",
        "from tensorflow.python.keras.utils.generic_utils import deserialize_keras_object\n",
        "from tensorflow.python.keras.utils.generic_utils import serialize_keras_object\n",
        "from tensorflow.python.ops import array_ops\n",
        "from tensorflow.python.ops import math_ops\n",
        "from tensorflow.python.ops import nn\n",
        "from tensorflow.python.ops.losses import losses_impl\n",
        "from tensorflow.python.ops.losses import util as tf_losses_util\n",
        "from tensorflow.python.util.tf_export import keras_export\n",
        "from tensorflow.tools.docs import doc_controls"
      ],
      "execution_count": 2,
      "outputs": []
    },
    {
      "cell_type": "code",
      "metadata": {
        "id": "GFck8nmQhZTM"
      },
      "source": [
        "import wandb\n",
        "from wandb.keras import WandbCallback\n"
      ],
      "execution_count": 3,
      "outputs": []
    },
    {
      "cell_type": "markdown",
      "metadata": {
        "id": "ZDcJbjustiWI"
      },
      "source": [
        ""
      ]
    },
    {
      "cell_type": "code",
      "metadata": {
        "id": "U2zDoKBapdkY"
      },
      "source": [
        "# #Initialize wandb\n",
        "\n",
        "# wandb.init(project='gpt3', entity='alpha-coders')\n",
        "# config={  # and include hyperparameters and metadata\n",
        "#                      \"learning_rate\": 0.005,\n",
        "#                      \"epochs\": 5,\n",
        "#                      \"batch_size\": 64,\n",
        "#                      \"loss_function\": \"sparse_categorical_crossentropy\",\n",
        "#                      \"architecture\": \"RNN\"}\n",
        "# # 2. Save model inputs and hyperparameters\n",
        "# config = wandb.config"
      ],
      "execution_count": 4,
      "outputs": []
    },
    {
      "cell_type": "code",
      "metadata": {
        "id": "1anyRMp6hr_P"
      },
      "source": [
        "\n",
        "# for i in range(10):\n",
        "#   log_dict = {\n",
        "#       \"train_loss\": 1/(i+1),\n",
        "#       \"custom_step\": i**2,\n",
        "#       \"validation_loss\": 1/(i+1) }\n",
        "# wandb.log(log_dict)"
      ],
      "execution_count": 5,
      "outputs": []
    },
    {
      "cell_type": "code",
      "metadata": {
        "id": "HncEmTTThwil"
      },
      "source": [
        "wandb.config.dropout = 0.2"
      ],
      "execution_count": 6,
      "outputs": []
    },
    {
      "cell_type": "markdown",
      "metadata": {
        "id": "IyohllIzAeyv"
      },
      "source": [
        "Modelling using Tensorflow hub using a pretrained word embedding layer to classify tweets on climate change into classes"
      ]
    },
    {
      "cell_type": "code",
      "metadata": {
        "colab": {
          "base_uri": "https://localhost:8080/"
        },
        "id": "ITti9yg8j2j_",
        "outputId": "fc15e6a7-5604-4119-e5c2-6c380a93e8a6"
      },
      "source": [
        "import pandas as pd\n",
        "import numpy as np\n",
        "import pandas as pd\n",
        "import numpy as np\n",
        "#for text pre-processing\n",
        "import re, string\n",
        "import nltk\n",
        "from nltk.tokenize import word_tokenize\n",
        "from nltk.corpus import stopwords\n",
        "from nltk.tokenize import word_tokenize\n",
        "from nltk.stem import SnowballStemmer\n",
        "from nltk.corpus import wordnet\n",
        "from nltk.stem import WordNetLemmatizer\n",
        "nltk.download('punkt')\n",
        "nltk.download('averaged_perceptron_tagger')\n",
        "nltk.download('wordnet')\n",
        "#for model-building\n",
        "from sklearn.model_selection import train_test_split\n",
        "from sklearn.linear_model import LogisticRegression\n",
        "from sklearn.naive_bayes import MultinomialNB\n",
        "from sklearn.metrics import classification_report, f1_score, accuracy_score, confusion_matrix\n",
        "from sklearn.metrics import roc_curve, auc, roc_auc_score\n",
        "# bag of words\n",
        "from sklearn.feature_extraction.text import TfidfVectorizer\n",
        "from sklearn.feature_extraction.text import CountVectorizer\n",
        "#for word embedding\n",
        "import gensim\n",
        "from gensim.models import Word2Vec\n",
        "from nltk.corpus import stopwords\n",
        "nltk.download('stopwords')\n",
        "from nltk.util import ngrams\n",
        "from spacy.lang.en import English\n",
        "nlp = English()\n",
        "import spacy\n",
        "from nltk.stem import WordNetLemmatizer\n",
        "  \n",
        "lemmatizer = WordNetLemmatizer()"
      ],
      "execution_count": 7,
      "outputs": [
        {
          "output_type": "stream",
          "name": "stdout",
          "text": [
            "[nltk_data] Downloading package punkt to /root/nltk_data...\n",
            "[nltk_data]   Package punkt is already up-to-date!\n",
            "[nltk_data] Downloading package averaged_perceptron_tagger to\n",
            "[nltk_data]     /root/nltk_data...\n",
            "[nltk_data]   Package averaged_perceptron_tagger is already up-to-\n",
            "[nltk_data]       date!\n",
            "[nltk_data] Downloading package wordnet to /root/nltk_data...\n",
            "[nltk_data]   Package wordnet is already up-to-date!\n",
            "[nltk_data] Downloading package stopwords to /root/nltk_data...\n",
            "[nltk_data]   Package stopwords is already up-to-date!\n"
          ]
        }
      ]
    },
    {
      "cell_type": "markdown",
      "metadata": {
        "id": "Qz8ygJLT_3vY"
      },
      "source": [
        "## Load and preview data"
      ]
    },
    {
      "cell_type": "code",
      "metadata": {
        "id": "srxFf8KSjaIe"
      },
      "source": [
        "df = pd.read_csv('/content/final_data_suicide.csv')"
      ],
      "execution_count": 8,
      "outputs": []
    },
    {
      "cell_type": "code",
      "metadata": {
        "colab": {
          "base_uri": "https://localhost:8080/",
          "height": 302
        },
        "id": "GQfX9c_Lloas",
        "outputId": "3ba67b5b-0971-4610-e221-4e3c6e9c3130"
      },
      "source": [
        "df.head()"
      ],
      "execution_count": 9,
      "outputs": [
        {
          "output_type": "execute_result",
          "data": {
            "text/html": [
              "<div>\n",
              "<style scoped>\n",
              "    .dataframe tbody tr th:only-of-type {\n",
              "        vertical-align: middle;\n",
              "    }\n",
              "\n",
              "    .dataframe tbody tr th {\n",
              "        vertical-align: top;\n",
              "    }\n",
              "\n",
              "    .dataframe thead th {\n",
              "        text-align: right;\n",
              "    }\n",
              "</style>\n",
              "<table border=\"1\" class=\"dataframe\">\n",
              "  <thead>\n",
              "    <tr style=\"text-align: right;\">\n",
              "      <th></th>\n",
              "      <th>Unnamed: 0</th>\n",
              "      <th>friends_count</th>\n",
              "      <th>followers_count</th>\n",
              "      <th>statuses_count</th>\n",
              "      <th>created_at</th>\n",
              "      <th>retweet_count</th>\n",
              "      <th>label</th>\n",
              "      <th>town</th>\n",
              "      <th>clean_text</th>\n",
              "    </tr>\n",
              "  </thead>\n",
              "  <tbody>\n",
              "    <tr>\n",
              "      <th>0</th>\n",
              "      <td>1</td>\n",
              "      <td>182</td>\n",
              "      <td>83</td>\n",
              "      <td>6950</td>\n",
              "      <td>09/14/2021 7:47</td>\n",
              "      <td>0</td>\n",
              "      <td>anxiety</td>\n",
              "      <td>burundi</td>\n",
              "      <td>bunmo multi item stretchy string fidget toy pk...</td>\n",
              "    </tr>\n",
              "    <tr>\n",
              "      <th>1</th>\n",
              "      <td>2</td>\n",
              "      <td>983</td>\n",
              "      <td>915</td>\n",
              "      <td>12944</td>\n",
              "      <td>09/14/2021 7:31</td>\n",
              "      <td>0</td>\n",
              "      <td>anxiety</td>\n",
              "      <td>kenya</td>\n",
              "      <td>unkonfined basic motivation behind behavior bi...</td>\n",
              "    </tr>\n",
              "    <tr>\n",
              "      <th>2</th>\n",
              "      <td>3</td>\n",
              "      <td>281</td>\n",
              "      <td>63</td>\n",
              "      <td>290</td>\n",
              "      <td>09/14/2021 7:30</td>\n",
              "      <td>0</td>\n",
              "      <td>anxiety</td>\n",
              "      <td>nairobi</td>\n",
              "      <td>munenekimathi zablonorina bp normal yes check ...</td>\n",
              "    </tr>\n",
              "    <tr>\n",
              "      <th>3</th>\n",
              "      <td>4</td>\n",
              "      <td>220</td>\n",
              "      <td>2052</td>\n",
              "      <td>37982</td>\n",
              "      <td>09/14/2021 7:02</td>\n",
              "      <td>0</td>\n",
              "      <td>anxiety</td>\n",
              "      <td>nairobi kenya</td>\n",
              "      <td>deal anxious share experience anxiety yvonne m...</td>\n",
              "    </tr>\n",
              "    <tr>\n",
              "      <th>4</th>\n",
              "      <td>5</td>\n",
              "      <td>857</td>\n",
              "      <td>272</td>\n",
              "      <td>650</td>\n",
              "      <td>09/14/2021 7:00</td>\n",
              "      <td>2</td>\n",
              "      <td>general tweet</td>\n",
              "      <td>nairobi</td>\n",
              "      <td>know dry spell cause anxiety depression even s...</td>\n",
              "    </tr>\n",
              "  </tbody>\n",
              "</table>\n",
              "</div>"
            ],
            "text/plain": [
              "   Unnamed: 0  ...                                         clean_text\n",
              "0           1  ...  bunmo multi item stretchy string fidget toy pk...\n",
              "1           2  ...  unkonfined basic motivation behind behavior bi...\n",
              "2           3  ...  munenekimathi zablonorina bp normal yes check ...\n",
              "3           4  ...  deal anxious share experience anxiety yvonne m...\n",
              "4           5  ...  know dry spell cause anxiety depression even s...\n",
              "\n",
              "[5 rows x 9 columns]"
            ]
          },
          "metadata": {},
          "execution_count": 9
        }
      ]
    },
    {
      "cell_type": "code",
      "metadata": {
        "colab": {
          "base_uri": "https://localhost:8080/"
        },
        "id": "9PYtz3VTmJvK",
        "outputId": "96986d8f-6949-41f0-ba53-9cfe71a2bcd2"
      },
      "source": [
        "df.columns"
      ],
      "execution_count": 10,
      "outputs": [
        {
          "output_type": "execute_result",
          "data": {
            "text/plain": [
              "Index(['Unnamed: 0', 'friends_count', 'followers_count', 'statuses_count',\n",
              "       'created_at', 'retweet_count', 'label', 'town', 'clean_text'],\n",
              "      dtype='object')"
            ]
          },
          "metadata": {},
          "execution_count": 10
        }
      ]
    },
    {
      "cell_type": "code",
      "metadata": {
        "colab": {
          "base_uri": "https://localhost:8080/",
          "height": 302
        },
        "id": "wPWAKW_fnzcA",
        "outputId": "199d8fbf-3ef6-4e55-aec3-352934bd40a8"
      },
      "source": [
        "df.head()"
      ],
      "execution_count": 11,
      "outputs": [
        {
          "output_type": "execute_result",
          "data": {
            "text/html": [
              "<div>\n",
              "<style scoped>\n",
              "    .dataframe tbody tr th:only-of-type {\n",
              "        vertical-align: middle;\n",
              "    }\n",
              "\n",
              "    .dataframe tbody tr th {\n",
              "        vertical-align: top;\n",
              "    }\n",
              "\n",
              "    .dataframe thead th {\n",
              "        text-align: right;\n",
              "    }\n",
              "</style>\n",
              "<table border=\"1\" class=\"dataframe\">\n",
              "  <thead>\n",
              "    <tr style=\"text-align: right;\">\n",
              "      <th></th>\n",
              "      <th>Unnamed: 0</th>\n",
              "      <th>friends_count</th>\n",
              "      <th>followers_count</th>\n",
              "      <th>statuses_count</th>\n",
              "      <th>created_at</th>\n",
              "      <th>retweet_count</th>\n",
              "      <th>label</th>\n",
              "      <th>town</th>\n",
              "      <th>clean_text</th>\n",
              "    </tr>\n",
              "  </thead>\n",
              "  <tbody>\n",
              "    <tr>\n",
              "      <th>0</th>\n",
              "      <td>1</td>\n",
              "      <td>182</td>\n",
              "      <td>83</td>\n",
              "      <td>6950</td>\n",
              "      <td>09/14/2021 7:47</td>\n",
              "      <td>0</td>\n",
              "      <td>anxiety</td>\n",
              "      <td>burundi</td>\n",
              "      <td>bunmo multi item stretchy string fidget toy pk...</td>\n",
              "    </tr>\n",
              "    <tr>\n",
              "      <th>1</th>\n",
              "      <td>2</td>\n",
              "      <td>983</td>\n",
              "      <td>915</td>\n",
              "      <td>12944</td>\n",
              "      <td>09/14/2021 7:31</td>\n",
              "      <td>0</td>\n",
              "      <td>anxiety</td>\n",
              "      <td>kenya</td>\n",
              "      <td>unkonfined basic motivation behind behavior bi...</td>\n",
              "    </tr>\n",
              "    <tr>\n",
              "      <th>2</th>\n",
              "      <td>3</td>\n",
              "      <td>281</td>\n",
              "      <td>63</td>\n",
              "      <td>290</td>\n",
              "      <td>09/14/2021 7:30</td>\n",
              "      <td>0</td>\n",
              "      <td>anxiety</td>\n",
              "      <td>nairobi</td>\n",
              "      <td>munenekimathi zablonorina bp normal yes check ...</td>\n",
              "    </tr>\n",
              "    <tr>\n",
              "      <th>3</th>\n",
              "      <td>4</td>\n",
              "      <td>220</td>\n",
              "      <td>2052</td>\n",
              "      <td>37982</td>\n",
              "      <td>09/14/2021 7:02</td>\n",
              "      <td>0</td>\n",
              "      <td>anxiety</td>\n",
              "      <td>nairobi kenya</td>\n",
              "      <td>deal anxious share experience anxiety yvonne m...</td>\n",
              "    </tr>\n",
              "    <tr>\n",
              "      <th>4</th>\n",
              "      <td>5</td>\n",
              "      <td>857</td>\n",
              "      <td>272</td>\n",
              "      <td>650</td>\n",
              "      <td>09/14/2021 7:00</td>\n",
              "      <td>2</td>\n",
              "      <td>general tweet</td>\n",
              "      <td>nairobi</td>\n",
              "      <td>know dry spell cause anxiety depression even s...</td>\n",
              "    </tr>\n",
              "  </tbody>\n",
              "</table>\n",
              "</div>"
            ],
            "text/plain": [
              "   Unnamed: 0  ...                                         clean_text\n",
              "0           1  ...  bunmo multi item stretchy string fidget toy pk...\n",
              "1           2  ...  unkonfined basic motivation behind behavior bi...\n",
              "2           3  ...  munenekimathi zablonorina bp normal yes check ...\n",
              "3           4  ...  deal anxious share experience anxiety yvonne m...\n",
              "4           5  ...  know dry spell cause anxiety depression even s...\n",
              "\n",
              "[5 rows x 9 columns]"
            ]
          },
          "metadata": {},
          "execution_count": 11
        }
      ]
    },
    {
      "cell_type": "code",
      "metadata": {
        "id": "I0i_3TGfoUGV"
      },
      "source": [
        "#df.to_csv('clean classified data.csv')"
      ],
      "execution_count": 12,
      "outputs": []
    },
    {
      "cell_type": "code",
      "metadata": {
        "id": "FC2nwWRk2lBT"
      },
      "source": [
        ""
      ],
      "execution_count": 12,
      "outputs": []
    },
    {
      "cell_type": "code",
      "metadata": {
        "colab": {
          "base_uri": "https://localhost:8080/"
        },
        "id": "e0F0cSzKtLC9",
        "outputId": "4e15bbf4-2934-4e30-e427-d8f9b99a4973"
      },
      "source": [
        "df['label']"
      ],
      "execution_count": 13,
      "outputs": [
        {
          "output_type": "execute_result",
          "data": {
            "text/plain": [
              "0             anxiety\n",
              "1             anxiety\n",
              "2             anxiety\n",
              "3             anxiety\n",
              "4       general tweet\n",
              "            ...      \n",
              "4167       depression\n",
              "4168       depression\n",
              "4169        awareness\n",
              "4170    general tweet\n",
              "4171       depression\n",
              "Name: label, Length: 4172, dtype: object"
            ]
          },
          "metadata": {},
          "execution_count": 13
        }
      ]
    },
    {
      "cell_type": "code",
      "metadata": {
        "id": "N3FsKzxGYCx1"
      },
      "source": [
        "df.dropna(inplace=True)"
      ],
      "execution_count": 14,
      "outputs": []
    },
    {
      "cell_type": "code",
      "metadata": {
        "id": "R8znjJJrxyky"
      },
      "source": [
        "from keras.preprocessing.text import Tokenizer\n",
        "tokenizer = Tokenizer()\n",
        "tokenizer.fit_on_texts(df['clean_text'])\n",
        "\n",
        "\n",
        "vocab_size = len(tokenizer.word_index) + 1  # Adding 1 because of reserved 0 index"
      ],
      "execution_count": 15,
      "outputs": []
    },
    {
      "cell_type": "markdown",
      "metadata": {
        "id": "p_b8q01drwqY"
      },
      "source": [
        "EDA"
      ]
    },
    {
      "cell_type": "code",
      "metadata": {
        "colab": {
          "base_uri": "https://localhost:8080/",
          "height": 698
        },
        "id": "hUgLaDZVtvqn",
        "outputId": "15b697bd-ca19-446b-bc84-e12c29d0e6f8"
      },
      "source": [
        "#check the class distriburion\n",
        "import seaborn as sns\n",
        "import matplotlib.pyplot as plt\n",
        "print(df['label'].value_counts())\n",
        "x=df['label'].value_counts()\n",
        "f, ax = plt.subplots(figsize=(10, 8))\n",
        "sns.barplot(x.index,x)\n",
        "plt.gca().set_ylabel('class size')"
      ],
      "execution_count": 16,
      "outputs": [
        {
          "output_type": "stream",
          "name": "stdout",
          "text": [
            "general tweet      2610\n",
            "awareness           478\n",
            "anxiety             357\n",
            "depression          355\n",
            "substance abuse     134\n",
            "thoughts            129\n",
            "stress              109\n",
            "Name: label, dtype: int64\n"
          ]
        },
        {
          "output_type": "stream",
          "name": "stderr",
          "text": [
            "/usr/local/lib/python3.7/dist-packages/seaborn/_decorators.py:43: FutureWarning: Pass the following variables as keyword args: x, y. From version 0.12, the only valid positional argument will be `data`, and passing other arguments without an explicit keyword will result in an error or misinterpretation.\n",
            "  FutureWarning\n"
          ]
        },
        {
          "output_type": "execute_result",
          "data": {
            "text/plain": [
              "Text(0, 0.5, 'class size')"
            ]
          },
          "metadata": {},
          "execution_count": 16
        },
        {
          "output_type": "display_data",
          "data": {
            "image/png": "[encoded data removed]",
            "text/plain": [
              "<Figure size 720x576 with 1 Axes>"
            ]
          },
          "metadata": {
            "needs_background": "light"
          }
        }
      ]
    },
    {
      "cell_type": "code",
      "metadata": {
        "id": "ZCbK2jmpn0j5"
      },
      "source": [
        "# from sklearn import preprocessing\n",
        "# le = preprocessing.LabelEncoder()\n",
        "# df['class1'] = le.fit_transform(df['class'])"
      ],
      "execution_count": 17,
      "outputs": []
    },
    {
      "cell_type": "code",
      "metadata": {
        "colab": {
          "base_uri": "https://localhost:8080/"
        },
        "id": "QU70TjKjv3lP",
        "outputId": "9dc2f63e-4b0c-48a4-c2b9-42168ef95743"
      },
      "source": [
        "! pip install wordcloud"
      ],
      "execution_count": 18,
      "outputs": [
        {
          "output_type": "stream",
          "name": "stdout",
          "text": [
            "Requirement already satisfied: wordcloud in /usr/local/lib/python3.7/dist-packages (1.5.0)\n",
            "Requirement already satisfied: numpy>=1.6.1 in /usr/local/lib/python3.7/dist-packages (from wordcloud) (1.19.5)\n",
            "Requirement already satisfied: pillow in /usr/local/lib/python3.7/dist-packages (from wordcloud) (7.1.2)\n"
          ]
        }
      ]
    },
    {
      "cell_type": "code",
      "metadata": {
        "id": "hPH--4DWv8T2"
      },
      "source": [
        "# from wordcloud import WordCloud\n",
        "# import matplotlib.pyplot as plt\n",
        "# wc = WordCloud()\n",
        "# wc.generate(df.clean_text)\n",
        "# plt.imshow(wc, interpolation=\"bilinear\")\n",
        "# plt.axis('off')\n",
        "# plt.show()"
      ],
      "execution_count": 19,
      "outputs": []
    },
    {
      "cell_type": "markdown",
      "metadata": {
        "id": "z2e_PYE53wV0"
      },
      "source": [
        "## Dealing with class imbalance"
      ]
    },
    {
      "cell_type": "code",
      "metadata": {
        "id": "-IuflS2S3ya7"
      },
      "source": [
        "import tensorflow as tf\n",
        "import os\n",
        "import datetime\n",
        "import tensorflow_hub as hub\n",
        "from __future__ import absolute_import,division,print_function,unicode_literals"
      ],
      "execution_count": 20,
      "outputs": []
    },
    {
      "cell_type": "code",
      "metadata": {
        "colab": {
          "base_uri": "https://localhost:8080/"
        },
        "id": "PNVobV773JYx",
        "outputId": "5b0bcedf-cd6b-4bb1-f742-5422bf173fb9"
      },
      "source": [
        "# Get the counts of the target classes\n",
        "df['label'].value_counts()"
      ],
      "execution_count": 21,
      "outputs": [
        {
          "output_type": "execute_result",
          "data": {
            "text/plain": [
              "general tweet      2610\n",
              "awareness           478\n",
              "anxiety             357\n",
              "depression          355\n",
              "substance abuse     134\n",
              "thoughts            129\n",
              "stress              109\n",
              "Name: label, dtype: int64"
            ]
          },
          "metadata": {},
          "execution_count": 21
        }
      ]
    },
    {
      "cell_type": "code",
      "metadata": {
        "id": "SHRncDG-2qWF"
      },
      "source": [
        "# We split the dataset to train and test datasets, 80/20 split \n",
        "X_train,X_test,y_train,y_test=train_test_split(df,df[\"label\"],test_size=0.2,random_state=111,)"
      ],
      "execution_count": 22,
      "outputs": []
    },
    {
      "cell_type": "markdown",
      "metadata": {
        "id": "HcUPYyEdCaNa"
      },
      "source": [
        "We are going to assign class weights to deal with imbalance. Due to the difference in each class, the algorithms tend to get biased towards the majority values present and don’t perform well on the minority values.\n",
        "\n",
        "The difference in weights will influence the classification of the classes during the training phase. The whole purpose is to penalize the misclassification made by the minority class by setting a higher class weight and at the same time reducing weight for the majority class. "
      ]
    },
    {
      "cell_type": "code",
      "metadata": {
        "id": "ge935DLv1yhm"
      },
      "source": [
        "# We compute classweights\n",
        "from sklearn.utils import class_weight\n",
        "class_weights=list(class_weight.compute_class_weight('balanced',np.unique(df['label']),df['label']))"
      ],
      "execution_count": 23,
      "outputs": []
    },
    {
      "cell_type": "code",
      "metadata": {
        "colab": {
          "base_uri": "https://localhost:8080/"
        },
        "id": "wOTbFqws2dpk",
        "outputId": "197140eb-872d-407c-deb9-a1263bc08ac2"
      },
      "source": [
        "# We sort the class weights \n",
        "class_weights.sort()\n",
        "class_weights"
      ],
      "execution_count": 24,
      "outputs": [
        {
          "output_type": "execute_result",
          "data": {
            "text/plain": [
              "[0.22835249042145594,\n",
              " 1.2468619246861925,\n",
              " 1.669467787114846,\n",
              " 1.6788732394366197,\n",
              " 4.447761194029851,\n",
              " 4.62015503875969,\n",
              " 5.467889908256881]"
            ]
          },
          "metadata": {},
          "execution_count": 24
        }
      ]
    },
    {
      "cell_type": "code",
      "metadata": {
        "id": "5eeOknj42grd"
      },
      "source": [
        "# we encode the target classes and assigning the class weights to each class index\n",
        "weights={}\n",
        "for index, weight in enumerate(class_weights):\n",
        "  weights[index]=weight"
      ],
      "execution_count": 25,
      "outputs": []
    },
    {
      "cell_type": "code",
      "metadata": {
        "colab": {
          "base_uri": "https://localhost:8080/"
        },
        "id": "lN-OMfp43iTW",
        "outputId": "3972567f-988d-48f8-bf3c-2454109d7608"
      },
      "source": [
        "weights"
      ],
      "execution_count": 26,
      "outputs": [
        {
          "output_type": "execute_result",
          "data": {
            "text/plain": [
              "{0: 0.22835249042145594,\n",
              " 1: 1.2468619246861925,\n",
              " 2: 1.669467787114846,\n",
              " 3: 1.6788732394366197,\n",
              " 4: 4.447761194029851,\n",
              " 5: 4.62015503875969,\n",
              " 6: 5.467889908256881}"
            ]
          },
          "metadata": {},
          "execution_count": 26
        }
      ]
    },
    {
      "cell_type": "code",
      "metadata": {
        "colab": {
          "base_uri": "https://localhost:8080/"
        },
        "id": "kL3jbvWq6jkz",
        "outputId": "b4d2f4e5-d654-41d3-9ab1-44920fd24153"
      },
      "source": [
        "#  Check the columns\n",
        "df.columns"
      ],
      "execution_count": 27,
      "outputs": [
        {
          "output_type": "execute_result",
          "data": {
            "text/plain": [
              "Index(['Unnamed: 0', 'friends_count', 'followers_count', 'statuses_count',\n",
              "       'created_at', 'retweet_count', 'label', 'town', 'clean_text'],\n",
              "      dtype='object')"
            ]
          },
          "metadata": {},
          "execution_count": 27
        }
      ]
    },
    {
      "cell_type": "code",
      "metadata": {
        "id": "T8f-eC5t4GkN"
      },
      "source": [
        "# Coverting the datasets into tensors. We feed the input X value and product\n",
        "dataset_train=tf.data.Dataset.from_tensor_slices((X_train['clean_text'].values,X_train['label'].values))\n",
        "dataset_test=tf.data.Dataset.from_tensor_slices((X_test['clean_text'].values,X_test['label'].values))"
      ],
      "execution_count": 28,
      "outputs": []
    },
    {
      "cell_type": "code",
      "metadata": {
        "id": "_J0REEtp6cAT"
      },
      "source": [
        "# Coverting the datasets into tensors. We feed the input X value and product\n",
        "dataset_train=tf.data.Dataset.from_tensor_slices((X_train['clean_text'].values,X_train['label'].values))\n",
        "dataset_test=tf.data.Dataset.from_tensor_slices((X_test['clean_text'].values,X_test['label'].values))"
      ],
      "execution_count": 29,
      "outputs": []
    },
    {
      "cell_type": "code",
      "metadata": {
        "colab": {
          "base_uri": "https://localhost:8080/"
        },
        "id": "WkArLUej4lFc",
        "outputId": "075347f0-5113-4870-bf2a-47bb369ff7a5"
      },
      "source": [
        "# Print text and target columns\n",
        "for text, target in dataset_train.take(5):\n",
        "  print('Tweet:{},Target:{}'.format(text,target))\n",
        "print('************************')\n",
        "for text, target in dataset_test.take(5):\n",
        "  print('Tweet:{},Target:{}'.format(text,target))"
      ],
      "execution_count": 30,
      "outputs": [
        {
          "output_type": "stream",
          "name": "stdout",
          "text": [
            "Tweet:b'shed weight depression agoraphobia fuelprices bahati moses kuria kibaki bure k',Target:b'depression'\n",
            "Tweet:b'poghie esquire say woman sport kenya best shot make u global house hold name chos',Target:b'general tweet'\n",
            "Tweet:b'pulitzer kenny depress rain sound like sad weather',Target:b'depression'\n",
            "Tweet:b'ehiga go nairobi woman adams one get isolation ward isolate home w',Target:b'general tweet'\n",
            "Tweet:b'junetmohamed baba look tire depressed',Target:b'depression'\n",
            "************************\n",
            "Tweet:b'kalindamwene rugusuki absolutely exactly point except anxiety knowing',Target:b'general tweet'\n",
            "Tweet:b'globally people die suicide year rate suicide men twice high compare',Target:b'awareness'\n",
            "Tweet:b'chronic stress lead insomnia anxiety change appetite high blood pressure also cause grey accord',Target:b'anxiety'\n",
            "Tweet:b'bunmo multi item stretchy string fidget toy pk calm sensory stretchy string anxiety relief item',Target:b'anxiety'\n",
            "Tweet:b'dr eric njuguna psychiatrist globally kenya regard suicideover kenyan last thr',Target:b'general tweet'\n"
          ]
        }
      ]
    },
    {
      "cell_type": "code",
      "metadata": {
        "colab": {
          "base_uri": "https://localhost:8080/"
        },
        "id": "nmfVD16YBkWR",
        "outputId": "d074328f-c89a-4c92-853b-09f3efbb1d21"
      },
      "source": [
        "df['label'].unique()"
      ],
      "execution_count": 31,
      "outputs": [
        {
          "output_type": "execute_result",
          "data": {
            "text/plain": [
              "array(['anxiety', 'general tweet', 'awareness', 'depression',\n",
              "       'substance abuse', 'thoughts', 'stress'], dtype=object)"
            ]
          },
          "metadata": {},
          "execution_count": 31
        }
      ]
    },
    {
      "cell_type": "code",
      "metadata": {
        "id": "b9m76O2f6LnI"
      },
      "source": [
        "# Convert target column from string to numerical using tensorflow lookup hash table\n",
        "table=tf.lookup.StaticHashTable(\n",
        "    initializer=tf.lookup.KeyValueTensorInitializer(\n",
        "        keys=tf.constant(['general tweet', 'suicidal thoughts', 'awareness', 'anxiety',\n",
        "       'depression', 'substance abuse', 'stress']),\n",
        "        values=tf.constant([0,1,2,3,4,5,6]),\n",
        "    ),\n",
        "    default_value=tf.constant(-1),\n",
        "    name='target_encoding'\n",
        ")\n",
        "@tf.function #converts regular python code to a callable Tensorflow graph function, \n",
        "              #which is usually more performant and python independent\n",
        "def target(x):\n",
        "  return table.lookup(x)"
      ],
      "execution_count": 32,
      "outputs": []
    },
    {
      "cell_type": "code",
      "metadata": {
        "id": "sbvok71x7ipY"
      },
      "source": [
        "# Callable fi=unction that returns the class of text\n",
        "def show_batch(dataset,size=5):\n",
        "  for batch,label in dataset.take(size):\n",
        "    print(batch.numpy())\n",
        "    print(target(label).numpy())"
      ],
      "execution_count": 33,
      "outputs": []
    },
    {
      "cell_type": "code",
      "metadata": {
        "colab": {
          "base_uri": "https://localhost:8080/"
        },
        "id": "fyHsKuPB79Iy",
        "outputId": "6d3c7c8c-0148-4c6c-c0cb-c91e35e9afb1"
      },
      "source": [
        "show_batch(dataset_test,5)"
      ],
      "execution_count": 34,
      "outputs": [
        {
          "output_type": "stream",
          "name": "stdout",
          "text": [
            "b'kalindamwene rugusuki absolutely exactly point except anxiety knowing'\n",
            "0\n",
            "b'globally people die suicide year rate suicide men twice high compare'\n",
            "2\n",
            "b'chronic stress lead insomnia anxiety change appetite high blood pressure also cause grey accord'\n",
            "3\n",
            "b'bunmo multi item stretchy string fidget toy pk calm sensory stretchy string anxiety relief item'\n",
            "3\n",
            "b'dr eric njuguna psychiatrist globally kenya regard suicideover kenyan last thr'\n",
            "0\n"
          ]
        }
      ]
    },
    {
      "cell_type": "markdown",
      "metadata": {
        "id": "ufdVFRTBHtR2"
      },
      "source": [
        "We can print n-rows of target column and their target classes"
      ]
    },
    {
      "cell_type": "code",
      "metadata": {
        "id": "U-xZiPwm_tvp"
      },
      "source": [
        "# Creating a fetch function to pass and return text value as is. Also we one encode the target value\n",
        "def fetch(text,labels):\n",
        "  return text,tf.one_hot(target(labels),7)"
      ],
      "execution_count": 35,
      "outputs": []
    },
    {
      "cell_type": "code",
      "metadata": {
        "id": "abdNHVPBAFH8"
      },
      "source": [
        "\n",
        "# Map the fetch function to the train and test dataset \n",
        "train_data_f=dataset_train.map(fetch)\n",
        "test_data_f=dataset_test.map(fetch)"
      ],
      "execution_count": 36,
      "outputs": []
    },
    {
      "cell_type": "code",
      "metadata": {
        "colab": {
          "base_uri": "https://localhost:8080/"
        },
        "id": "Ysw-fnsGAOd7",
        "outputId": "ffd194f4-7027-44de-9df0-89dbf9629d06"
      },
      "source": [
        "next(iter(train_data_f))"
      ],
      "execution_count": 37,
      "outputs": [
        {
          "output_type": "execute_result",
          "data": {
            "text/plain": [
              "(<tf.Tensor: shape=(), dtype=string, numpy=b'shed weight depression agoraphobia fuelprices bahati moses kuria kibaki bure k'>,\n",
              " <tf.Tensor: shape=(7,), dtype=float32, numpy=array([0., 0., 0., 0., 1., 0., 0.], dtype=float32)>)"
            ]
          },
          "metadata": {},
          "execution_count": 37
        }
      ]
    },
    {
      "cell_type": "code",
      "metadata": {
        "colab": {
          "base_uri": "https://localhost:8080/"
        },
        "id": "T3OBpE4RAZ5g",
        "outputId": "c9fa3e3f-27ce-48a3-ab5a-4da7077355e8"
      },
      "source": [
        "# Creates batches of tensors in tensors\n",
        "train_data,train_labels=next(iter(train_data_f.batch(5)))\n",
        "train_data,train_labels"
      ],
      "execution_count": 38,
      "outputs": [
        {
          "output_type": "execute_result",
          "data": {
            "text/plain": [
              "(<tf.Tensor: shape=(5,), dtype=string, numpy=\n",
              " array([b'shed weight depression agoraphobia fuelprices bahati moses kuria kibaki bure k',\n",
              "        b'poghie esquire say woman sport kenya best shot make u global house hold name chos',\n",
              "        b'pulitzer kenny depress rain sound like sad weather',\n",
              "        b'ehiga go nairobi woman adams one get isolation ward isolate home w',\n",
              "        b'junetmohamed baba look tire depressed'], dtype=object)>,\n",
              " <tf.Tensor: shape=(5, 7), dtype=float32, numpy=\n",
              " array([[0., 0., 0., 0., 1., 0., 0.],\n",
              "        [1., 0., 0., 0., 0., 0., 0.],\n",
              "        [0., 0., 0., 0., 1., 0., 0.],\n",
              "        [1., 0., 0., 0., 0., 0., 0.],\n",
              "        [0., 0., 0., 0., 1., 0., 0.]], dtype=float32)>)"
            ]
          },
          "metadata": {},
          "execution_count": 38
        }
      ]
    },
    {
      "cell_type": "code",
      "metadata": {
        "colab": {
          "base_uri": "https://localhost:8080/"
        },
        "id": "yZ8_T2hWBGeo",
        "outputId": "b8ad5565-93e8-4252-9ef7-a193963a5afc"
      },
      "source": [
        "# Creating a embedding layer by using pretrained embedding layer to enable us to convert each word into a fixed length vector of defined size\n",
        "embedding='https://tfhub.dev/google/tf2-preview/nnlm-en-dim128/1'\n",
        "hub_layer=hub.KerasLayer(embedding,output_shape=[128],input_shape=[],\n",
        "                        dtype=tf.string,trainable=True)# The output shape is 128\n",
        "hub_layer(train_data[:1])"
      ],
      "execution_count": 39,
      "outputs": [
        {
          "output_type": "execute_result",
          "data": {
            "text/plain": [
              "<tf.Tensor: shape=(1, 128), dtype=float32, numpy=\n",
              "array([[-0.32690626, -0.04046366, -0.04208031, -0.10721476, -0.02498217,\n",
              "        -0.0331523 , -0.21422257,  0.00561956, -0.09913614,  0.19483371,\n",
              "         0.16916531,  0.1086879 ,  0.06891395,  0.01582433,  0.06246696,\n",
              "        -0.22254592, -0.04703877, -0.06170458, -0.15699711, -0.20644449,\n",
              "        -0.06947882, -0.03513756, -0.04203346, -0.12619421, -0.10642936,\n",
              "        -0.01949831, -0.04432891,  0.12908904, -0.11591989, -0.15672106,\n",
              "         0.14061436,  0.06818625,  0.05527182,  0.07663406, -0.03860941,\n",
              "         0.00572619,  0.03424008, -0.02145527,  0.18746594,  0.00054167,\n",
              "        -0.25896645, -0.18225539, -0.05943421,  0.05793254,  0.02453846,\n",
              "         0.01659108,  0.04918219,  0.18786849, -0.03822126,  0.02699505,\n",
              "         0.15340593, -0.02443002, -0.17780729, -0.08656345,  0.05898007,\n",
              "         0.03575388, -0.10581801, -0.15648519, -0.10362724,  0.12447459,\n",
              "         0.0636428 , -0.08365341, -0.03549648, -0.0189582 ,  0.12746353,\n",
              "        -0.01377386,  0.11354086, -0.0138074 ,  0.04613042,  0.07714465,\n",
              "        -0.23539557,  0.04462117,  0.38430476,  0.0835811 ,  0.00399743,\n",
              "        -0.16318801,  0.05098013, -0.14069343,  0.03328018,  0.0452551 ,\n",
              "        -0.03758142, -0.08097398, -0.16106196, -0.0405849 , -0.13858365,\n",
              "        -0.13859758, -0.07227777, -0.00978839,  0.03547261,  0.01549884,\n",
              "        -0.02041326,  0.03770304,  0.03161915,  0.19446093,  0.00652941,\n",
              "         0.01507705, -0.00734003,  0.11899218, -0.04187008, -0.05299675,\n",
              "         0.08337406, -0.09225754,  0.00221265, -0.06342395, -0.02761702,\n",
              "        -0.0812122 , -0.04815727, -0.02874076, -0.06216283,  0.04988174,\n",
              "        -0.09207738,  0.07520887, -0.01530454, -0.01853639, -0.23566712,\n",
              "         0.12226281,  0.02573683, -0.30959466, -0.26252478,  0.0057812 ,\n",
              "         0.07623523,  0.0832873 ,  0.04495182, -0.1300933 , -0.16128667,\n",
              "         0.00758291,  0.0392056 , -0.05912745]], dtype=float32)>"
            ]
          },
          "metadata": {},
          "execution_count": 39
        }
      ]
    },
    {
      "cell_type": "code",
      "metadata": {
        "colab": {
          "base_uri": "https://localhost:8080/"
        },
        "id": "BITcisXQDNMT",
        "outputId": "6b1982fa-9b7a-4a12-bd33-b153c5924d81"
      },
      "source": [
        "# We create a keras sequential model.\n",
        "# Sequential groups a linear stack of layers into a tf.keras.Model.\n",
        "# Sequential provides training and inference features on this model.\n",
        "\n",
        "model=tf.keras.Sequential()\n",
        "model.add(hub_layer)\n",
        "for units in [128,128,64,32]:\n",
        "  model.add(tf.keras.layers.Dense(units,activation='relu'))\n",
        "  model.add(tf.keras.layers.Dropout(0.3))\n",
        "\n",
        "# We specify the output as 6 predicted values \n",
        "model.add(tf.keras.layers.Dense(7,activation='softmax'))\n",
        "\n",
        "model.summary()"
      ],
      "execution_count": 40,
      "outputs": [
        {
          "output_type": "stream",
          "name": "stdout",
          "text": [
            "Model: \"sequential\"\n",
            "_________________________________________________________________\n",
            "Layer (type)                 Output Shape              Param #   \n",
            "=================================================================\n",
            "keras_layer (KerasLayer)     (None, 128)               124642688 \n",
            "_________________________________________________________________\n",
            "dense (Dense)                (None, 128)               16512     \n",
            "_________________________________________________________________\n",
            "dropout (Dropout)            (None, 128)               0         \n",
            "_________________________________________________________________\n",
            "dense_1 (Dense)              (None, 128)               16512     \n",
            "_________________________________________________________________\n",
            "dropout_1 (Dropout)          (None, 128)               0         \n",
            "_________________________________________________________________\n",
            "dense_2 (Dense)              (None, 64)                8256      \n",
            "_________________________________________________________________\n",
            "dropout_2 (Dropout)          (None, 64)                0         \n",
            "_________________________________________________________________\n",
            "dense_3 (Dense)              (None, 32)                2080      \n",
            "_________________________________________________________________\n",
            "dropout_3 (Dropout)          (None, 32)                0         \n",
            "_________________________________________________________________\n",
            "dense_4 (Dense)              (None, 7)                 231       \n",
            "=================================================================\n",
            "Total params: 124,686,279\n",
            "Trainable params: 124,686,279\n",
            "Non-trainable params: 0\n",
            "_________________________________________________________________\n"
          ]
        }
      ]
    },
    {
      "cell_type": "code",
      "metadata": {
        "colab": {
          "base_uri": "https://localhost:8080/",
          "height": 135
        },
        "id": "RXHOVzWJxG6R",
        "outputId": "2b3c4512-ef94-4df9-a0b4-26fe103ff9cf"
      },
      "source": [
        "# #Initialize wandb\n",
        "\n",
        "wandb.init(project='gpt3', entity='alpha-coders',save_code=True)\n",
        "config={  # and include hyperparameters and metadata\n",
        "                      \"epochs\": 10,\n",
        "                      \"batch_size\": 512,\n",
        "                      \"architecture\": \"RNN\",\n",
        "                      \"loss_function\": \"categorical_crossentropy\",'sparcse'\n",
        "                      'optimizer':'adam'}\n",
        "# 2. Save model inputs and hyperparameters\n",
        "config = wandb.config\n",
        "config.learning_rate = 0.005"
      ],
      "execution_count": 41,
      "outputs": [
        {
          "output_type": "stream",
          "name": "stderr",
          "text": [
            "\u001b[34m\u001b[1mwandb\u001b[0m: Currently logged in as: \u001b[33mkanoak\u001b[0m (use `wandb login --relogin` to force relogin)\n"
          ]
        },
        {
          "output_type": "display_data",
          "data": {
            "text/html": [
              "\n",
              "                Tracking run with wandb version 0.12.2<br/>\n",
              "                Syncing run <strong style=\"color:#cdcd00\">still-fire-54</strong> to <a href=\"https://wandb.ai\" target=\"_blank\">Weights & Biases</a> <a href=\"https://docs.wandb.com/integrations/jupyter.html\" target=\"_blank\">(Documentation)</a>.<br/>\n",
              "                Project page: <a href=\"https://wandb.ai/alpha-coders/gpt3\" target=\"_blank\">https://wandb.ai/alpha-coders/gpt3</a><br/>\n",
              "                Run page: <a href=\"https://wandb.ai/alpha-coders/gpt3/runs/uvus2plh\" target=\"_blank\">https://wandb.ai/alpha-coders/gpt3/runs/uvus2plh</a><br/>\n",
              "                Run data is saved locally in <code>/content/wandb/run-20210927_111634-uvus2plh</code><br/><br/>\n",
              "            "
            ],
            "text/plain": [
              "<IPython.core.display.HTML object>"
            ]
          },
          "metadata": {}
        }
      ]
    },
    {
      "cell_type": "code",
      "metadata": {
        "id": "KI4C3PBWVL4M"
      },
      "source": [
        "# # Initialize wandb with your project name\n",
        "# run = wandb.init(project='my-keras-integration',\n",
        "#                  config={  # and include hyperparameters and metadata\n",
        "#                      \"learning_rate\": 0.01,\n",
        "#                      \"epochs\": 20,\n",
        "#                      \"batch_size\": 128,\n",
        "#                      \"loss_function\": \"sparce categorical_crossentropy\",\n",
        "#                      \"architecture\": \"RNN\",\n",
        "#                      \"dataset\": \"df\"\n",
        "#                      })"
      ],
      "execution_count": 42,
      "outputs": []
    },
    {
      "cell_type": "code",
      "metadata": {
        "colab": {
          "base_uri": "https://localhost:8080/"
        },
        "id": "uw12IBRVEHzA",
        "outputId": "2b30d10b-6a21-4aa8-cd64-77236953d673"
      },
      "source": [
        "\n",
        "# We compile using adam optimizer\n",
        "config = wandb.config  # We'll use this to configure our experiment\n",
        "tf.keras.backend.clear_session()\n",
        "\n",
        "model.summary()\n",
        "model.compile(optimizer=tf.keras.optimizers.Adam(config.learning_rate),\n",
        "              loss=tf.keras.losses.CategoricalCrossentropy(from_logits=True),\n",
        "              metrics=[tf.keras.metrics.Recall()])\n"
      ],
      "execution_count": 43,
      "outputs": [
        {
          "output_type": "stream",
          "name": "stdout",
          "text": [
            "Model: \"sequential\"\n",
            "_________________________________________________________________\n",
            "Layer (type)                 Output Shape              Param #   \n",
            "=================================================================\n",
            "keras_layer (KerasLayer)     (None, 128)               124642688 \n",
            "_________________________________________________________________\n",
            "dense (Dense)                (None, 128)               16512     \n",
            "_________________________________________________________________\n",
            "dropout (Dropout)            (None, 128)               0         \n",
            "_________________________________________________________________\n",
            "dense_1 (Dense)              (None, 128)               16512     \n",
            "_________________________________________________________________\n",
            "dropout_1 (Dropout)          (None, 128)               0         \n",
            "_________________________________________________________________\n",
            "dense_2 (Dense)              (None, 64)                8256      \n",
            "_________________________________________________________________\n",
            "dropout_2 (Dropout)          (None, 64)                0         \n",
            "_________________________________________________________________\n",
            "dense_3 (Dense)              (None, 32)                2080      \n",
            "_________________________________________________________________\n",
            "dropout_3 (Dropout)          (None, 32)                0         \n",
            "_________________________________________________________________\n",
            "dense_4 (Dense)              (None, 7)                 231       \n",
            "=================================================================\n",
            "Total params: 124,686,279\n",
            "Trainable params: 124,686,279\n",
            "Non-trainable params: 0\n",
            "_________________________________________________________________\n"
          ]
        }
      ]
    },
    {
      "cell_type": "markdown",
      "metadata": {
        "id": "GpVvvzQYMCYV"
      },
      "source": [
        "We will evaluate the model using different metrics"
      ]
    },
    {
      "cell_type": "code",
      "metadata": {
        "id": "nGWJkJQsEc70"
      },
      "source": [
        "# We shuffle and train the train and test data\n",
        "train_data_f=train_data_f.shuffle(70000).batch(512)\n",
        "test_data_f=test_data_f.batch(512)"
      ],
      "execution_count": 44,
      "outputs": []
    },
    {
      "cell_type": "code",
      "metadata": {
        "id": "V5wiY50UQMkS"
      },
      "source": [
        "\n",
        "# Create a copy of our model\n",
        "model2=model"
      ],
      "execution_count": 45,
      "outputs": []
    },
    {
      "cell_type": "code",
      "metadata": {
        "colab": {
          "base_uri": "https://localhost:8080/"
        },
        "id": "gSUYh7EzEuAj",
        "outputId": "508ac33a-2087-4e49-a405-e6d5165a65f7"
      },
      "source": [
        "# we train the data using 10 epochs and using class weights. bias is therefore introduced to the model and computed.\n",
        "# we will perform checks to ensure each class performs well\n",
        "history=model.fit(train_data_f,epochs=10,\n",
        "                  validation_data=test_data_f, \n",
        "                  verbose=2,\n",
        "                  callbacks=[WandbCallback()])\n",
        "#model.save(os.path.join(wandb.run.dir, \"model.h5\"))"
      ],
      "execution_count": 46,
      "outputs": [
        {
          "output_type": "stream",
          "name": "stdout",
          "text": [
            "Epoch 1/10\n"
          ]
        },
        {
          "output_type": "stream",
          "name": "stderr",
          "text": [
            "/usr/local/lib/python3.7/dist-packages/keras/backend.py:4847: UserWarning: \"`categorical_crossentropy` received `from_logits=True`, but the `output` argument was produced by a sigmoid or softmax activation and thus does not represent logits. Was this intended?\"\n",
            "  '\"`categorical_crossentropy` received `from_logits=True`, but '\n"
          ]
        },
        {
          "output_type": "stream",
          "name": "stdout",
          "text": [
            "7/7 - 13s - loss: 1.5813 - recall: 0.1956 - val_loss: 1.1585 - val_recall: 0.5849\n",
            "Epoch 2/10\n",
            "7/7 - 11s - loss: 1.1433 - recall: 0.4456 - val_loss: 1.0370 - val_recall: 0.5663\n",
            "Epoch 3/10\n",
            "7/7 - 10s - loss: 0.9687 - recall: 0.5708 - val_loss: 0.9998 - val_recall: 0.4969\n",
            "Epoch 4/10\n",
            "7/7 - 11s - loss: 0.8353 - recall: 0.5757 - val_loss: 1.0792 - val_recall: 0.5564\n",
            "Epoch 5/10\n",
            "7/7 - 10s - loss: 0.7107 - recall: 0.6057 - val_loss: 1.1354 - val_recall: 0.5242\n",
            "Epoch 6/10\n",
            "7/7 - 11s - loss: 0.6065 - recall: 0.6338 - val_loss: 1.4597 - val_recall: 0.5948\n",
            "Epoch 7/10\n",
            "7/7 - 10s - loss: 0.5035 - recall: 0.7135 - val_loss: 1.7548 - val_recall: 0.6146\n",
            "Epoch 8/10\n",
            "7/7 - 10s - loss: 0.4507 - recall: 0.7701 - val_loss: 1.6914 - val_recall: 0.6109\n",
            "Epoch 9/10\n",
            "7/7 - 10s - loss: 0.3799 - recall: 0.8149 - val_loss: 2.0532 - val_recall: 0.6394\n",
            "Epoch 10/10\n",
            "7/7 - 10s - loss: 0.3628 - recall: 0.8328 - val_loss: 2.0143 - val_recall: 0.6221\n"
          ]
        }
      ]
    },
    {
      "cell_type": "code",
      "metadata": {
        "colab": {
          "base_uri": "https://localhost:8080/"
        },
        "id": "LQLGlj5-_R9m",
        "outputId": "ce6b0a3a-12dc-499b-fe91-4fe8de5593f0"
      },
      "source": [
        "loss, accuracy = model.evaluate(dataset_test.map(fetch).batch(1121),verbose=2)\n",
        "print('Test Error Rate: ', round((1 - accuracy) * 100, 2))\n",
        "\n",
        "# With wandb.log, we can easily pass in metrics as key-value pairs.\n",
        "wandb.log({'Test Error Rate': round((1 - accuracy) * 100, 2)})\n",
        "\n"
      ],
      "execution_count": 47,
      "outputs": [
        {
          "output_type": "stream",
          "name": "stdout",
          "text": [
            "1/1 - 0s - loss: 2.0143 - recall: 0.6221\n",
            "Test Error Rate:  37.79\n"
          ]
        }
      ]
    },
    {
      "cell_type": "code",
      "metadata": {
        "colab": {
          "base_uri": "https://localhost:8080/"
        },
        "id": "OS2CIbANE-uM",
        "outputId": "39c397c2-1490-4053-fa1b-15b5a2cdb483"
      },
      "source": [
        "# check the length of the test dataset\n",
        "len(list(dataset_test))\n",
        "\n"
      ],
      "execution_count": 48,
      "outputs": [
        {
          "output_type": "execute_result",
          "data": {
            "text/plain": [
              "835"
            ]
          },
          "metadata": {},
          "execution_count": 48
        }
      ]
    },
    {
      "cell_type": "code",
      "metadata": {
        "colab": {
          "base_uri": "https://localhost:8080/"
        },
        "id": "YczDI9h3FQ0I",
        "outputId": "f51b00a3-1e66-47eb-f6c7-267497535ca3"
      },
      "source": [
        "# craete a batch of the dataset and pass the model through entire dataset\n",
        "results=model.evaluate(dataset_test.map(fetch).batch(1121),verbose=2)\n",
        "print(results)\n",
        "\n",
        "# we pass model through the test data and map the fetch function.\n",
        "test_data,test_labels=next(iter(dataset_test.map(fetch).batch(10000)))\n",
        "# Predict the target class\n",
        "y_pred=model.predict(test_data)\n",
        "# Check the model performance using classification and confusion matrix\n",
        "\n",
        "from sklearn import metrics\n",
        "print('Mean Absolute Error:', metrics.mean_absolute_error(test_labels.numpy().argmax(axis=1),y_pred.argmax(axis=1)))\n",
        "print('Mean Squared Error:', metrics.mean_squared_error(test_labels.numpy().argmax(axis=1),y_pred.argmax(axis=1)))\n",
        "print('Root Mean Squared Error:', np.sqrt(metrics.mean_squared_error(test_labels.numpy().argmax(axis=1),y_pred.argmax(axis=1))))\n",
        "print('The accuracy of the model is ',metrics.accuracy_score(test_labels.numpy().argmax(axis=1),y_pred.argmax(axis=1)))\n",
        "print('The F1 score is: ',metrics.f1_score(test_labels.numpy().argmax(axis=1),y_pred.argmax(axis=1),average='weighted'))\n",
        "print('The recall score is ',metrics.recall_score(test_labels.numpy().argmax(axis=1),y_pred.argmax(axis=1),average='weighted'))\n",
        "print('\\n', 'Confusion matrix')\n",
        "print(confusion_matrix(test_labels.numpy().argmax(axis=1),y_pred.argmax(axis=1)))\n",
        "print('\\n', 'Classification report')\n",
        "print(classification_report(test_labels.numpy().argmax(axis=1),y_pred.argmax(axis=1)))"
      ],
      "execution_count": 49,
      "outputs": [
        {
          "output_type": "stream",
          "name": "stdout",
          "text": [
            "1/1 - 0s - loss: 2.0143 - recall: 0.6221\n",
            "[2.0142822265625, 0.6220570206642151]\n",
            "Mean Absolute Error: 0.9065868263473054\n",
            "Mean Squared Error: 3.0431137724550896\n",
            "Root Mean Squared Error: 1.7444522843732613\n",
            "The accuracy of the model is  0.6778443113772455\n",
            "The F1 score is:  0.6546860077602723\n",
            "The recall score is  0.6778443113772455\n",
            "\n",
            " Confusion matrix\n",
            "[[455  40  28  17   0   0]\n",
            " [ 62  44   1   7   0   0]\n",
            " [ 18   5  31   9   0   0]\n",
            " [ 21   8   5  36   0   0]\n",
            " [ 19   8   0   1   0   0]\n",
            " [ 11   3   3   3   0   0]]\n",
            "\n",
            " Classification report\n",
            "              precision    recall  f1-score   support\n",
            "\n",
            "           0       0.78      0.84      0.81       540\n",
            "           2       0.41      0.39      0.40       114\n",
            "           3       0.46      0.49      0.47        63\n",
            "           4       0.49      0.51      0.50        70\n",
            "           5       0.00      0.00      0.00        28\n",
            "           6       0.00      0.00      0.00        20\n",
            "\n",
            "    accuracy                           0.68       835\n",
            "   macro avg       0.36      0.37      0.36       835\n",
            "weighted avg       0.63      0.68      0.65       835\n",
            "\n"
          ]
        },
        {
          "output_type": "stream",
          "name": "stderr",
          "text": [
            "/usr/local/lib/python3.7/dist-packages/sklearn/metrics/_classification.py:1272: UndefinedMetricWarning: Precision and F-score are ill-defined and being set to 0.0 in labels with no predicted samples. Use `zero_division` parameter to control this behavior.\n",
            "  _warn_prf(average, modifier, msg_start, len(result))\n"
          ]
        }
      ]
    },
    {
      "cell_type": "markdown",
      "metadata": {
        "id": "xFkoDNf9Nzqc"
      },
      "source": [
        "The accuracy of the model is 83%"
      ]
    },
    {
      "cell_type": "code",
      "metadata": {
        "id": "g-t7lfKwFvPl"
      },
      "source": [
        "# we pass model through the test data and map the fetch function.\n",
        "test_data,test_labels=next(iter(dataset_test.map(fetch).batch(10000)))\n"
      ],
      "execution_count": 50,
      "outputs": []
    },
    {
      "cell_type": "code",
      "metadata": {
        "colab": {
          "base_uri": "https://localhost:8080/"
        },
        "id": "y2q7Zj7CFqUG",
        "outputId": "b0898b66-45d3-4c7c-a2c2-a5102c05a009"
      },
      "source": [
        "# Predict the target class\n",
        "y_pred=model.predict(test_data)\n",
        "# Check the model performance using classification and confusion matrix\n",
        "print(classification_report(test_labels.numpy().argmax(axis=1),y_pred.argmax(axis=1)))"
      ],
      "execution_count": 51,
      "outputs": [
        {
          "output_type": "stream",
          "name": "stderr",
          "text": [
            "/usr/local/lib/python3.7/dist-packages/sklearn/metrics/_classification.py:1272: UndefinedMetricWarning: Precision and F-score are ill-defined and being set to 0.0 in labels with no predicted samples. Use `zero_division` parameter to control this behavior.\n",
            "  _warn_prf(average, modifier, msg_start, len(result))\n"
          ]
        },
        {
          "output_type": "stream",
          "name": "stdout",
          "text": [
            "              precision    recall  f1-score   support\n",
            "\n",
            "           0       0.78      0.84      0.81       540\n",
            "           2       0.41      0.39      0.40       114\n",
            "           3       0.46      0.49      0.47        63\n",
            "           4       0.49      0.51      0.50        70\n",
            "           5       0.00      0.00      0.00        28\n",
            "           6       0.00      0.00      0.00        20\n",
            "\n",
            "    accuracy                           0.68       835\n",
            "   macro avg       0.36      0.37      0.36       835\n",
            "weighted avg       0.63      0.68      0.65       835\n",
            "\n"
          ]
        }
      ]
    },
    {
      "cell_type": "code",
      "metadata": {
        "id": "oachM-6WGy7C"
      },
      "source": [
        "from sklearn.metrics import classification_report"
      ],
      "execution_count": 52,
      "outputs": []
    },
    {
      "cell_type": "code",
      "metadata": {
        "colab": {
          "base_uri": "https://localhost:8080/"
        },
        "id": "OqDMASvaGeXF",
        "outputId": "315c8262-f0b9-49a8-ab34-6d602a835f18"
      },
      "source": [
        "# Check the model performance using classification and confusion matrix\n",
        "print(classification_report(test_labels.numpy().argmax(axis=1),y_pred.argmax(axis=1)))"
      ],
      "execution_count": 53,
      "outputs": [
        {
          "output_type": "stream",
          "name": "stderr",
          "text": [
            "/usr/local/lib/python3.7/dist-packages/sklearn/metrics/_classification.py:1272: UndefinedMetricWarning: Precision and F-score are ill-defined and being set to 0.0 in labels with no predicted samples. Use `zero_division` parameter to control this behavior.\n",
            "  _warn_prf(average, modifier, msg_start, len(result))\n"
          ]
        },
        {
          "output_type": "stream",
          "name": "stdout",
          "text": [
            "              precision    recall  f1-score   support\n",
            "\n",
            "           0       0.78      0.84      0.81       540\n",
            "           2       0.41      0.39      0.40       114\n",
            "           3       0.46      0.49      0.47        63\n",
            "           4       0.49      0.51      0.50        70\n",
            "           5       0.00      0.00      0.00        28\n",
            "           6       0.00      0.00      0.00        20\n",
            "\n",
            "    accuracy                           0.68       835\n",
            "   macro avg       0.36      0.37      0.36       835\n",
            "weighted avg       0.63      0.68      0.65       835\n",
            "\n"
          ]
        }
      ]
    },
    {
      "cell_type": "code",
      "metadata": {
        "colab": {
          "base_uri": "https://localhost:8080/"
        },
        "id": "rbD4QqoDQ1qW",
        "outputId": "511ff33d-fd78-4921-c64b-ae49aa83b3f7"
      },
      "source": [
        "from sklearn.metrics import confusion_matrix\n",
        "confusion_matrix(test_labels.numpy().argmax(axis=1),y_pred.argmax(axis=1))"
      ],
      "execution_count": 54,
      "outputs": [
        {
          "output_type": "execute_result",
          "data": {
            "text/plain": [
              "array([[455,  40,  28,  17,   0,   0],\n",
              "       [ 62,  44,   1,   7,   0,   0],\n",
              "       [ 18,   5,  31,   9,   0,   0],\n",
              "       [ 21,   8,   5,  36,   0,   0],\n",
              "       [ 19,   8,   0,   1,   0,   0],\n",
              "       [ 11,   3,   3,   3,   0,   0]])"
            ]
          },
          "metadata": {},
          "execution_count": 54
        }
      ]
    },
    {
      "cell_type": "markdown",
      "metadata": {
        "id": "bTIQqEW78Ruq"
      },
      "source": [
        "The accuracy is accuracy score is 84%, "
      ]
    }
  ]
}
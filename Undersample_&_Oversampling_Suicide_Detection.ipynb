{
  "nbformat": 4,
  "nbformat_minor": 0,
  "metadata": {
    "colab": {
      "name": "Undersample & Oversampling- Suicide Detection.ipynb",
      "provenance": [],
      "authorship_tag": "ABX9TyOyjHEjsW7CraCiVhi7iZre",
      "include_colab_link": true
    },
    "kernelspec": {
      "name": "python3",
      "display_name": "Python 3"
    },
    "language_info": {
      "name": "python"
    }
  },
  "cells": [
    {
      "cell_type": "markdown",
      "metadata": {
        "id": "view-in-github",
        "colab_type": "text"
      },
      "source": [
        "<a href=\"https://colab.research.google.com/github/Katonokatono/Suicide/blob/Preprocessing/Undersample_%26_Oversampling_Suicide_Detection.ipynb\" target=\"_parent\"><img src=\"https://colab.research.google.com/assets/colab-badge.svg\" alt=\"Open In Colab\"/></a>"
      ]
    },
    {
      "cell_type": "code",
      "metadata": {
        "id": "TZrrajRekcs-"
      },
      "source": [
        "import pandas as pd\n",
        "import numpy as np\n"
      ],
      "execution_count": 1,
      "outputs": []
    },
    {
      "cell_type": "code",
      "metadata": {
        "colab": {
          "base_uri": "https://localhost:8080/",
          "height": 302
        },
        "id": "ekbwCiHCoRyR",
        "outputId": "7f2a8b79-22c9-47c3-9eeb-01c627ff7005"
      },
      "source": [
        "df=pd.read_csv('/content/final_data_suicide.csv')\n",
        "df[:5]"
      ],
      "execution_count": 2,
      "outputs": [
        {
          "output_type": "execute_result",
          "data": {
            "text/html": [
              "<div>\n",
              "<style scoped>\n",
              "    .dataframe tbody tr th:only-of-type {\n",
              "        vertical-align: middle;\n",
              "    }\n",
              "\n",
              "    .dataframe tbody tr th {\n",
              "        vertical-align: top;\n",
              "    }\n",
              "\n",
              "    .dataframe thead th {\n",
              "        text-align: right;\n",
              "    }\n",
              "</style>\n",
              "<table border=\"1\" class=\"dataframe\">\n",
              "  <thead>\n",
              "    <tr style=\"text-align: right;\">\n",
              "      <th></th>\n",
              "      <th>Unnamed: 0</th>\n",
              "      <th>friends_count</th>\n",
              "      <th>followers_count</th>\n",
              "      <th>statuses_count</th>\n",
              "      <th>created_at</th>\n",
              "      <th>retweet_count</th>\n",
              "      <th>label</th>\n",
              "      <th>town</th>\n",
              "      <th>clean_text</th>\n",
              "    </tr>\n",
              "  </thead>\n",
              "  <tbody>\n",
              "    <tr>\n",
              "      <th>0</th>\n",
              "      <td>1</td>\n",
              "      <td>182</td>\n",
              "      <td>83</td>\n",
              "      <td>6950</td>\n",
              "      <td>09/14/2021 7:47</td>\n",
              "      <td>0</td>\n",
              "      <td>anxiety</td>\n",
              "      <td>burundi</td>\n",
              "      <td>bunmo multi item stretchy string fidget toy pk...</td>\n",
              "    </tr>\n",
              "    <tr>\n",
              "      <th>1</th>\n",
              "      <td>2</td>\n",
              "      <td>983</td>\n",
              "      <td>915</td>\n",
              "      <td>12944</td>\n",
              "      <td>09/14/2021 7:31</td>\n",
              "      <td>0</td>\n",
              "      <td>anxiety</td>\n",
              "      <td>kenya</td>\n",
              "      <td>unkonfined basic motivation behind behavior bi...</td>\n",
              "    </tr>\n",
              "    <tr>\n",
              "      <th>2</th>\n",
              "      <td>3</td>\n",
              "      <td>281</td>\n",
              "      <td>63</td>\n",
              "      <td>290</td>\n",
              "      <td>09/14/2021 7:30</td>\n",
              "      <td>0</td>\n",
              "      <td>anxiety</td>\n",
              "      <td>nairobi</td>\n",
              "      <td>munenekimathi zablonorina bp normal yes check ...</td>\n",
              "    </tr>\n",
              "    <tr>\n",
              "      <th>3</th>\n",
              "      <td>4</td>\n",
              "      <td>220</td>\n",
              "      <td>2052</td>\n",
              "      <td>37982</td>\n",
              "      <td>09/14/2021 7:02</td>\n",
              "      <td>0</td>\n",
              "      <td>anxiety</td>\n",
              "      <td>nairobi kenya</td>\n",
              "      <td>deal anxious share experience anxiety yvonne m...</td>\n",
              "    </tr>\n",
              "    <tr>\n",
              "      <th>4</th>\n",
              "      <td>5</td>\n",
              "      <td>857</td>\n",
              "      <td>272</td>\n",
              "      <td>650</td>\n",
              "      <td>09/14/2021 7:00</td>\n",
              "      <td>2</td>\n",
              "      <td>general tweet</td>\n",
              "      <td>nairobi</td>\n",
              "      <td>know dry spell cause anxiety depression even s...</td>\n",
              "    </tr>\n",
              "  </tbody>\n",
              "</table>\n",
              "</div>"
            ],
            "text/plain": [
              "   Unnamed: 0  ...                                         clean_text\n",
              "0           1  ...  bunmo multi item stretchy string fidget toy pk...\n",
              "1           2  ...  unkonfined basic motivation behind behavior bi...\n",
              "2           3  ...  munenekimathi zablonorina bp normal yes check ...\n",
              "3           4  ...  deal anxious share experience anxiety yvonne m...\n",
              "4           5  ...  know dry spell cause anxiety depression even s...\n",
              "\n",
              "[5 rows x 9 columns]"
            ]
          },
          "metadata": {},
          "execution_count": 2
        }
      ]
    },
    {
      "cell_type": "code",
      "metadata": {
        "colab": {
          "base_uri": "https://localhost:8080/"
        },
        "id": "R6nNI2Scogn_",
        "outputId": "a27c187a-4187-45d5-d635-23d3dda92123"
      },
      "source": [
        "df['label'].value_counts()"
      ],
      "execution_count": 3,
      "outputs": [
        {
          "output_type": "execute_result",
          "data": {
            "text/plain": [
              "general tweet      2610\n",
              "awareness           478\n",
              "anxiety             357\n",
              "depression          355\n",
              "substance abuse     134\n",
              "thoughts            129\n",
              "stress              109\n",
              "Name: label, dtype: int64"
            ]
          },
          "metadata": {},
          "execution_count": 3
        }
      ]
    },
    {
      "cell_type": "code",
      "metadata": {
        "id": "l95tRY2Aokw-"
      },
      "source": [
        "# Create label dataframes\n",
        "df_gen_tweet=df[df['label']=='general tweet']\n",
        "df_depression=df[df['label']=='depression']\n",
        "df_anxiety=df[df['label']=='anxiety']\n",
        "df_stress=df[df['label']=='stress']\n",
        "df_awareness=df[df['label']=='awareness']\n",
        "df_substance_abuse=df[df['label']=='substance abuse']\n",
        "df_thoughts=df[df['label']=='thoughts']"
      ],
      "execution_count": 4,
      "outputs": []
    },
    {
      "cell_type": "code",
      "metadata": {
        "colab": {
          "base_uri": "https://localhost:8080/"
        },
        "id": "SP6XF1CVpf-o",
        "outputId": "276694ff-8a6b-4d6c-f640-c264caff356f"
      },
      "source": [
        "# Class counts\n",
        "count_class_0, count_class_1,count_class_2,count_class_3,count_class_4,count_class_5,count_class_6 = df.label.value_counts()\n",
        "\n",
        "# View class counts\n",
        "count_class_0, count_class_1,count_class_2,count_class_3,count_class_4,count_class_5,count_class_6"
      ],
      "execution_count": 21,
      "outputs": [
        {
          "output_type": "execute_result",
          "data": {
            "text/plain": [
              "(2610, 478, 357, 355, 134, 129, 109)"
            ]
          },
          "metadata": {},
          "execution_count": 21
        }
      ]
    },
    {
      "cell_type": "markdown",
      "metadata": {
        "id": "GeNltK94qYV8"
      },
      "source": [
        "We use depression class as it is our midpoint with 355"
      ]
    },
    {
      "cell_type": "code",
      "metadata": {
        "colab": {
          "base_uri": "https://localhost:8080/"
        },
        "id": "1QBbntSEqXiD",
        "outputId": "4a51cc79-6e67-46ea-b0ec-d79e207409db"
      },
      "source": [
        "count_class_3"
      ],
      "execution_count": 11,
      "outputs": [
        {
          "output_type": "execute_result",
          "data": {
            "text/plain": [
              "355"
            ]
          },
          "metadata": {},
          "execution_count": 11
        }
      ]
    },
    {
      "cell_type": "markdown",
      "metadata": {
        "id": "1VCOhyhgq6w-"
      },
      "source": [
        "undersampling"
      ]
    },
    {
      "cell_type": "code",
      "metadata": {
        "id": "yIblZzh2q9GB",
        "outputId": "02dc4ea6-e4ea-45f3-91da-1bc6c8256e45",
        "colab": {
          "base_uri": "https://localhost:8080/"
        }
      },
      "source": [
        "# Undersample class and concat the DataFrames of both class\n",
        "df_gen_tweet_under = df_gen_tweet.sample(count_class_3)\n",
        "df_awareness_under = df_awareness.sample(count_class_3)\n",
        "df_anxiety_under = df_anxiety.sample(count_class_3)\n",
        "df_under = pd.concat([df_gen_tweet_under,df_awareness_under], axis=0)\n",
        "\n",
        "print('Random under-sampling:')\n",
        "print(df_under.label.value_counts())"
      ],
      "execution_count": 22,
      "outputs": [
        {
          "output_type": "stream",
          "name": "stdout",
          "text": [
            "Random under-sampling:\n",
            "awareness        355\n",
            "general tweet    355\n",
            "Name: label, dtype: int64\n"
          ]
        }
      ]
    },
    {
      "cell_type": "markdown",
      "metadata": {
        "id": "VsaMnd9srue1"
      },
      "source": [
        "Oversampling"
      ]
    },
    {
      "cell_type": "code",
      "metadata": {
        "id": "2FXw4FADrv0d",
        "outputId": "61d1f9aa-847e-438a-9418-1fdc30f041ce",
        "colab": {
          "base_uri": "https://localhost:8080/"
        }
      },
      "source": [
        "# Ondersample 0-class and concat the DataFrames of both class\n",
        "df_gen_tweet_under = df_gen_tweet.sample(count_class_3)\n",
        "df_awareness_under = df_awareness.sample(count_class_3)\n",
        "df_anxiety_under = df_anxiety.sample(count_class_3)\n",
        "df_under = pd.concat([df_gen_tweet_under,df_anxiety_under,df_awareness_under], axis=0)\n",
        "\n",
        "print('Random under-sampling:')\n",
        "print(df_under.label.value_counts())"
      ],
      "execution_count": 15,
      "outputs": [
        {
          "output_type": "stream",
          "name": "stdout",
          "text": [
            "Random under-sampling:\n",
            "anxiety          355\n",
            "awareness        355\n",
            "general tweet    355\n",
            "Name: label, dtype: int64\n"
          ]
        }
      ]
    },
    {
      "cell_type": "markdown",
      "metadata": {
        "id": "8SiZd--lr44b"
      },
      "source": [
        "Oversampling"
      ]
    },
    {
      "cell_type": "code",
      "metadata": {
        "id": "sVgM9l1Or4U6",
        "outputId": "d5029951-bb3e-40ca-9c1c-b4575f9cfe66",
        "colab": {
          "base_uri": "https://localhost:8080/"
        }
      },
      "source": [
        "# Ondersample 0-class and concat the DataFrames of both class\n",
        "df_thoughts_over= df_thoughts.sample(count_class_3, replace=True)\n",
        "df_substance_over= df_substance_abuse.sample(count_class_3, replace=True)\n",
        "df_stress_over= df_stress.sample(count_class_3, replace=True)\n",
        "\n",
        "df_over = pd.concat([df_thoughts_over,df_substance_over,df_stress_over], axis=0)\n",
        "\n",
        "\n",
        "\n",
        "print('Random under-sampling:')\n",
        "print(df_over.label.value_counts())"
      ],
      "execution_count": 16,
      "outputs": [
        {
          "output_type": "stream",
          "name": "stdout",
          "text": [
            "Random under-sampling:\n",
            "substance abuse    355\n",
            "stress             355\n",
            "thoughts           355\n",
            "Name: label, dtype: int64\n"
          ]
        }
      ]
    },
    {
      "cell_type": "code",
      "metadata": {
        "id": "gUj8joWws43c",
        "outputId": "a24dde51-bd37-4965-a477-7dd1631dd50c",
        "colab": {
          "base_uri": "https://localhost:8080/"
        }
      },
      "source": [
        "df_balanced = pd.concat([df_over,df_under,df_depression], axis=0)\n",
        "df_balanced['label'].value_counts()"
      ],
      "execution_count": 20,
      "outputs": [
        {
          "output_type": "execute_result",
          "data": {
            "text/plain": [
              "depression         355\n",
              "thoughts           355\n",
              "awareness          355\n",
              "substance abuse    355\n",
              "anxiety            355\n",
              "stress             355\n",
              "general tweet      355\n",
              "Name: label, dtype: int64"
            ]
          },
          "metadata": {},
          "execution_count": 20
        }
      ]
    },
    {
      "cell_type": "code",
      "metadata": {
        "id": "ZidA2W_st3-g"
      },
      "source": [
        "df_balanced.to_csv('balanced_data')"
      ],
      "execution_count": 24,
      "outputs": []
    }
  ]
}
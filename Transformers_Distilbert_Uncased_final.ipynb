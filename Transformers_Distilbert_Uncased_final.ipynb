{
  "nbformat": 4,
  "nbformat_minor": 0,
  "metadata": {
    "accelerator": "GPU",
    "colab": {
      "name": "Transformers_Distilbert_Uncased_final.ipynb",
      "provenance": [],
      "collapsed_sections": [],
      "include_colab_link": true
    },
    "kernelspec": {
      "display_name": "Python 3",
      "name": "python3"
    },
    "language_info": {
      "name": "python"
    },
    "widgets": {
      "application/vnd.jupyter.widget-state+json": {
        "862ed3b97bff4be2b29c6f5b4f92a388": {
          "model_module": "@jupyter-widgets/controls",
          "model_name": "VBoxModel",
          "model_module_version": "1.5.0",
          "state": {
            "_view_name": "VBoxView",
            "_dom_classes": [],
            "_model_name": "VBoxModel",
            "_view_module": "@jupyter-widgets/controls",
            "_model_module_version": "1.5.0",
            "_view_count": null,
            "_view_module_version": "1.5.0",
            "box_style": "",
            "layout": "IPY_MODEL_95a9519c548846909a5f723261f45239",
            "_model_module": "@jupyter-widgets/controls",
            "children": [
              "IPY_MODEL_31c1c78ac4e84365977919b4164cb251",
              "IPY_MODEL_ac2411cb75d245fa87ca0888ffbde803"
            ]
          }
        },
        "95a9519c548846909a5f723261f45239": {
          "model_module": "@jupyter-widgets/base",
          "model_name": "LayoutModel",
          "model_module_version": "1.2.0",
          "state": {
            "_view_name": "LayoutView",
            "grid_template_rows": null,
            "right": null,
            "justify_content": null,
            "_view_module": "@jupyter-widgets/base",
            "overflow": null,
            "_model_module_version": "1.2.0",
            "_view_count": null,
            "flex_flow": null,
            "width": null,
            "min_width": null,
            "border": null,
            "align_items": null,
            "bottom": null,
            "_model_module": "@jupyter-widgets/base",
            "top": null,
            "grid_column": null,
            "overflow_y": null,
            "overflow_x": null,
            "grid_auto_flow": null,
            "grid_area": null,
            "grid_template_columns": null,
            "flex": null,
            "_model_name": "LayoutModel",
            "justify_items": null,
            "grid_row": null,
            "max_height": null,
            "align_content": null,
            "visibility": null,
            "align_self": null,
            "height": null,
            "min_height": null,
            "padding": null,
            "grid_auto_rows": null,
            "grid_gap": null,
            "max_width": null,
            "order": null,
            "_view_module_version": "1.2.0",
            "grid_template_areas": null,
            "object_position": null,
            "object_fit": null,
            "grid_auto_columns": null,
            "margin": null,
            "display": null,
            "left": null
          }
        },
        "31c1c78ac4e84365977919b4164cb251": {
          "model_module": "@jupyter-widgets/controls",
          "model_name": "LabelModel",
          "model_module_version": "1.5.0",
          "state": {
            "_view_name": "LabelView",
            "style": "IPY_MODEL_fc37014e2ccd48608468e5fb8897ac0b",
            "_dom_classes": [],
            "description": "",
            "_model_name": "LabelModel",
            "placeholder": "​",
            "_view_module": "@jupyter-widgets/controls",
            "_model_module_version": "1.5.0",
            "value": " 0.12MB of 0.12MB uploaded (0.00MB deduped)\r",
            "_view_count": null,
            "_view_module_version": "1.5.0",
            "description_tooltip": null,
            "_model_module": "@jupyter-widgets/controls",
            "layout": "IPY_MODEL_eebc6b5189494f7abda4cbb66f3c73c2"
          }
        },
        "ac2411cb75d245fa87ca0888ffbde803": {
          "model_module": "@jupyter-widgets/controls",
          "model_name": "FloatProgressModel",
          "model_module_version": "1.5.0",
          "state": {
            "_view_name": "ProgressView",
            "style": "IPY_MODEL_7701239a17f549c28014254199077338",
            "_dom_classes": [],
            "description": "",
            "_model_name": "FloatProgressModel",
            "bar_style": "",
            "max": 1,
            "_view_module": "@jupyter-widgets/controls",
            "_model_module_version": "1.5.0",
            "value": 1,
            "_view_count": null,
            "_view_module_version": "1.5.0",
            "orientation": "horizontal",
            "min": 0,
            "description_tooltip": null,
            "_model_module": "@jupyter-widgets/controls",
            "layout": "IPY_MODEL_5f870bace0734bed93a729992d6bd753"
          }
        },
        "fc37014e2ccd48608468e5fb8897ac0b": {
          "model_module": "@jupyter-widgets/controls",
          "model_name": "DescriptionStyleModel",
          "model_module_version": "1.5.0",
          "state": {
            "_view_name": "StyleView",
            "_model_name": "DescriptionStyleModel",
            "description_width": "",
            "_view_module": "@jupyter-widgets/base",
            "_model_module_version": "1.5.0",
            "_view_count": null,
            "_view_module_version": "1.2.0",
            "_model_module": "@jupyter-widgets/controls"
          }
        },
        "eebc6b5189494f7abda4cbb66f3c73c2": {
          "model_module": "@jupyter-widgets/base",
          "model_name": "LayoutModel",
          "model_module_version": "1.2.0",
          "state": {
            "_view_name": "LayoutView",
            "grid_template_rows": null,
            "right": null,
            "justify_content": null,
            "_view_module": "@jupyter-widgets/base",
            "overflow": null,
            "_model_module_version": "1.2.0",
            "_view_count": null,
            "flex_flow": null,
            "width": null,
            "min_width": null,
            "border": null,
            "align_items": null,
            "bottom": null,
            "_model_module": "@jupyter-widgets/base",
            "top": null,
            "grid_column": null,
            "overflow_y": null,
            "overflow_x": null,
            "grid_auto_flow": null,
            "grid_area": null,
            "grid_template_columns": null,
            "flex": null,
            "_model_name": "LayoutModel",
            "justify_items": null,
            "grid_row": null,
            "max_height": null,
            "align_content": null,
            "visibility": null,
            "align_self": null,
            "height": null,
            "min_height": null,
            "padding": null,
            "grid_auto_rows": null,
            "grid_gap": null,
            "max_width": null,
            "order": null,
            "_view_module_version": "1.2.0",
            "grid_template_areas": null,
            "object_position": null,
            "object_fit": null,
            "grid_auto_columns": null,
            "margin": null,
            "display": null,
            "left": null
          }
        },
        "7701239a17f549c28014254199077338": {
          "model_module": "@jupyter-widgets/controls",
          "model_name": "ProgressStyleModel",
          "model_module_version": "1.5.0",
          "state": {
            "_view_name": "StyleView",
            "_model_name": "ProgressStyleModel",
            "description_width": "",
            "_view_module": "@jupyter-widgets/base",
            "_model_module_version": "1.5.0",
            "_view_count": null,
            "_view_module_version": "1.2.0",
            "bar_color": null,
            "_model_module": "@jupyter-widgets/controls"
          }
        },
        "5f870bace0734bed93a729992d6bd753": {
          "model_module": "@jupyter-widgets/base",
          "model_name": "LayoutModel",
          "model_module_version": "1.2.0",
          "state": {
            "_view_name": "LayoutView",
            "grid_template_rows": null,
            "right": null,
            "justify_content": null,
            "_view_module": "@jupyter-widgets/base",
            "overflow": null,
            "_model_module_version": "1.2.0",
            "_view_count": null,
            "flex_flow": null,
            "width": null,
            "min_width": null,
            "border": null,
            "align_items": null,
            "bottom": null,
            "_model_module": "@jupyter-widgets/base",
            "top": null,
            "grid_column": null,
            "overflow_y": null,
            "overflow_x": null,
            "grid_auto_flow": null,
            "grid_area": null,
            "grid_template_columns": null,
            "flex": null,
            "_model_name": "LayoutModel",
            "justify_items": null,
            "grid_row": null,
            "max_height": null,
            "align_content": null,
            "visibility": null,
            "align_self": null,
            "height": null,
            "min_height": null,
            "padding": null,
            "grid_auto_rows": null,
            "grid_gap": null,
            "max_width": null,
            "order": null,
            "_view_module_version": "1.2.0",
            "grid_template_areas": null,
            "object_position": null,
            "object_fit": null,
            "grid_auto_columns": null,
            "margin": null,
            "display": null,
            "left": null
          }
        }
      }
    }
  },
  "cells": [
    {
      "cell_type": "markdown",
      "metadata": {
        "id": "view-in-github",
        "colab_type": "text"
      },
      "source": [
        "<a href=\"https://colab.research.google.com/github/Katonokatono/Suicide/blob/model/Transformers_Distilbert_Uncased_final.ipynb\" target=\"_parent\"><img src=\"https://colab.research.google.com/assets/colab-badge.svg\" alt=\"Open In Colab\"/></a>"
      ]
    },
    {
      "cell_type": "markdown",
      "metadata": {
        "id": "X4d3Y8vFJnJ7"
      },
      "source": [
        "# Importing Libraries"
      ]
    },
    {
      "cell_type": "code",
      "metadata": {
        "id": "9dQUV2eXJfsG"
      },
      "source": [
        "import numpy as np    \n",
        "import pandas as pd \n",
        "import matplotlib.pyplot as plt\n",
        "import tensorflow as tf\n"
      ],
      "execution_count": 1,
      "outputs": []
    },
    {
      "cell_type": "code",
      "metadata": {
        "colab": {
          "base_uri": "https://localhost:8080/"
        },
        "id": "dJc2-re7VVZb",
        "outputId": "b8e93798-637c-4c96-e433-38d6ff71f321"
      },
      "source": [
        "! pip install transformers"
      ],
      "execution_count": 2,
      "outputs": [
        {
          "output_type": "stream",
          "name": "stdout",
          "text": [
            "Requirement already satisfied: transformers in /usr/local/lib/python3.7/dist-packages (4.3.3)\n",
            "Requirement already satisfied: packaging in /usr/local/lib/python3.7/dist-packages (from transformers) (21.0)\n",
            "Requirement already satisfied: filelock in /usr/local/lib/python3.7/dist-packages (from transformers) (3.0.12)\n",
            "Requirement already satisfied: tqdm>=4.27 in /usr/local/lib/python3.7/dist-packages (from transformers) (4.62.2)\n",
            "Requirement already satisfied: tokenizers<0.11,>=0.10.1 in /usr/local/lib/python3.7/dist-packages (from transformers) (0.10.3)\n",
            "Requirement already satisfied: sacremoses in /usr/local/lib/python3.7/dist-packages (from transformers) (0.0.46)\n",
            "Requirement already satisfied: regex!=2019.12.17 in /usr/local/lib/python3.7/dist-packages (from transformers) (2019.12.20)\n",
            "Requirement already satisfied: numpy>=1.17 in /usr/local/lib/python3.7/dist-packages (from transformers) (1.19.5)\n",
            "Requirement already satisfied: importlib-metadata in /usr/local/lib/python3.7/dist-packages (from transformers) (4.8.1)\n",
            "Requirement already satisfied: requests in /usr/local/lib/python3.7/dist-packages (from transformers) (2.23.0)\n",
            "Requirement already satisfied: typing-extensions>=3.6.4 in /usr/local/lib/python3.7/dist-packages (from importlib-metadata->transformers) (3.7.4.3)\n",
            "Requirement already satisfied: zipp>=0.5 in /usr/local/lib/python3.7/dist-packages (from importlib-metadata->transformers) (3.5.0)\n",
            "Requirement already satisfied: pyparsing>=2.0.2 in /usr/local/lib/python3.7/dist-packages (from packaging->transformers) (2.4.7)\n",
            "Requirement already satisfied: idna<3,>=2.5 in /usr/local/lib/python3.7/dist-packages (from requests->transformers) (2.10)\n",
            "Requirement already satisfied: chardet<4,>=3.0.2 in /usr/local/lib/python3.7/dist-packages (from requests->transformers) (3.0.4)\n",
            "Requirement already satisfied: certifi>=2017.4.17 in /usr/local/lib/python3.7/dist-packages (from requests->transformers) (2021.5.30)\n",
            "Requirement already satisfied: urllib3!=1.25.0,!=1.25.1,<1.26,>=1.21.1 in /usr/local/lib/python3.7/dist-packages (from requests->transformers) (1.24.3)\n",
            "Requirement already satisfied: click in /usr/local/lib/python3.7/dist-packages (from sacremoses->transformers) (7.1.2)\n",
            "Requirement already satisfied: six in /usr/local/lib/python3.7/dist-packages (from sacremoses->transformers) (1.15.0)\n",
            "Requirement already satisfied: joblib in /usr/local/lib/python3.7/dist-packages (from sacremoses->transformers) (1.0.1)\n"
          ]
        }
      ]
    },
    {
      "cell_type": "code",
      "metadata": {
        "id": "EXIEp-55Vmxn"
      },
      "source": [
        "import transformers\n",
        "from transformers import DistilBertTokenizer\n",
        "from transformers import TFDistilBertForSequenceClassification"
      ],
      "execution_count": 3,
      "outputs": []
    },
    {
      "cell_type": "code",
      "metadata": {
        "colab": {
          "base_uri": "https://localhost:8080/"
        },
        "id": "ObSKprdx6oa6",
        "outputId": "8dc3c51c-b165-4a7e-d1b1-8093d9087380"
      },
      "source": [
        "! pip install pyyaml h5py"
      ],
      "execution_count": 4,
      "outputs": [
        {
          "output_type": "stream",
          "name": "stdout",
          "text": [
            "Requirement already satisfied: pyyaml in /usr/local/lib/python3.7/dist-packages (5.4.1)\n",
            "Requirement already satisfied: h5py in /usr/local/lib/python3.7/dist-packages (3.1.0)\n",
            "Requirement already satisfied: numpy>=1.14.5 in /usr/local/lib/python3.7/dist-packages (from h5py) (1.19.5)\n",
            "Requirement already satisfied: cached-property in /usr/local/lib/python3.7/dist-packages (from h5py) (1.5.2)\n"
          ]
        }
      ]
    },
    {
      "cell_type": "code",
      "metadata": {
        "colab": {
          "base_uri": "https://localhost:8080/"
        },
        "id": "XhbvUAQ-YE47",
        "outputId": "7e4c5dcf-7e14-4ed8-e5c0-db50c200461b"
      },
      "source": [
        "!pip install wandb\n",
        "!wandb login \n",
        "import wandb\n",
        "from wandb.keras import WandbCallback"
      ],
      "execution_count": 5,
      "outputs": [
        {
          "output_type": "stream",
          "name": "stdout",
          "text": [
            "Requirement already satisfied: wandb in /usr/local/lib/python3.7/dist-packages (0.12.2)\n",
            "Requirement already satisfied: GitPython>=1.0.0 in /usr/local/lib/python3.7/dist-packages (from wandb) (3.1.24)\n",
            "Requirement already satisfied: requests<3,>=2.0.0 in /usr/local/lib/python3.7/dist-packages (from wandb) (2.23.0)\n",
            "Requirement already satisfied: pathtools in /usr/local/lib/python3.7/dist-packages (from wandb) (0.1.2)\n",
            "Requirement already satisfied: psutil>=5.0.0 in /usr/local/lib/python3.7/dist-packages (from wandb) (5.4.8)\n",
            "Requirement already satisfied: docker-pycreds>=0.4.0 in /usr/local/lib/python3.7/dist-packages (from wandb) (0.4.0)\n",
            "Requirement already satisfied: six>=1.13.0 in /usr/local/lib/python3.7/dist-packages (from wandb) (1.15.0)\n",
            "Requirement already satisfied: python-dateutil>=2.6.1 in /usr/local/lib/python3.7/dist-packages (from wandb) (2.8.2)\n",
            "Requirement already satisfied: yaspin>=1.0.0 in /usr/local/lib/python3.7/dist-packages (from wandb) (2.1.0)\n",
            "Requirement already satisfied: configparser>=3.8.1 in /usr/local/lib/python3.7/dist-packages (from wandb) (5.0.2)\n",
            "Requirement already satisfied: protobuf>=3.12.0 in /usr/local/lib/python3.7/dist-packages (from wandb) (3.17.3)\n",
            "Requirement already satisfied: PyYAML in /usr/local/lib/python3.7/dist-packages (from wandb) (5.4.1)\n",
            "Requirement already satisfied: sentry-sdk>=1.0.0 in /usr/local/lib/python3.7/dist-packages (from wandb) (1.4.1)\n",
            "Requirement already satisfied: promise<3,>=2.0 in /usr/local/lib/python3.7/dist-packages (from wandb) (2.3)\n",
            "Requirement already satisfied: subprocess32>=3.5.3 in /usr/local/lib/python3.7/dist-packages (from wandb) (3.5.4)\n",
            "Requirement already satisfied: Click!=8.0.0,>=7.0 in /usr/local/lib/python3.7/dist-packages (from wandb) (7.1.2)\n",
            "Requirement already satisfied: shortuuid>=0.5.0 in /usr/local/lib/python3.7/dist-packages (from wandb) (1.0.1)\n",
            "Requirement already satisfied: typing-extensions>=3.7.4.3 in /usr/local/lib/python3.7/dist-packages (from GitPython>=1.0.0->wandb) (3.7.4.3)\n",
            "Requirement already satisfied: gitdb<5,>=4.0.1 in /usr/local/lib/python3.7/dist-packages (from GitPython>=1.0.0->wandb) (4.0.7)\n",
            "Requirement already satisfied: smmap<5,>=3.0.1 in /usr/local/lib/python3.7/dist-packages (from gitdb<5,>=4.0.1->GitPython>=1.0.0->wandb) (4.0.0)\n",
            "Requirement already satisfied: chardet<4,>=3.0.2 in /usr/local/lib/python3.7/dist-packages (from requests<3,>=2.0.0->wandb) (3.0.4)\n",
            "Requirement already satisfied: idna<3,>=2.5 in /usr/local/lib/python3.7/dist-packages (from requests<3,>=2.0.0->wandb) (2.10)\n",
            "Requirement already satisfied: urllib3!=1.25.0,!=1.25.1,<1.26,>=1.21.1 in /usr/local/lib/python3.7/dist-packages (from requests<3,>=2.0.0->wandb) (1.24.3)\n",
            "Requirement already satisfied: certifi>=2017.4.17 in /usr/local/lib/python3.7/dist-packages (from requests<3,>=2.0.0->wandb) (2021.5.30)\n",
            "Requirement already satisfied: termcolor<2.0.0,>=1.1.0 in /usr/local/lib/python3.7/dist-packages (from yaspin>=1.0.0->wandb) (1.1.0)\n",
            "\u001b[34m\u001b[1mwandb\u001b[0m: Currently logged in as: \u001b[33mkanoak\u001b[0m (use `wandb login --relogin` to force relogin)\n"
          ]
        }
      ]
    },
    {
      "cell_type": "code",
      "metadata": {
        "id": "hVwy7BtEKPMD",
        "colab": {
          "base_uri": "https://localhost:8080/"
        },
        "outputId": "0573209a-49cd-48d8-e2be-e4b98e9beda5"
      },
      "source": [
        "!pip install ktrain"
      ],
      "execution_count": 6,
      "outputs": [
        {
          "output_type": "stream",
          "name": "stdout",
          "text": [
            "Requirement already satisfied: ktrain in /usr/local/lib/python3.7/dist-packages (0.27.3)\n",
            "Requirement already satisfied: sentencepiece in /usr/local/lib/python3.7/dist-packages (from ktrain) (0.1.96)\n",
            "Requirement already satisfied: chardet in /usr/local/lib/python3.7/dist-packages (from ktrain) (3.0.4)\n",
            "Requirement already satisfied: networkx>=2.3 in /usr/local/lib/python3.7/dist-packages (from ktrain) (2.6.3)\n",
            "Requirement already satisfied: fastprogress>=0.1.21 in /usr/local/lib/python3.7/dist-packages (from ktrain) (1.0.0)\n",
            "Requirement already satisfied: scikit-learn==0.23.2 in /usr/local/lib/python3.7/dist-packages (from ktrain) (0.23.2)\n",
            "Requirement already satisfied: cchardet in /usr/local/lib/python3.7/dist-packages (from ktrain) (2.1.7)\n",
            "Requirement already satisfied: matplotlib>=3.0.0 in /usr/local/lib/python3.7/dist-packages (from ktrain) (3.2.2)\n",
            "Requirement already satisfied: langdetect in /usr/local/lib/python3.7/dist-packages (from ktrain) (1.0.9)\n",
            "Requirement already satisfied: seqeval==0.0.19 in /usr/local/lib/python3.7/dist-packages (from ktrain) (0.0.19)\n",
            "Requirement already satisfied: requests in /usr/local/lib/python3.7/dist-packages (from ktrain) (2.23.0)\n",
            "Requirement already satisfied: packaging in /usr/local/lib/python3.7/dist-packages (from ktrain) (21.0)\n",
            "Requirement already satisfied: transformers<=4.3.3,>=4.0.0 in /usr/local/lib/python3.7/dist-packages (from ktrain) (4.3.3)\n",
            "Requirement already satisfied: pandas>=1.0.1 in /usr/local/lib/python3.7/dist-packages (from ktrain) (1.1.5)\n",
            "Requirement already satisfied: whoosh in /usr/local/lib/python3.7/dist-packages (from ktrain) (2.7.4)\n",
            "Requirement already satisfied: syntok in /usr/local/lib/python3.7/dist-packages (from ktrain) (1.3.1)\n",
            "Requirement already satisfied: joblib in /usr/local/lib/python3.7/dist-packages (from ktrain) (1.0.1)\n",
            "Requirement already satisfied: ipython in /usr/local/lib/python3.7/dist-packages (from ktrain) (5.5.0)\n",
            "Requirement already satisfied: keras-bert>=0.86.0 in /usr/local/lib/python3.7/dist-packages (from ktrain) (0.88.0)\n",
            "Requirement already satisfied: jieba in /usr/local/lib/python3.7/dist-packages (from ktrain) (0.42.1)\n",
            "Requirement already satisfied: numpy>=1.13.3 in /usr/local/lib/python3.7/dist-packages (from scikit-learn==0.23.2->ktrain) (1.19.5)\n",
            "Requirement already satisfied: scipy>=0.19.1 in /usr/local/lib/python3.7/dist-packages (from scikit-learn==0.23.2->ktrain) (1.4.1)\n",
            "Requirement already satisfied: threadpoolctl>=2.0.0 in /usr/local/lib/python3.7/dist-packages (from scikit-learn==0.23.2->ktrain) (2.2.0)\n",
            "Requirement already satisfied: Keras>=2.2.4 in /usr/local/lib/python3.7/dist-packages (from seqeval==0.0.19->ktrain) (2.6.0)\n",
            "Requirement already satisfied: keras-transformer>=0.39.0 in /usr/local/lib/python3.7/dist-packages (from keras-bert>=0.86.0->ktrain) (0.39.0)\n",
            "Requirement already satisfied: keras-embed-sim>=0.9.0 in /usr/local/lib/python3.7/dist-packages (from keras-transformer>=0.39.0->keras-bert>=0.86.0->ktrain) (0.9.0)\n",
            "Requirement already satisfied: keras-multi-head>=0.28.0 in /usr/local/lib/python3.7/dist-packages (from keras-transformer>=0.39.0->keras-bert>=0.86.0->ktrain) (0.28.0)\n",
            "Requirement already satisfied: keras-pos-embd>=0.12.0 in /usr/local/lib/python3.7/dist-packages (from keras-transformer>=0.39.0->keras-bert>=0.86.0->ktrain) (0.12.0)\n",
            "Requirement already satisfied: keras-layer-normalization>=0.15.0 in /usr/local/lib/python3.7/dist-packages (from keras-transformer>=0.39.0->keras-bert>=0.86.0->ktrain) (0.15.0)\n",
            "Requirement already satisfied: keras-position-wise-feed-forward>=0.7.0 in /usr/local/lib/python3.7/dist-packages (from keras-transformer>=0.39.0->keras-bert>=0.86.0->ktrain) (0.7.0)\n",
            "Requirement already satisfied: keras-self-attention>=0.50.0 in /usr/local/lib/python3.7/dist-packages (from keras-multi-head>=0.28.0->keras-transformer>=0.39.0->keras-bert>=0.86.0->ktrain) (0.50.0)\n",
            "Requirement already satisfied: python-dateutil>=2.1 in /usr/local/lib/python3.7/dist-packages (from matplotlib>=3.0.0->ktrain) (2.8.2)\n",
            "Requirement already satisfied: pyparsing!=2.0.4,!=2.1.2,!=2.1.6,>=2.0.1 in /usr/local/lib/python3.7/dist-packages (from matplotlib>=3.0.0->ktrain) (2.4.7)\n",
            "Requirement already satisfied: cycler>=0.10 in /usr/local/lib/python3.7/dist-packages (from matplotlib>=3.0.0->ktrain) (0.10.0)\n",
            "Requirement already satisfied: kiwisolver>=1.0.1 in /usr/local/lib/python3.7/dist-packages (from matplotlib>=3.0.0->ktrain) (1.3.2)\n",
            "Requirement already satisfied: six in /usr/local/lib/python3.7/dist-packages (from cycler>=0.10->matplotlib>=3.0.0->ktrain) (1.15.0)\n",
            "Requirement already satisfied: pytz>=2017.2 in /usr/local/lib/python3.7/dist-packages (from pandas>=1.0.1->ktrain) (2018.9)\n",
            "Requirement already satisfied: sacremoses in /usr/local/lib/python3.7/dist-packages (from transformers<=4.3.3,>=4.0.0->ktrain) (0.0.46)\n",
            "Requirement already satisfied: filelock in /usr/local/lib/python3.7/dist-packages (from transformers<=4.3.3,>=4.0.0->ktrain) (3.0.12)\n",
            "Requirement already satisfied: tqdm>=4.27 in /usr/local/lib/python3.7/dist-packages (from transformers<=4.3.3,>=4.0.0->ktrain) (4.62.2)\n",
            "Requirement already satisfied: regex!=2019.12.17 in /usr/local/lib/python3.7/dist-packages (from transformers<=4.3.3,>=4.0.0->ktrain) (2019.12.20)\n",
            "Requirement already satisfied: tokenizers<0.11,>=0.10.1 in /usr/local/lib/python3.7/dist-packages (from transformers<=4.3.3,>=4.0.0->ktrain) (0.10.3)\n",
            "Requirement already satisfied: importlib-metadata in /usr/local/lib/python3.7/dist-packages (from transformers<=4.3.3,>=4.0.0->ktrain) (4.8.1)\n",
            "Requirement already satisfied: typing-extensions>=3.6.4 in /usr/local/lib/python3.7/dist-packages (from importlib-metadata->transformers<=4.3.3,>=4.0.0->ktrain) (3.7.4.3)\n",
            "Requirement already satisfied: zipp>=0.5 in /usr/local/lib/python3.7/dist-packages (from importlib-metadata->transformers<=4.3.3,>=4.0.0->ktrain) (3.5.0)\n",
            "Requirement already satisfied: prompt-toolkit<2.0.0,>=1.0.4 in /usr/local/lib/python3.7/dist-packages (from ipython->ktrain) (1.0.18)\n",
            "Requirement already satisfied: pygments in /usr/local/lib/python3.7/dist-packages (from ipython->ktrain) (2.6.1)\n",
            "Requirement already satisfied: pickleshare in /usr/local/lib/python3.7/dist-packages (from ipython->ktrain) (0.7.5)\n",
            "Requirement already satisfied: pexpect in /usr/local/lib/python3.7/dist-packages (from ipython->ktrain) (4.8.0)\n",
            "Requirement already satisfied: simplegeneric>0.8 in /usr/local/lib/python3.7/dist-packages (from ipython->ktrain) (0.8.1)\n",
            "Requirement already satisfied: setuptools>=18.5 in /usr/local/lib/python3.7/dist-packages (from ipython->ktrain) (57.4.0)\n",
            "Requirement already satisfied: decorator in /usr/local/lib/python3.7/dist-packages (from ipython->ktrain) (4.4.2)\n",
            "Requirement already satisfied: traitlets>=4.2 in /usr/local/lib/python3.7/dist-packages (from ipython->ktrain) (5.1.0)\n",
            "Requirement already satisfied: wcwidth in /usr/local/lib/python3.7/dist-packages (from prompt-toolkit<2.0.0,>=1.0.4->ipython->ktrain) (0.2.5)\n",
            "Requirement already satisfied: ptyprocess>=0.5 in /usr/local/lib/python3.7/dist-packages (from pexpect->ipython->ktrain) (0.7.0)\n",
            "Requirement already satisfied: certifi>=2017.4.17 in /usr/local/lib/python3.7/dist-packages (from requests->ktrain) (2021.5.30)\n",
            "Requirement already satisfied: idna<3,>=2.5 in /usr/local/lib/python3.7/dist-packages (from requests->ktrain) (2.10)\n",
            "Requirement already satisfied: urllib3!=1.25.0,!=1.25.1,<1.26,>=1.21.1 in /usr/local/lib/python3.7/dist-packages (from requests->ktrain) (1.24.3)\n",
            "Requirement already satisfied: click in /usr/local/lib/python3.7/dist-packages (from sacremoses->transformers<=4.3.3,>=4.0.0->ktrain) (7.1.2)\n"
          ]
        }
      ]
    },
    {
      "cell_type": "code",
      "metadata": {
        "id": "yaGQCrpbmQ-D"
      },
      "source": [
        "#initialise wandb\n",
        "#%env WANDB_PROJECT='gpt3', entity='alpha-coders'\n",
        "#%env WANDB_LOG_MODEL=true"
      ],
      "execution_count": 7,
      "outputs": []
    },
    {
      "cell_type": "code",
      "metadata": {
        "id": "g39Iq_EPKaNc"
      },
      "source": [
        "%reload_ext autoreload\n",
        "%autoreload 2\n",
        "%matplotlib inline\n",
        "import os\n",
        "os.environ[\"CUDA_DEVICE_ORDER\"]=\"PCI_BUS_ID\";\n",
        "os.environ[\"CUDA_VISIBLE_DEVICES\"]=\"0\";"
      ],
      "execution_count": 8,
      "outputs": []
    },
    {
      "cell_type": "code",
      "metadata": {
        "id": "Z-u7gHPUKguE"
      },
      "source": [
        "import ktrain\n",
        "from ktrain import text\n",
        "import pandas as pd"
      ],
      "execution_count": 9,
      "outputs": []
    },
    {
      "cell_type": "code",
      "metadata": {
        "id": "F1Eqi1HAKmDL"
      },
      "source": [
        "data_df = pd.read_csv('/content/balanced_data.csv')"
      ],
      "execution_count": 10,
      "outputs": []
    },
    {
      "cell_type": "code",
      "metadata": {
        "id": "rzE5Td8KLQZh",
        "colab": {
          "base_uri": "https://localhost:8080/",
          "height": 302
        },
        "outputId": "7d83e9b5-8bf0-4b7e-b1f8-7f63d232c0df"
      },
      "source": [
        "data_df.head()"
      ],
      "execution_count": 11,
      "outputs": [
        {
          "output_type": "execute_result",
          "data": {
            "text/html": [
              "<div>\n",
              "<style scoped>\n",
              "    .dataframe tbody tr th:only-of-type {\n",
              "        vertical-align: middle;\n",
              "    }\n",
              "\n",
              "    .dataframe tbody tr th {\n",
              "        vertical-align: top;\n",
              "    }\n",
              "\n",
              "    .dataframe thead th {\n",
              "        text-align: right;\n",
              "    }\n",
              "</style>\n",
              "<table border=\"1\" class=\"dataframe\">\n",
              "  <thead>\n",
              "    <tr style=\"text-align: right;\">\n",
              "      <th></th>\n",
              "      <th>Unnamed: 0</th>\n",
              "      <th>Unnamed: 0.1</th>\n",
              "      <th>friends_count</th>\n",
              "      <th>followers_count</th>\n",
              "      <th>statuses_count</th>\n",
              "      <th>created_at</th>\n",
              "      <th>retweet_count</th>\n",
              "      <th>label</th>\n",
              "      <th>town</th>\n",
              "      <th>clean_text</th>\n",
              "    </tr>\n",
              "  </thead>\n",
              "  <tbody>\n",
              "    <tr>\n",
              "      <th>0</th>\n",
              "      <td>2864</td>\n",
              "      <td>133</td>\n",
              "      <td>424</td>\n",
              "      <td>55</td>\n",
              "      <td>412</td>\n",
              "      <td>9/13/2021 1:47</td>\n",
              "      <td>0</td>\n",
              "      <td>thoughts</td>\n",
              "      <td>nyeri</td>\n",
              "      <td>go torture deserve get bully since yr old body...</td>\n",
              "    </tr>\n",
              "    <tr>\n",
              "      <th>1</th>\n",
              "      <td>3350</td>\n",
              "      <td>624</td>\n",
              "      <td>3438</td>\n",
              "      <td>1562</td>\n",
              "      <td>9614</td>\n",
              "      <td>9/9/2021 4:07</td>\n",
              "      <td>6</td>\n",
              "      <td>thoughts</td>\n",
              "      <td>majengo</td>\n",
              "      <td>remember suicide thought thought act get contr...</td>\n",
              "    </tr>\n",
              "    <tr>\n",
              "      <th>2</th>\n",
              "      <td>2864</td>\n",
              "      <td>133</td>\n",
              "      <td>424</td>\n",
              "      <td>55</td>\n",
              "      <td>412</td>\n",
              "      <td>9/13/2021 1:47</td>\n",
              "      <td>0</td>\n",
              "      <td>thoughts</td>\n",
              "      <td>nyeri</td>\n",
              "      <td>go torture deserve get bully since yr old body...</td>\n",
              "    </tr>\n",
              "    <tr>\n",
              "      <th>3</th>\n",
              "      <td>3151</td>\n",
              "      <td>422</td>\n",
              "      <td>277</td>\n",
              "      <td>98</td>\n",
              "      <td>729</td>\n",
              "      <td>9/10/2021 8:13</td>\n",
              "      <td>0</td>\n",
              "      <td>thoughts</td>\n",
              "      <td>nairobi</td>\n",
              "      <td>suicide squad exist worldsuicidepreventionday ...</td>\n",
              "    </tr>\n",
              "    <tr>\n",
              "      <th>4</th>\n",
              "      <td>3259</td>\n",
              "      <td>533</td>\n",
              "      <td>5486</td>\n",
              "      <td>48711</td>\n",
              "      <td>295173</td>\n",
              "      <td>9/10/2021 4:09</td>\n",
              "      <td>0</td>\n",
              "      <td>thoughts</td>\n",
              "      <td>nairobi</td>\n",
              "      <td>people rarely commit suicide want die want sto...</td>\n",
              "    </tr>\n",
              "  </tbody>\n",
              "</table>\n",
              "</div>"
            ],
            "text/plain": [
              "   Unnamed: 0  ...                                         clean_text\n",
              "0        2864  ...  go torture deserve get bully since yr old body...\n",
              "1        3350  ...  remember suicide thought thought act get contr...\n",
              "2        2864  ...  go torture deserve get bully since yr old body...\n",
              "3        3151  ...  suicide squad exist worldsuicidepreventionday ...\n",
              "4        3259  ...  people rarely commit suicide want die want sto...\n",
              "\n",
              "[5 rows x 10 columns]"
            ]
          },
          "metadata": {},
          "execution_count": 11
        }
      ]
    },
    {
      "cell_type": "code",
      "metadata": {
        "id": "E9ybeBf6N9jc",
        "colab": {
          "base_uri": "https://localhost:8080/"
        },
        "outputId": "ae631143-f79b-423f-872f-7d49e2d9d037"
      },
      "source": [
        "data_df['label'].value_counts()"
      ],
      "execution_count": 12,
      "outputs": [
        {
          "output_type": "execute_result",
          "data": {
            "text/plain": [
              "awareness          355\n",
              "anxiety            355\n",
              "stress             355\n",
              "general tweet      355\n",
              "thoughts           355\n",
              "depression         355\n",
              "substance abuse    355\n",
              "Name: label, dtype: int64"
            ]
          },
          "metadata": {},
          "execution_count": 12
        }
      ]
    },
    {
      "cell_type": "code",
      "metadata": {
        "id": "OUgV4lpUZuVs",
        "colab": {
          "base_uri": "https://localhost:8080/"
        },
        "outputId": "7043252f-868d-4490-95de-78dce597975f"
      },
      "source": [
        "data_df.isnull().sum()"
      ],
      "execution_count": 13,
      "outputs": [
        {
          "output_type": "execute_result",
          "data": {
            "text/plain": [
              "Unnamed: 0         0\n",
              "Unnamed: 0.1       0\n",
              "friends_count      0\n",
              "followers_count    0\n",
              "statuses_count     0\n",
              "created_at         0\n",
              "retweet_count      0\n",
              "label              0\n",
              "town               0\n",
              "clean_text         0\n",
              "dtype: int64"
            ]
          },
          "metadata": {},
          "execution_count": 13
        }
      ]
    },
    {
      "cell_type": "code",
      "metadata": {
        "id": "fF8jkZ0EaCmc"
      },
      "source": [
        "data_df.dropna(inplace=True)"
      ],
      "execution_count": 14,
      "outputs": []
    },
    {
      "cell_type": "code",
      "metadata": {
        "id": "CaHs_CbdaWG2",
        "colab": {
          "base_uri": "https://localhost:8080/"
        },
        "outputId": "20ae38ca-9ed0-4b75-f263-0c198da1cdff"
      },
      "source": [
        "data_df.isnull().sum()"
      ],
      "execution_count": 15,
      "outputs": [
        {
          "output_type": "execute_result",
          "data": {
            "text/plain": [
              "Unnamed: 0         0\n",
              "Unnamed: 0.1       0\n",
              "friends_count      0\n",
              "followers_count    0\n",
              "statuses_count     0\n",
              "created_at         0\n",
              "retweet_count      0\n",
              "label              0\n",
              "town               0\n",
              "clean_text         0\n",
              "dtype: int64"
            ]
          },
          "metadata": {},
          "execution_count": 15
        }
      ]
    },
    {
      "cell_type": "code",
      "metadata": {
        "id": "dg76qrmALYOm",
        "colab": {
          "base_uri": "https://localhost:8080/",
          "height": 202
        },
        "outputId": "93077b8e-5ced-4de7-d60f-f514996a82d1"
      },
      "source": [
        "# creating a dataframe with the tweet and target column\n",
        "data_df= data_df[['clean_text','label']]\n",
        "data_df.head()"
      ],
      "execution_count": 16,
      "outputs": [
        {
          "output_type": "execute_result",
          "data": {
            "text/html": [
              "<div>\n",
              "<style scoped>\n",
              "    .dataframe tbody tr th:only-of-type {\n",
              "        vertical-align: middle;\n",
              "    }\n",
              "\n",
              "    .dataframe tbody tr th {\n",
              "        vertical-align: top;\n",
              "    }\n",
              "\n",
              "    .dataframe thead th {\n",
              "        text-align: right;\n",
              "    }\n",
              "</style>\n",
              "<table border=\"1\" class=\"dataframe\">\n",
              "  <thead>\n",
              "    <tr style=\"text-align: right;\">\n",
              "      <th></th>\n",
              "      <th>clean_text</th>\n",
              "      <th>label</th>\n",
              "    </tr>\n",
              "  </thead>\n",
              "  <tbody>\n",
              "    <tr>\n",
              "      <th>0</th>\n",
              "      <td>go torture deserve get bully since yr old body...</td>\n",
              "      <td>thoughts</td>\n",
              "    </tr>\n",
              "    <tr>\n",
              "      <th>1</th>\n",
              "      <td>remember suicide thought thought act get contr...</td>\n",
              "      <td>thoughts</td>\n",
              "    </tr>\n",
              "    <tr>\n",
              "      <th>2</th>\n",
              "      <td>go torture deserve get bully since yr old body...</td>\n",
              "      <td>thoughts</td>\n",
              "    </tr>\n",
              "    <tr>\n",
              "      <th>3</th>\n",
              "      <td>suicide squad exist worldsuicidepreventionday ...</td>\n",
              "      <td>thoughts</td>\n",
              "    </tr>\n",
              "    <tr>\n",
              "      <th>4</th>\n",
              "      <td>people rarely commit suicide want die want sto...</td>\n",
              "      <td>thoughts</td>\n",
              "    </tr>\n",
              "  </tbody>\n",
              "</table>\n",
              "</div>"
            ],
            "text/plain": [
              "                                          clean_text     label\n",
              "0  go torture deserve get bully since yr old body...  thoughts\n",
              "1  remember suicide thought thought act get contr...  thoughts\n",
              "2  go torture deserve get bully since yr old body...  thoughts\n",
              "3  suicide squad exist worldsuicidepreventionday ...  thoughts\n",
              "4  people rarely commit suicide want die want sto...  thoughts"
            ]
          },
          "metadata": {},
          "execution_count": 16
        }
      ]
    },
    {
      "cell_type": "code",
      "metadata": {
        "id": "NDeHiWtLL_2J",
        "colab": {
          "base_uri": "https://localhost:8080/"
        },
        "outputId": "efa3caea-4cb9-4e54-cac0-92a17609c3e0"
      },
      "source": [
        "# Defining our X and Y varaibles\n",
        "X = data_df['clean_text']\n",
        "y= data_df['label']\n",
        "print(X.head())\n",
        "print('/n')\n",
        "print(y.head())"
      ],
      "execution_count": 17,
      "outputs": [
        {
          "output_type": "stream",
          "name": "stdout",
          "text": [
            "0    go torture deserve get bully since yr old body...\n",
            "1    remember suicide thought thought act get contr...\n",
            "2    go torture deserve get bully since yr old body...\n",
            "3    suicide squad exist worldsuicidepreventionday ...\n",
            "4    people rarely commit suicide want die want sto...\n",
            "Name: clean_text, dtype: object\n",
            "/n\n",
            "0    thoughts\n",
            "1    thoughts\n",
            "2    thoughts\n",
            "3    thoughts\n",
            "4    thoughts\n",
            "Name: label, dtype: object\n"
          ]
        }
      ]
    },
    {
      "cell_type": "code",
      "metadata": {
        "id": "WtrqsKQeYFTI",
        "colab": {
          "base_uri": "https://localhost:8080/"
        },
        "outputId": "4fb43a3e-c7b0-4ff8-b115-9807432ced9f"
      },
      "source": [
        "activity_count = y.value_counts()\n",
        "activity_count"
      ],
      "execution_count": 18,
      "outputs": [
        {
          "output_type": "execute_result",
          "data": {
            "text/plain": [
              "awareness          355\n",
              "anxiety            355\n",
              "stress             355\n",
              "general tweet      355\n",
              "thoughts           355\n",
              "depression         355\n",
              "substance abuse    355\n",
              "Name: label, dtype: int64"
            ]
          },
          "metadata": {},
          "execution_count": 18
        }
      ]
    },
    {
      "cell_type": "code",
      "metadata": {
        "id": "NrBjBzHSMRoq"
      },
      "source": [
        "# Splitting our data into train and test\n",
        "from sklearn.model_selection import train_test_split\n",
        "X_train, X_test, y_train, y_test = train_test_split(X, y, test_size=0.2, random_state=42)"
      ],
      "execution_count": 19,
      "outputs": []
    },
    {
      "cell_type": "code",
      "metadata": {
        "id": "KTpaQVZ5MXHN",
        "colab": {
          "base_uri": "https://localhost:8080/"
        },
        "outputId": "65d38bf4-5b11-4e19-c517-dba9df09fdd9"
      },
      "source": [
        "# checking our classes\n",
        "data_df.label.unique()"
      ],
      "execution_count": 20,
      "outputs": [
        {
          "output_type": "execute_result",
          "data": {
            "text/plain": [
              "array(['thoughts', 'substance abuse', 'stress', 'general tweet',\n",
              "       'anxiety', 'awareness', 'depression'], dtype=object)"
            ]
          },
          "metadata": {},
          "execution_count": 20
        }
      ]
    },
    {
      "cell_type": "code",
      "metadata": {
        "id": "-CGMvw3CMeGu"
      },
      "source": [
        "# creating a list varaiable for our classes\n",
        "target = ['general tweet', 'anxiety', 'stress', 'depression',\n",
        "       'substance abuse', 'awareness', 'thoughts']"
      ],
      "execution_count": 21,
      "outputs": []
    },
    {
      "cell_type": "code",
      "metadata": {
        "id": "rbqSBqIuYUvo",
        "colab": {
          "base_uri": "https://localhost:8080/"
        },
        "outputId": "a50788a0-5bb8-45d6-aafe-fd8d00490bd1"
      },
      "source": [
        "# Defining our X and Y varaibles\n",
        "X_test = data_df['clean_text'].astype(str)\n",
        "y_test = data_df['label'].astype(str)\n",
        "print(X_test.head())\n",
        "print('/n')\n",
        "print(y_test.head())"
      ],
      "execution_count": 22,
      "outputs": [
        {
          "output_type": "stream",
          "name": "stdout",
          "text": [
            "0    go torture deserve get bully since yr old body...\n",
            "1    remember suicide thought thought act get contr...\n",
            "2    go torture deserve get bully since yr old body...\n",
            "3    suicide squad exist worldsuicidepreventionday ...\n",
            "4    people rarely commit suicide want die want sto...\n",
            "Name: clean_text, dtype: object\n",
            "/n\n",
            "0    thoughts\n",
            "1    thoughts\n",
            "2    thoughts\n",
            "3    thoughts\n",
            "4    thoughts\n",
            "Name: label, dtype: object\n"
          ]
        }
      ]
    },
    {
      "cell_type": "code",
      "metadata": {
        "id": "9uMV9WwPMu3q"
      },
      "source": [
        "# converting our train varaibles to numpy array\n",
        "X_train= X_train.to_numpy()\n",
        "y_train= y_train.to_numpy()"
      ],
      "execution_count": 23,
      "outputs": []
    },
    {
      "cell_type": "code",
      "metadata": {
        "id": "EtAYiw48M0N9"
      },
      "source": [
        "# converting our test varaibles to numpy array\n",
        "X_test= X_test.to_numpy()\n",
        "y_test = y_test.to_numpy()"
      ],
      "execution_count": 24,
      "outputs": []
    },
    {
      "cell_type": "code",
      "metadata": {
        "id": "7SLgSNQtav7x"
      },
      "source": [
        "from transformers import AutoTokenizer, AutoModelForSequenceClassification\n",
        "  \n",
        "tokenizer = AutoTokenizer.from_pretrained(\"distilbert-base-uncased\")\n",
        "\n",
        "model = AutoModelForSequenceClassification.from_pretrained(\"distilbert-base-uncased\")"
      ],
      "execution_count": 25,
      "outputs": []
    },
    {
      "cell_type": "code",
      "metadata": {
        "id": "D28OQ28HNIyu",
        "colab": {
          "base_uri": "https://localhost:8080/",
          "height": 303
        },
        "outputId": "359c017a-6358-4562-94bf-3fc3a7b6327f"
      },
      "source": [
        "# defining our model object and preprocessing our data\n",
        "MODEL_NAME = \"distilbert-base-uncased\"\n",
        "t = text.Transformer(MODEL_NAME, maxlen=500, class_names= target)\n",
        "trn = t.preprocess_train(X_train, y_train)\n",
        "val = t.preprocess_test(X_test, y_test)\n",
        "model = t.get_classifier()\n",
        "learner = ktrain.get_learner(model, train_data=trn, val_data=val, batch_size=6)\n"
      ],
      "execution_count": 26,
      "outputs": [
        {
          "output_type": "stream",
          "name": "stdout",
          "text": [
            "preprocessing train...\n",
            "language: en\n",
            "train sequence lengths:\n",
            "\tmean : 9\n",
            "\t95percentile : 14\n",
            "\t99percentile : 17\n"
          ]
        },
        {
          "output_type": "stream",
          "name": "stderr",
          "text": [
            "/usr/local/lib/python3.7/dist-packages/ktrain/utils.py:600: UserWarning: class_names argument was ignored, as they were extracted from string labels in dataset\n",
            "  if self.get_classes(): warnings.warn('class_names argument was ignored, as they were extracted from string labels in dataset')\n"
          ]
        },
        {
          "output_type": "display_data",
          "data": {
            "text/html": [
              ""
            ],
            "text/plain": [
              "<IPython.core.display.HTML object>"
            ]
          },
          "metadata": {}
        },
        {
          "output_type": "stream",
          "name": "stdout",
          "text": [
            "Is Multi-Label? False\n",
            "preprocessing test...\n",
            "language: en\n",
            "test sequence lengths:\n",
            "\tmean : 9\n",
            "\t95percentile : 14\n",
            "\t99percentile : 17\n"
          ]
        },
        {
          "output_type": "display_data",
          "data": {
            "text/html": [
              ""
            ],
            "text/plain": [
              "<IPython.core.display.HTML object>"
            ]
          },
          "metadata": {}
        }
      ]
    },
    {
      "cell_type": "code",
      "metadata": {
        "id": "jVuVXL5pCkwx"
      },
      "source": [
        "# Import required model class\n",
        "from transformers import TFDistilBertForSequenceClassification\n",
        "# Download pre-trained model\n",
        "model = TFDistilBertForSequenceClassification.from_pretrained(MODEL_NAME, \n",
        "                                                              num_labels=7,\n",
        "                                                              output_hidden_states=True, \n",
        "                                                              output_attentions=True\n",
        "                                                              )"
      ],
      "execution_count": 27,
      "outputs": []
    },
    {
      "cell_type": "code",
      "metadata": {
        "id": "XHwvTDstCxWV"
      },
      "source": [
        "from transformers import DistilBertConfig\n",
        "config = DistilBertConfig(n_heads=8, dim=512, hidden_dim=4*512)\n",
        "model = TFDistilBertForSequenceClassification(config)"
      ],
      "execution_count": 28,
      "outputs": []
    },
    {
      "cell_type": "code",
      "metadata": {
        "id": "M99PrRRwi6Ue",
        "colab": {
          "base_uri": "https://localhost:8080/",
          "height": 597
        },
        "outputId": "2a4c1870-9b95-48c3-c118-17f3b7880565"
      },
      "source": [
        "#initialise wandb\n",
        "wandb.init(project='gpt3', save_code= True, entity='Alpha-coders')\n",
        "\n"
      ],
      "execution_count": 29,
      "outputs": [
        {
          "output_type": "stream",
          "name": "stderr",
          "text": [
            "\u001b[34m\u001b[1mwandb\u001b[0m: Currently logged in as: \u001b[33mkanoak\u001b[0m (use `wandb login --relogin` to force relogin)\n"
          ]
        },
        {
          "output_type": "display_data",
          "data": {
            "text/html": [
              "\n",
              "                Tracking run with wandb version 0.12.2<br/>\n",
              "                Syncing run <strong style=\"color:#cdcd00\">distinctive-cosmos-47</strong> to <a href=\"https://wandb.ai\" target=\"_blank\">Weights & Biases</a> <a href=\"https://docs.wandb.com/integrations/jupyter.html\" target=\"_blank\">(Documentation)</a>.<br/>\n",
              "                Project page: <a href=\"https://wandb.ai/alpha-coders/gpt3\" target=\"_blank\">https://wandb.ai/alpha-coders/gpt3</a><br/>\n",
              "                Run page: <a href=\"https://wandb.ai/alpha-coders/gpt3/runs/1djj9l8v\" target=\"_blank\">https://wandb.ai/alpha-coders/gpt3/runs/1djj9l8v</a><br/>\n",
              "                Run data is saved locally in <code>/content/wandb/run-20210926_114253-1djj9l8v</code><br/><br/>\n",
              "            "
            ],
            "text/plain": [
              "<IPython.core.display.HTML object>"
            ]
          },
          "metadata": {}
        },
        {
          "output_type": "execute_result",
          "data": {
            "text/plain": [
              "<wandb.sdk.wandb_run.Run at 0x7f9b506314d0>"
            ],
            "text/html": [
              "<h1>Run(1djj9l8v)</h1><iframe src=\"https://wandb.ai/alpha-coders/gpt3/runs/1djj9l8v\" style=\"border:none;width:100%;height:400px\"></iframe>"
            ]
          },
          "metadata": {},
          "execution_count": 29
        }
      ]
    },
    {
      "cell_type": "code",
      "metadata": {
        "id": "Whh6MBkKIFOc",
        "colab": {
          "base_uri": "https://localhost:8080/",
          "height": 303,
          "referenced_widgets": [
            "862ed3b97bff4be2b29c6f5b4f92a388",
            "95a9519c548846909a5f723261f45239",
            "31c1c78ac4e84365977919b4164cb251",
            "ac2411cb75d245fa87ca0888ffbde803",
            "fc37014e2ccd48608468e5fb8897ac0b",
            "eebc6b5189494f7abda4cbb66f3c73c2",
            "7701239a17f549c28014254199077338",
            "5f870bace0734bed93a729992d6bd753"
          ]
        },
        "outputId": "9984812f-8f49-4231-882a-368c4a667f05"
      },
      "source": [
        "from transformers import TFTrainer,TFTrainingArguments\n",
        "training_args = TFTrainingArguments(\n",
        "    output_dir='./results',          \n",
        "    num_train_epochs=3,              \n",
        "    per_device_train_batch_size=16,  \n",
        "    per_device_eval_batch_size=64,   \n",
        "    warmup_steps=500,                \n",
        "    weight_decay=0.01,\n",
        "    load_best_model_at_end=True,\n",
        "    logging_dir='./logs',            \n",
        "    logging_steps=10,\n",
        "    report_to=\"wandb\",  # enable logging to W&B\n",
        "    run_name=\"Augmented-trainset\"\n",
        "       \n",
        ")\n",
        "with training_args.strategy.scope():\n",
        "    model = TFDistilBertForSequenceClassification.from_pretrained(\"distilbert-base-uncased\")\n",
        "    \n",
        "\n",
        "\n",
        "trainer = TFTrainer(\n",
        "    model=model,                         \n",
        "    args=training_args,                  \n",
        "    train_dataset=trn,         \n",
        "    eval_dataset=val             \n",
        ")"
      ],
      "execution_count": 30,
      "outputs": [
        {
          "output_type": "display_data",
          "data": {
            "text/html": [
              "Finishing last run (ID:1djj9l8v) before initializing another..."
            ],
            "text/plain": [
              "<IPython.core.display.HTML object>"
            ]
          },
          "metadata": {}
        },
        {
          "output_type": "display_data",
          "data": {
            "text/html": [
              "<br/>Waiting for W&B process to finish, PID 783<br/>Program ended successfully."
            ],
            "text/plain": [
              "<IPython.core.display.HTML object>"
            ]
          },
          "metadata": {}
        },
        {
          "output_type": "display_data",
          "data": {
            "application/vnd.jupyter.widget-view+json": {
              "model_id": "862ed3b97bff4be2b29c6f5b4f92a388",
              "version_minor": 0,
              "version_major": 2
            },
            "text/plain": [
              "VBox(children=(Label(value=' 0.10MB of 0.10MB uploaded (0.00MB deduped)\\r'), FloatProgress(value=1.0, max=1.0)…"
            ]
          },
          "metadata": {}
        },
        {
          "output_type": "display_data",
          "data": {
            "text/html": [
              "Find user logs for this run at: <code>/content/wandb/run-20210926_114253-1djj9l8v/logs/debug.log</code>"
            ],
            "text/plain": [
              "<IPython.core.display.HTML object>"
            ]
          },
          "metadata": {}
        },
        {
          "output_type": "display_data",
          "data": {
            "text/html": [
              "Find internal logs for this run at: <code>/content/wandb/run-20210926_114253-1djj9l8v/logs/debug-internal.log</code>"
            ],
            "text/plain": [
              "<IPython.core.display.HTML object>"
            ]
          },
          "metadata": {}
        },
        {
          "output_type": "display_data",
          "data": {
            "text/html": [
              "Synced 4 W&B file(s), 0 media file(s), 3 artifact file(s) and 1 other file(s)"
            ],
            "text/plain": [
              "<IPython.core.display.HTML object>"
            ]
          },
          "metadata": {}
        },
        {
          "output_type": "display_data",
          "data": {
            "text/html": [
              "\n",
              "                    <br/>Synced <strong style=\"color:#cdcd00\">distinctive-cosmos-47</strong>: <a href=\"https://wandb.ai/alpha-coders/gpt3/runs/1djj9l8v\" target=\"_blank\">https://wandb.ai/alpha-coders/gpt3/runs/1djj9l8v</a><br/>\n",
              "                "
            ],
            "text/plain": [
              "<IPython.core.display.HTML object>"
            ]
          },
          "metadata": {}
        },
        {
          "output_type": "display_data",
          "data": {
            "text/html": [
              "...Successfully finished last run (ID:1djj9l8v). Initializing new run:<br/><br/>"
            ],
            "text/plain": [
              "<IPython.core.display.HTML object>"
            ]
          },
          "metadata": {}
        },
        {
          "output_type": "display_data",
          "data": {
            "text/html": [
              "\n",
              "                Tracking run with wandb version 0.12.2<br/>\n",
              "                Syncing run <strong style=\"color:#cdcd00\">Augmented-trainset</strong> to <a href=\"https://wandb.ai\" target=\"_blank\">Weights & Biases</a> <a href=\"https://docs.wandb.com/integrations/jupyter.html\" target=\"_blank\">(Documentation)</a>.<br/>\n",
              "                Project page: <a href=\"https://wandb.ai/kanoak/huggingface\" target=\"_blank\">https://wandb.ai/kanoak/huggingface</a><br/>\n",
              "                Run page: <a href=\"https://wandb.ai/kanoak/huggingface/runs/2kpa7din\" target=\"_blank\">https://wandb.ai/kanoak/huggingface/runs/2kpa7din</a><br/>\n",
              "                Run data is saved locally in <code>/content/wandb/run-20210926_114259-2kpa7din</code><br/><br/>\n",
              "            "
            ],
            "text/plain": [
              "<IPython.core.display.HTML object>"
            ]
          },
          "metadata": {}
        }
      ]
    },
    {
      "cell_type": "code",
      "metadata": {
        "id": "6cGircH4NQK5",
        "colab": {
          "base_uri": "https://localhost:8080/"
        },
        "outputId": "a6ca915d-13d3-4c09-a0b1-6e77027a07bc"
      },
      "source": [
        "learner.fit_onecycle(1e-5, 10, callbacks=[WandbCallback()])"
      ],
      "execution_count": 51,
      "outputs": [
        {
          "output_type": "stream",
          "name": "stdout",
          "text": [
            "\n",
            "\n",
            "begin training using onecycle policy with max lr of 1e-05...\n",
            "Epoch 1/10\n",
            "332/332 [==============================] - 226s 679ms/step - loss: 1.0618 - accuracy: 0.6876 - val_loss: 0.9804 - val_accuracy: 0.7111\n"
          ]
        },
        {
          "output_type": "stream",
          "name": "stderr",
          "text": [
            "\u001b[34m\u001b[1mwandb\u001b[0m: \u001b[32m\u001b[41mERROR\u001b[0m Can't save model, h5py returned error: Saving the model to HDF5 format requires the model to be a Functional model or a Sequential model. It does not work for subclassed models, because such models are defined via the body of a Python method, which isn't safely serializable. Consider saving to the Tensorflow SavedModel format (by setting save_format=\"tf\") or using `save_weights`.\n"
          ]
        },
        {
          "output_type": "stream",
          "name": "stdout",
          "text": [
            "Epoch 2/10\n",
            "332/332 [==============================] - 226s 679ms/step - loss: 0.9644 - accuracy: 0.7113 - val_loss: 0.8570 - val_accuracy: 0.7372\n",
            "Epoch 3/10\n",
            "332/332 [==============================] - 226s 679ms/step - loss: 0.8426 - accuracy: 0.7409 - val_loss: 0.7051 - val_accuracy: 0.7875\n",
            "Epoch 4/10\n",
            "332/332 [==============================] - 226s 678ms/step - loss: 0.6857 - accuracy: 0.7983 - val_loss: 0.5758 - val_accuracy: 0.8221\n",
            "Epoch 5/10\n",
            "332/332 [==============================] - 226s 678ms/step - loss: 0.5406 - accuracy: 0.8410 - val_loss: 0.4414 - val_accuracy: 0.8712\n",
            "Epoch 6/10\n",
            "332/332 [==============================] - 226s 679ms/step - loss: 0.4184 - accuracy: 0.8778 - val_loss: 0.3872 - val_accuracy: 0.8841\n",
            "Epoch 7/10\n",
            "332/332 [==============================] - 226s 679ms/step - loss: 0.3030 - accuracy: 0.9150 - val_loss: 0.3264 - val_accuracy: 0.9014\n",
            "Epoch 8/10\n",
            "332/332 [==============================] - 226s 679ms/step - loss: 0.2404 - accuracy: 0.9336 - val_loss: 0.3000 - val_accuracy: 0.9087\n",
            "Epoch 9/10\n",
            "332/332 [==============================] - 226s 679ms/step - loss: 0.2007 - accuracy: 0.9396 - val_loss: 0.2924 - val_accuracy: 0.9091\n",
            "Epoch 10/10\n",
            "332/332 [==============================] - 226s 679ms/step - loss: 0.1742 - accuracy: 0.9442 - val_loss: 0.2847 - val_accuracy: 0.9095\n"
          ]
        },
        {
          "output_type": "execute_result",
          "data": {
            "text/plain": [
              "<keras.callbacks.History at 0x7f9ace9913d0>"
            ]
          },
          "metadata": {},
          "execution_count": 51
        }
      ]
    },
    {
      "cell_type": "code",
      "metadata": {
        "id": "4Ypu8riojsp7",
        "colab": {
          "base_uri": "https://localhost:8080/"
        },
        "outputId": "67c634ae-607b-48d6-ee19-b2abe8794b9b"
      },
      "source": [
        "from tensorflow.keras.models import load_model\n",
        "\n",
        "model.save('Aug_model')"
      ],
      "execution_count": 32,
      "outputs": [
        {
          "output_type": "stream",
          "name": "stderr",
          "text": [
            "WARNING:absl:Found untraced functions such as embeddings_layer_call_fn, embeddings_layer_call_and_return_conditional_losses, transformer_layer_call_fn, transformer_layer_call_and_return_conditional_losses, word_embeddings_layer_call_fn while saving (showing 5 of 425). These functions will not be directly callable after loading.\n",
            "/usr/local/lib/python3.7/dist-packages/keras/utils/generic_utils.py:497: CustomMaskWarning: Custom mask layers require a config and must override get_config. When loading, the custom mask layer must be passed to the custom_objects argument.\n",
            "  category=CustomMaskWarning)\n"
          ]
        }
      ]
    },
    {
      "cell_type": "code",
      "metadata": {
        "id": "KShwmAqVj5wX",
        "colab": {
          "base_uri": "https://localhost:8080/",
          "height": 345
        },
        "outputId": "1dfec516-ef4f-493a-803a-03fac9c6663f"
      },
      "source": [
        "model = wandb.Artifact('learner', type='model')\n",
        "model.add_file('Aug_model')\n",
        "\n",
        "run.log_artifact(model)\n"
      ],
      "execution_count": 33,
      "outputs": [
        {
          "output_type": "error",
          "ename": "ValueError",
          "evalue": "ignored",
          "traceback": [
            "\u001b[0;31m---------------------------------------------------------------------------\u001b[0m",
            "\u001b[0;31mValueError\u001b[0m                                Traceback (most recent call last)",
            "\u001b[0;32m<ipython-input-33-ba68b69276e3>\u001b[0m in \u001b[0;36m<module>\u001b[0;34m()\u001b[0m\n\u001b[1;32m      1\u001b[0m \u001b[0mmodel\u001b[0m \u001b[0;34m=\u001b[0m \u001b[0mwandb\u001b[0m\u001b[0;34m.\u001b[0m\u001b[0mArtifact\u001b[0m\u001b[0;34m(\u001b[0m\u001b[0;34m'learner'\u001b[0m\u001b[0;34m,\u001b[0m \u001b[0mtype\u001b[0m\u001b[0;34m=\u001b[0m\u001b[0;34m'model'\u001b[0m\u001b[0;34m)\u001b[0m\u001b[0;34m\u001b[0m\u001b[0;34m\u001b[0m\u001b[0m\n\u001b[0;32m----> 2\u001b[0;31m \u001b[0mmodel\u001b[0m\u001b[0;34m.\u001b[0m\u001b[0madd_file\u001b[0m\u001b[0;34m(\u001b[0m\u001b[0;34m'Aug_model'\u001b[0m\u001b[0;34m)\u001b[0m\u001b[0;34m\u001b[0m\u001b[0;34m\u001b[0m\u001b[0m\n\u001b[0m\u001b[1;32m      3\u001b[0m \u001b[0;34m\u001b[0m\u001b[0m\n\u001b[1;32m      4\u001b[0m \u001b[0mrun\u001b[0m\u001b[0;34m.\u001b[0m\u001b[0mlog_artifact\u001b[0m\u001b[0;34m(\u001b[0m\u001b[0mmodel\u001b[0m\u001b[0;34m)\u001b[0m\u001b[0;34m\u001b[0m\u001b[0;34m\u001b[0m\u001b[0m\n",
            "\u001b[0;32m/usr/local/lib/python3.7/dist-packages/wandb/sdk/wandb_artifacts.py\u001b[0m in \u001b[0;36madd_file\u001b[0;34m(self, local_path, name, is_tmp)\u001b[0m\n\u001b[1;32m    369\u001b[0m         \u001b[0mself\u001b[0m\u001b[0;34m.\u001b[0m\u001b[0m_ensure_can_add\u001b[0m\u001b[0;34m(\u001b[0m\u001b[0;34m)\u001b[0m\u001b[0;34m\u001b[0m\u001b[0;34m\u001b[0m\u001b[0m\n\u001b[1;32m    370\u001b[0m         \u001b[0;32mif\u001b[0m \u001b[0;32mnot\u001b[0m \u001b[0mos\u001b[0m\u001b[0;34m.\u001b[0m\u001b[0mpath\u001b[0m\u001b[0;34m.\u001b[0m\u001b[0misfile\u001b[0m\u001b[0;34m(\u001b[0m\u001b[0mlocal_path\u001b[0m\u001b[0;34m)\u001b[0m\u001b[0;34m:\u001b[0m\u001b[0;34m\u001b[0m\u001b[0;34m\u001b[0m\u001b[0m\n\u001b[0;32m--> 371\u001b[0;31m             \u001b[0;32mraise\u001b[0m \u001b[0mValueError\u001b[0m\u001b[0;34m(\u001b[0m\u001b[0;34m\"Path is not a file: %s\"\u001b[0m \u001b[0;34m%\u001b[0m \u001b[0mlocal_path\u001b[0m\u001b[0;34m)\u001b[0m\u001b[0;34m\u001b[0m\u001b[0;34m\u001b[0m\u001b[0m\n\u001b[0m\u001b[1;32m    372\u001b[0m \u001b[0;34m\u001b[0m\u001b[0m\n\u001b[1;32m    373\u001b[0m         \u001b[0mname\u001b[0m \u001b[0;34m=\u001b[0m \u001b[0mname\u001b[0m \u001b[0;32mor\u001b[0m \u001b[0mos\u001b[0m\u001b[0;34m.\u001b[0m\u001b[0mpath\u001b[0m\u001b[0;34m.\u001b[0m\u001b[0mbasename\u001b[0m\u001b[0;34m(\u001b[0m\u001b[0mlocal_path\u001b[0m\u001b[0;34m)\u001b[0m\u001b[0;34m\u001b[0m\u001b[0;34m\u001b[0m\u001b[0m\n",
            "\u001b[0;31mValueError\u001b[0m: Path is not a file: Aug_model"
          ]
        }
      ]
    },
    {
      "cell_type": "code",
      "metadata": {
        "id": "Fp0voSkpRO5A"
      },
      "source": [
        "#predictor.save('Model')"
      ],
      "execution_count": null,
      "outputs": []
    },
    {
      "cell_type": "code",
      "metadata": {
        "id": "TRBGAa5uRYKp"
      },
      "source": [
        "#predictor = ktrain.load_predictor('/tmp/toxic_detector')"
      ],
      "execution_count": 52,
      "outputs": []
    },
    {
      "cell_type": "code",
      "metadata": {
        "id": "dEWYyknqQb7C",
        "colab": {
          "base_uri": "https://localhost:8080/"
        },
        "outputId": "892d3d44-9db2-43a3-99ac-3381e3519fc6"
      },
      "source": [
        "wandb.finish"
      ],
      "execution_count": 53,
      "outputs": [
        {
          "output_type": "execute_result",
          "data": {
            "text/plain": [
              "<function wandb.sdk.wandb_run.finish>"
            ]
          },
          "metadata": {},
          "execution_count": 53
        }
      ]
    },
    {
      "cell_type": "code",
      "metadata": {
        "id": "qDNd3f18Qpyz"
      },
      "source": [
        "def finish(exit_code: int = None) -> None:\n",
        "    \"\"\"Marks a run as finished, and finishes uploading all data.\n",
        "    This is used when creating multiple runs in the same process.\n",
        "    We automatically call this method when your script exits.\n",
        "    \"\"\"\n",
        "    if wandb.run:\n",
        "        wandb.run.finish(exit_code=exit_code)"
      ],
      "execution_count": 54,
      "outputs": []
    },
    {
      "cell_type": "code",
      "metadata": {
        "id": "81hjvUxwecpE",
        "colab": {
          "base_uri": "https://localhost:8080/"
        },
        "outputId": "924569e3-5a3f-41a4-ccd2-3e19b35d56dc"
      },
      "source": [
        "learner.validate(class_names=t.get_classes())"
      ],
      "execution_count": 55,
      "outputs": [
        {
          "output_type": "stream",
          "name": "stdout",
          "text": [
            "                 precision    recall  f1-score   support\n",
            "\n",
            "        anxiety       0.87      0.88      0.88       355\n",
            "      awareness       0.88      0.87      0.88       355\n",
            "     depression       0.91      0.86      0.88       355\n",
            "  general tweet       0.89      0.81      0.85       355\n",
            "         stress       0.93      0.98      0.95       355\n",
            "substance abuse       0.94      0.97      0.96       355\n",
            "       thoughts       0.94      0.99      0.96       355\n",
            "\n",
            "       accuracy                           0.91      2485\n",
            "      macro avg       0.91      0.91      0.91      2485\n",
            "   weighted avg       0.91      0.91      0.91      2485\n",
            "\n"
          ]
        },
        {
          "output_type": "execute_result",
          "data": {
            "text/plain": [
              "array([[314,   7,  14,   8,  11,   1,   0],\n",
              "       [  7, 310,  10,   9,   6,   7,   6],\n",
              "       [ 18,  12, 305,   8,   5,   2,   5],\n",
              "       [ 19,  19,   6, 286,   4,  10,  11],\n",
              "       [  3,   0,   0,   3, 347,   2,   0],\n",
              "       [  0,   2,   0,   4,   2, 346,   1],\n",
              "       [  0,   1,   0,   2,   0,   0, 352]])"
            ]
          },
          "metadata": {},
          "execution_count": 55
        }
      ]
    },
    {
      "cell_type": "code",
      "metadata": {
        "id": "2vncagZdej4W",
        "colab": {
          "base_uri": "https://localhost:8080/"
        },
        "outputId": "d2a6e786-8907-41c2-c273-20d9df67329f"
      },
      "source": [
        "# the one we got most wrong\n",
        "learner.view_top_losses(n=1, preproc=t)"
      ],
      "execution_count": 56,
      "outputs": [
        {
          "output_type": "stream",
          "name": "stdout",
          "text": [
            "----------\n",
            "id:694 | loss:6.63 | true:substance abuse | pred:awareness)\n",
            "\n"
          ]
        }
      ]
    },
    {
      "cell_type": "code",
      "metadata": {
        "id": "UidoHTwUezJr",
        "colab": {
          "base_uri": "https://localhost:8080/"
        },
        "outputId": "74b8d21d-7265-4843-b561-bcd36c7fa811"
      },
      "source": [
        "print(X_test[468])"
      ],
      "execution_count": 57,
      "outputs": [
        {
          "output_type": "stream",
          "name": "stdout",
          "text": [
            "sellyamutabi think high time care addiction alcohol recognize problem first\n"
          ]
        }
      ]
    },
    {
      "cell_type": "code",
      "metadata": {
        "id": "D0TU7auDfCAO"
      },
      "source": [
        "predictor = ktrain.get_predictor(learner.model, preproc=t)"
      ],
      "execution_count": 58,
      "outputs": []
    },
    {
      "cell_type": "code",
      "metadata": {
        "id": "9i1qfXHvfKjd",
        "colab": {
          "base_uri": "https://localhost:8080/",
          "height": 35
        },
        "outputId": "8454e91e-40e0-483b-adb9-9696a426f7d5"
      },
      "source": [
        "predictor.predict('would want people around depressed pearlradioke worldsuicidepreventionday cc')"
      ],
      "execution_count": 59,
      "outputs": [
        {
          "output_type": "execute_result",
          "data": {
            "application/vnd.google.colaboratory.intrinsic+json": {
              "type": "string"
            },
            "text/plain": [
              "'awareness'"
            ]
          },
          "metadata": {},
          "execution_count": 59
        }
      ]
    },
    {
      "cell_type": "code",
      "metadata": {
        "colab": {
          "base_uri": "https://localhost:8080/"
        },
        "id": "d16kpFGi2tOw",
        "outputId": "f34be1db-81bf-4f3c-94be-aea2d0606ff7"
      },
      "source": [
        "# Calculate Recall score\n",
        "from sklearn import metrics\n",
        "import numpy as np\n",
        "y_pred=predictor.predict(X_test)\n",
        "print(metrics.recall_score(y_test,y_pred,average='macro'))"
      ],
      "execution_count": 67,
      "outputs": [
        {
          "output_type": "stream",
          "name": "stdout",
          "text": [
            "0.909456740442656\n"
          ]
        }
      ]
    },
    {
      "cell_type": "code",
      "metadata": {
        "id": "lJrRKOs1_I4S",
        "colab": {
          "base_uri": "https://localhost:8080/"
        },
        "outputId": "e8346672-fe0a-4113-b92f-b20bb63377e9"
      },
      "source": [
        "preds= predictor.predict_proba('would want people around depressed pearlradioke worldsuicidepreventionday cc')\n",
        "preds"
      ],
      "execution_count": 61,
      "outputs": [
        {
          "output_type": "execute_result",
          "data": {
            "text/plain": [
              "array([0.00504253, 0.91809136, 0.04895156, 0.01892317, 0.00371595,\n",
              "       0.00244536, 0.00283   ], dtype=float32)"
            ]
          },
          "metadata": {},
          "execution_count": 61
        }
      ]
    },
    {
      "cell_type": "code",
      "metadata": {
        "id": "GFrxJjhmEJcX",
        "colab": {
          "base_uri": "https://localhost:8080/"
        },
        "outputId": "cd7b3a63-861d-4ace-c419-e57ff1f46578"
      },
      "source": [
        "print([target], preds)\n",
        "list_arrays= ([target], preds)"
      ],
      "execution_count": 62,
      "outputs": [
        {
          "output_type": "stream",
          "name": "stdout",
          "text": [
            "[['general tweet', 'anxiety', 'stress', 'depression', 'substance abuse', 'awareness', 'thoughts']] [0.00504253 0.91809136 0.04895156 0.01892317 0.00371595 0.00244536\n",
            " 0.00283   ]\n"
          ]
        }
      ]
    },
    {
      "cell_type": "code",
      "metadata": {
        "id": "zohNWlW_D07p",
        "colab": {
          "base_uri": "https://localhost:8080/",
          "height": 110
        },
        "outputId": "10f2f4e8-abf2-43df-c2d9-360427258a07"
      },
      "source": [
        "pd.DataFrame(list(map(np.ravel, list_arrays)))"
      ],
      "execution_count": 63,
      "outputs": [
        {
          "output_type": "execute_result",
          "data": {
            "text/html": [
              "<div>\n",
              "<style scoped>\n",
              "    .dataframe tbody tr th:only-of-type {\n",
              "        vertical-align: middle;\n",
              "    }\n",
              "\n",
              "    .dataframe tbody tr th {\n",
              "        vertical-align: top;\n",
              "    }\n",
              "\n",
              "    .dataframe thead th {\n",
              "        text-align: right;\n",
              "    }\n",
              "</style>\n",
              "<table border=\"1\" class=\"dataframe\">\n",
              "  <thead>\n",
              "    <tr style=\"text-align: right;\">\n",
              "      <th></th>\n",
              "      <th>0</th>\n",
              "      <th>1</th>\n",
              "      <th>2</th>\n",
              "      <th>3</th>\n",
              "      <th>4</th>\n",
              "      <th>5</th>\n",
              "      <th>6</th>\n",
              "    </tr>\n",
              "  </thead>\n",
              "  <tbody>\n",
              "    <tr>\n",
              "      <th>0</th>\n",
              "      <td>general tweet</td>\n",
              "      <td>anxiety</td>\n",
              "      <td>stress</td>\n",
              "      <td>depression</td>\n",
              "      <td>substance abuse</td>\n",
              "      <td>awareness</td>\n",
              "      <td>thoughts</td>\n",
              "    </tr>\n",
              "    <tr>\n",
              "      <th>1</th>\n",
              "      <td>0.00504253</td>\n",
              "      <td>0.918091</td>\n",
              "      <td>0.0489516</td>\n",
              "      <td>0.0189232</td>\n",
              "      <td>0.00371595</td>\n",
              "      <td>0.00244536</td>\n",
              "      <td>0.00283</td>\n",
              "    </tr>\n",
              "  </tbody>\n",
              "</table>\n",
              "</div>"
            ],
            "text/plain": [
              "               0         1          2  ...                4           5         6\n",
              "0  general tweet   anxiety     stress  ...  substance abuse   awareness  thoughts\n",
              "1     0.00504253  0.918091  0.0489516  ...       0.00371595  0.00244536   0.00283\n",
              "\n",
              "[2 rows x 7 columns]"
            ]
          },
          "metadata": {},
          "execution_count": 63
        }
      ]
    }
  ]
}
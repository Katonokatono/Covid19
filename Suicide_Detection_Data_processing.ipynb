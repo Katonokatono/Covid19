{
  "nbformat": 4,
  "nbformat_minor": 0,
  "metadata": {
    "colab": {
      "name": "Suicide Detection Data processing.ipynb",
      "provenance": [],
      "include_colab_link": true
    },
    "kernelspec": {
      "name": "python3",
      "display_name": "Python 3"
    },
    "language_info": {
      "name": "python"
    }
  },
  "cells": [
    {
      "cell_type": "markdown",
      "metadata": {
        "id": "view-in-github",
        "colab_type": "text"
      },
      "source": [
        "<a href=\"https://colab.research.google.com/github/Katonokatono/Suicide/blob/Preprocessing/Suicide_Detection_Data_processing.ipynb\" target=\"_parent\"><img src=\"https://colab.research.google.com/assets/colab-badge.svg\" alt=\"Open In Colab\"/></a>"
      ]
    },
    {
      "cell_type": "code",
      "metadata": {
        "colab": {
          "base_uri": "https://localhost:8080/"
        },
        "id": "mK-pvFzQNxMo",
        "outputId": "5d1e7659-e21c-4fc8-98e4-4da1c240220b"
      },
      "source": [
        "import pandas as pd\n",
        "import numpy as np\n",
        "import pandas as pd\n",
        "import numpy as np\n",
        "#for text pre-processing\n",
        "import re, string\n",
        "import nltk\n",
        "from nltk.tokenize import word_tokenize\n",
        "from nltk.corpus import stopwords\n",
        "from nltk.tokenize import word_tokenize\n",
        "from nltk.stem import SnowballStemmer\n",
        "from nltk.corpus import wordnet\n",
        "from nltk.stem import WordNetLemmatizer\n",
        "nltk.download('punkt')\n",
        "nltk.download('averaged_perceptron_tagger')\n",
        "nltk.download('wordnet')\n",
        "#for model-building\n",
        "from sklearn.model_selection import train_test_split\n",
        "from sklearn.linear_model import LogisticRegression\n",
        "from sklearn.naive_bayes import MultinomialNB\n",
        "from sklearn.metrics import classification_report, f1_score, accuracy_score, confusion_matrix\n",
        "from sklearn.metrics import roc_curve, auc, roc_auc_score\n",
        "# bag of words\n",
        "from sklearn.feature_extraction.text import TfidfVectorizer\n",
        "from sklearn.feature_extraction.text import CountVectorizer\n",
        "#for word embedding\n",
        "import gensim\n",
        "from gensim.models import Word2Vec\n",
        "from nltk.corpus import stopwords\n",
        "nltk.download('stopwords')\n",
        "from nltk.util import ngrams\n",
        "from spacy.lang.en import English\n",
        "nlp = English()\n",
        "import spacy\n",
        "from nltk.stem import WordNetLemmatizer\n",
        "  \n",
        "lemmatizer = WordNetLemmatizer()"
      ],
      "execution_count": null,
      "outputs": [
        {
          "output_type": "stream",
          "name": "stdout",
          "text": [
            "[nltk_data] Downloading package punkt to /root/nltk_data...\n",
            "[nltk_data]   Package punkt is already up-to-date!\n",
            "[nltk_data] Downloading package averaged_perceptron_tagger to\n",
            "[nltk_data]     /root/nltk_data...\n",
            "[nltk_data]   Package averaged_perceptron_tagger is already up-to-\n",
            "[nltk_data]       date!\n",
            "[nltk_data] Downloading package wordnet to /root/nltk_data...\n",
            "[nltk_data]   Package wordnet is already up-to-date!\n",
            "[nltk_data] Downloading package stopwords to /root/nltk_data...\n",
            "[nltk_data]   Package stopwords is already up-to-date!\n"
          ]
        }
      ]
    },
    {
      "cell_type": "code",
      "metadata": {
        "colab": {
          "base_uri": "https://localhost:8080/"
        },
        "id": "XQ7pO_6Nehrl",
        "outputId": "d9890683-a0e4-45f0-8757-b4bf4de8bd08"
      },
      "source": [
        "from google.colab import drive\n",
        "drive.mount('/content/drive')"
      ],
      "execution_count": null,
      "outputs": [
        {
          "output_type": "stream",
          "name": "stdout",
          "text": [
            "Drive already mounted at /content/drive; to attempt to forcibly remount, call drive.mount(\"/content/drive\", force_remount=True).\n"
          ]
        }
      ]
    },
    {
      "cell_type": "code",
      "metadata": {
        "id": "_uWlLVT7OFU5"
      },
      "source": [
        "df1=pd.read_csv('/content/drive/MyDrive/SD_ Project /Alphacoders_ labelled_data/Anxiety.csv')\n",
        "df2=pd.read_csv('/content/drive/MyDrive/SD_ Project /Alphacoders_ labelled_data/Drugs_label.csv')\n",
        "df3=pd.read_csv('/content/drive/MyDrive/SD_ Project /Alphacoders_ labelled_data/Stress (1).csv')\n",
        "df4=pd.read_csv('/content/drive/MyDrive/SD_ Project /Alphacoders_ labelled_data/addiction_label.csv')\n",
        "df5=pd.read_csv('/content/drive/MyDrive/SD_ Project /Alphacoders_ labelled_data/anxiety-1.csv')\n",
        "df6=pd.read_csv('/content/drive/MyDrive/SD_ Project /Alphacoders_ labelled_data/anxious.csv')\n",
        "df7=pd.read_csv('/content/drive/MyDrive/SD_ Project /Alphacoders_ labelled_data/givingup.csv')\n",
        "df8=pd.read_csv('/content/drive/MyDrive/SD_ Project /Alphacoders_ labelled_data/sub-abuse.csv')\n",
        "df9=pd.read_csv('/content/drive/MyDrive/SD_ Project /Alphacoders_ labelled_data/suicidal_file.csv')\n",
        "df10=pd.read_csv('/depression_all -revised.csv')"
      ],
      "execution_count": null,
      "outputs": []
    },
    {
      "cell_type": "code",
      "metadata": {
        "colab": {
          "base_uri": "https://localhost:8080/",
          "height": 469
        },
        "id": "yRgtcRVfOPwK",
        "outputId": "f4586c16-8625-4418-f8a5-9f6700329f69"
      },
      "source": [
        "df1.dropna(inplace=True)\n",
        "df1.head()"
      ],
      "execution_count": null,
      "outputs": [
        {
          "output_type": "execute_result",
          "data": {
            "text/html": [
              "<div>\n",
              "<style scoped>\n",
              "    .dataframe tbody tr th:only-of-type {\n",
              "        vertical-align: middle;\n",
              "    }\n",
              "\n",
              "    .dataframe tbody tr th {\n",
              "        vertical-align: top;\n",
              "    }\n",
              "\n",
              "    .dataframe thead th {\n",
              "        text-align: right;\n",
              "    }\n",
              "</style>\n",
              "<table border=\"1\" class=\"dataframe\">\n",
              "  <thead>\n",
              "    <tr style=\"text-align: right;\">\n",
              "      <th></th>\n",
              "      <th>Unnamed: 0</th>\n",
              "      <th>user</th>\n",
              "      <th>tweet</th>\n",
              "      <th>location</th>\n",
              "      <th>description</th>\n",
              "      <th>friends_count</th>\n",
              "      <th>followers_count</th>\n",
              "      <th>statuses_count</th>\n",
              "      <th>created_at</th>\n",
              "      <th>retweet_count</th>\n",
              "      <th>hashtags</th>\n",
              "      <th>label</th>\n",
              "    </tr>\n",
              "  </thead>\n",
              "  <tbody>\n",
              "    <tr>\n",
              "      <th>1</th>\n",
              "      <td>1</td>\n",
              "      <td>1</td>\n",
              "      <td>BunMo Multi Item Stretchy Strings Fidget Toy 6...</td>\n",
              "      <td>Burundi</td>\n",
              "      <td>Официальная учетная запись Twitter для Journal...</td>\n",
              "      <td>182</td>\n",
              "      <td>83</td>\n",
              "      <td>6950</td>\n",
              "      <td>09/14/2021 7:47</td>\n",
              "      <td>0</td>\n",
              "      <td>[]</td>\n",
              "      <td>anxiety</td>\n",
              "    </tr>\n",
              "    <tr>\n",
              "      <th>2</th>\n",
              "      <td>2</td>\n",
              "      <td>2</td>\n",
              "      <td>@unkonfined The basic motivation behind our be...</td>\n",
              "      <td>Kenya</td>\n",
              "      <td>...dark nights of the soul are real and of gre...</td>\n",
              "      <td>983</td>\n",
              "      <td>915</td>\n",
              "      <td>12944</td>\n",
              "      <td>09/14/2021 7:31</td>\n",
              "      <td>0</td>\n",
              "      <td>[]</td>\n",
              "      <td>anxiety</td>\n",
              "    </tr>\n",
              "    <tr>\n",
              "      <th>3</th>\n",
              "      <td>3</td>\n",
              "      <td>3</td>\n",
              "      <td>@Munenekimathi5 @zablonorina1 Is your BP norma...</td>\n",
              "      <td>Nairobi, Kenya</td>\n",
              "      <td>Enterpreneur and start up Advisor\\nBeliever in...</td>\n",
              "      <td>281</td>\n",
              "      <td>63</td>\n",
              "      <td>290</td>\n",
              "      <td>09/14/2021 7:30</td>\n",
              "      <td>0</td>\n",
              "      <td>[]</td>\n",
              "      <td>anxiety</td>\n",
              "    </tr>\n",
              "    <tr>\n",
              "      <th>4</th>\n",
              "      <td>4</td>\n",
              "      <td>4</td>\n",
              "      <td>How do you deal with being anxious?\\n\\nShare y...</td>\n",
              "      <td>Nairobi Kenya</td>\n",
              "      <td>Your Ultimate Fresh and Classic Hits\\n\\n96.9 F...</td>\n",
              "      <td>220</td>\n",
              "      <td>2052</td>\n",
              "      <td>37982</td>\n",
              "      <td>09/14/2021 7:02</td>\n",
              "      <td>0</td>\n",
              "      <td>[]</td>\n",
              "      <td>anxiety</td>\n",
              "    </tr>\n",
              "    <tr>\n",
              "      <th>5</th>\n",
              "      <td>5</td>\n",
              "      <td>5</td>\n",
              "      <td>Did you know ‘dry spell’ causes anxiety, depre...</td>\n",
              "      <td>Nairobi, Kenya</td>\n",
              "      <td>Chelsea fan</td>\n",
              "      <td>857</td>\n",
              "      <td>272</td>\n",
              "      <td>650</td>\n",
              "      <td>09/14/2021 7:00</td>\n",
              "      <td>2</td>\n",
              "      <td>[]</td>\n",
              "      <td>general tweet</td>\n",
              "    </tr>\n",
              "  </tbody>\n",
              "</table>\n",
              "</div>"
            ],
            "text/plain": [
              "   Unnamed: 0  user  ... hashtags          label\n",
              "1           1     1  ...       []        anxiety\n",
              "2           2     2  ...       []        anxiety\n",
              "3           3     3  ...       []        anxiety\n",
              "4           4     4  ...       []        anxiety\n",
              "5           5     5  ...       []  general tweet\n",
              "\n",
              "[5 rows x 12 columns]"
            ]
          },
          "metadata": {},
          "execution_count": 96
        }
      ]
    },
    {
      "cell_type": "code",
      "metadata": {
        "colab": {
          "base_uri": "https://localhost:8080/",
          "height": 503
        },
        "id": "bMqpjzzSQNqx",
        "outputId": "22b7b3a0-b914-40c3-e563-fb4c2a241fd4"
      },
      "source": [
        "df2.head()"
      ],
      "execution_count": null,
      "outputs": [
        {
          "output_type": "execute_result",
          "data": {
            "text/html": [
              "<div>\n",
              "<style scoped>\n",
              "    .dataframe tbody tr th:only-of-type {\n",
              "        vertical-align: middle;\n",
              "    }\n",
              "\n",
              "    .dataframe tbody tr th {\n",
              "        vertical-align: top;\n",
              "    }\n",
              "\n",
              "    .dataframe thead th {\n",
              "        text-align: right;\n",
              "    }\n",
              "</style>\n",
              "<table border=\"1\" class=\"dataframe\">\n",
              "  <thead>\n",
              "    <tr style=\"text-align: right;\">\n",
              "      <th></th>\n",
              "      <th>Unnamed: 0</th>\n",
              "      <th>user</th>\n",
              "      <th>tweet</th>\n",
              "      <th>location</th>\n",
              "      <th>description</th>\n",
              "      <th>friends_count</th>\n",
              "      <th>followers_count</th>\n",
              "      <th>statuses_count</th>\n",
              "      <th>created_at</th>\n",
              "      <th>retweet_count</th>\n",
              "      <th>hashtags</th>\n",
              "      <th>label</th>\n",
              "    </tr>\n",
              "  </thead>\n",
              "  <tbody>\n",
              "    <tr>\n",
              "      <th>0</th>\n",
              "      <td>0</td>\n",
              "      <td>bigboydarboe</td>\n",
              "      <td>@FatoumattaMbye Might just be a mixture of bot...</td>\n",
              "      <td>Kilimanjaro, Tanzania</td>\n",
              "      <td>Citizen of Borderline</td>\n",
              "      <td>1080</td>\n",
              "      <td>957</td>\n",
              "      <td>1457</td>\n",
              "      <td>09/18/2021 5:13</td>\n",
              "      <td>0</td>\n",
              "      <td>[]</td>\n",
              "      <td>general tweet</td>\n",
              "    </tr>\n",
              "    <tr>\n",
              "      <th>1</th>\n",
              "      <td>1</td>\n",
              "      <td>CrimeSiPoaKenya</td>\n",
              "      <td>As cases of drug peddling and consumption incr...</td>\n",
              "      <td>Sarakasi Dome,Ngara_Nairobi KE</td>\n",
              "      <td>We are an impact-driven organization resolved ...</td>\n",
              "      <td>1014</td>\n",
              "      <td>1087</td>\n",
              "      <td>1971</td>\n",
              "      <td>09/18/2021 4:57</td>\n",
              "      <td>0</td>\n",
              "      <td>[]</td>\n",
              "      <td>general tweet</td>\n",
              "    </tr>\n",
              "    <tr>\n",
              "      <th>2</th>\n",
              "      <td>2</td>\n",
              "      <td>anyonaamsowel</td>\n",
              "      <td>Parenting Teens conversation on #themorningaft...</td>\n",
              "      <td>Nakuru, Kenya</td>\n",
              "      <td>CEO and director Amsowel counseling firm in Na...</td>\n",
              "      <td>2909</td>\n",
              "      <td>3333</td>\n",
              "      <td>509</td>\n",
              "      <td>09/18/2021 4:40</td>\n",
              "      <td>2</td>\n",
              "      <td>[{'text': 'themorningafter', 'indices': [32, 4...</td>\n",
              "      <td>general tweet</td>\n",
              "    </tr>\n",
              "    <tr>\n",
              "      <th>3</th>\n",
              "      <td>3</td>\n",
              "      <td>dklaston</td>\n",
              "      <td>He looks like he was giving her drugs all day ...</td>\n",
              "      <td>Nairobi, Kenya</td>\n",
              "      <td>Lawyer</td>\n",
              "      <td>3749</td>\n",
              "      <td>3805</td>\n",
              "      <td>33929</td>\n",
              "      <td>09/18/2021 4:27</td>\n",
              "      <td>0</td>\n",
              "      <td>[]</td>\n",
              "      <td>general tweet</td>\n",
              "    </tr>\n",
              "    <tr>\n",
              "      <th>4</th>\n",
              "      <td>4</td>\n",
              "      <td>webrwanda</td>\n",
              "      <td>The Rwanda Investigation Bureau is urging the ...</td>\n",
              "      <td>Rwanda</td>\n",
              "      <td>All News Content about Rwanda in Real Time</td>\n",
              "      <td>92</td>\n",
              "      <td>219</td>\n",
              "      <td>63602</td>\n",
              "      <td>09/18/2021 3:38</td>\n",
              "      <td>1</td>\n",
              "      <td>[{'text': 'RwOT', 'indices': [80, 85]}, {'text...</td>\n",
              "      <td>general tweet</td>\n",
              "    </tr>\n",
              "  </tbody>\n",
              "</table>\n",
              "</div>"
            ],
            "text/plain": [
              "   Unnamed: 0  ...          label\n",
              "0           0  ...  general tweet\n",
              "1           1  ...  general tweet\n",
              "2           2  ...  general tweet\n",
              "3           3  ...  general tweet\n",
              "4           4  ...  general tweet\n",
              "\n",
              "[5 rows x 12 columns]"
            ]
          },
          "metadata": {},
          "execution_count": 97
        }
      ]
    },
    {
      "cell_type": "code",
      "metadata": {
        "colab": {
          "base_uri": "https://localhost:8080/",
          "height": 555
        },
        "id": "YQZjWN6Eg96j",
        "outputId": "3892c0b1-1ce6-4b1d-c687-fa4da940b20b"
      },
      "source": [
        "df3.head()"
      ],
      "execution_count": null,
      "outputs": [
        {
          "output_type": "execute_result",
          "data": {
            "text/html": [
              "<div>\n",
              "<style scoped>\n",
              "    .dataframe tbody tr th:only-of-type {\n",
              "        vertical-align: middle;\n",
              "    }\n",
              "\n",
              "    .dataframe tbody tr th {\n",
              "        vertical-align: top;\n",
              "    }\n",
              "\n",
              "    .dataframe thead th {\n",
              "        text-align: right;\n",
              "    }\n",
              "</style>\n",
              "<table border=\"1\" class=\"dataframe\">\n",
              "  <thead>\n",
              "    <tr style=\"text-align: right;\">\n",
              "      <th></th>\n",
              "      <th>Unnamed: 0</th>\n",
              "      <th>user</th>\n",
              "      <th>tweet</th>\n",
              "      <th>location</th>\n",
              "      <th>description</th>\n",
              "      <th>friends_count</th>\n",
              "      <th>followers_count</th>\n",
              "      <th>statuses_count</th>\n",
              "      <th>created_at</th>\n",
              "      <th>retweet_count</th>\n",
              "      <th>hashtags</th>\n",
              "      <th>label</th>\n",
              "      <th>Unnamed: 12</th>\n",
              "      <th>Unnamed: 13</th>\n",
              "      <th>Unnamed: 14</th>\n",
              "      <th>Unnamed: 15</th>\n",
              "      <th>Unnamed: 16</th>\n",
              "      <th>Unnamed: 17</th>\n",
              "    </tr>\n",
              "  </thead>\n",
              "  <tbody>\n",
              "    <tr>\n",
              "      <th>0</th>\n",
              "      <td>0</td>\n",
              "      <td>NjorogeDorcas3</td>\n",
              "      <td>Our lovely friends from lake side please share...</td>\n",
              "      <td>Nairobi Kenya</td>\n",
              "      <td>Big addict of classic 105 morning show #MainaA...</td>\n",
              "      <td>497</td>\n",
              "      <td>3368</td>\n",
              "      <td>39784</td>\n",
              "      <td>2021-09-17 05:33:46</td>\n",
              "      <td>1</td>\n",
              "      <td>[]</td>\n",
              "      <td>stress</td>\n",
              "      <td>NaN</td>\n",
              "      <td>NaN</td>\n",
              "      <td>NaN</td>\n",
              "      <td>NaN</td>\n",
              "      <td>NaN</td>\n",
              "      <td>NaN</td>\n",
              "    </tr>\n",
              "    <tr>\n",
              "      <th>1</th>\n",
              "      <td>1</td>\n",
              "      <td>gkukubo</td>\n",
              "      <td>@Classic105Kenya @ItsMainaKageni @ItsMainaKage...</td>\n",
              "      <td>Nairobi, Kenya</td>\n",
              "      <td>Work hard pray hard be smart</td>\n",
              "      <td>2110</td>\n",
              "      <td>170</td>\n",
              "      <td>120</td>\n",
              "      <td>2021-09-17 05:33:32</td>\n",
              "      <td>0</td>\n",
              "      <td>[{'text': 'MainaAndKingangi', 'indices': [66, ...</td>\n",
              "      <td>general</td>\n",
              "      <td>NaN</td>\n",
              "      <td>NaN</td>\n",
              "      <td>NaN</td>\n",
              "      <td>NaN</td>\n",
              "      <td>NaN</td>\n",
              "      <td>NaN</td>\n",
              "    </tr>\n",
              "    <tr>\n",
              "      <th>2</th>\n",
              "      <td>2</td>\n",
              "      <td>Sharon_ondisa3</td>\n",
              "      <td>Maina wewe pia hii #MainaAndKingangi playlist ...</td>\n",
              "      <td>Nairobi, Kenya</td>\n",
              "      <td>Community Practitioner, Well-informed, Optimis...</td>\n",
              "      <td>149</td>\n",
              "      <td>286</td>\n",
              "      <td>2648</td>\n",
              "      <td>2021-09-17 05:27:04</td>\n",
              "      <td>0</td>\n",
              "      <td>[{'text': 'MainaAndKingangi', 'indices': [19, ...</td>\n",
              "      <td>general</td>\n",
              "      <td>NaN</td>\n",
              "      <td>NaN</td>\n",
              "      <td>NaN</td>\n",
              "      <td>NaN</td>\n",
              "      <td>NaN</td>\n",
              "      <td>NaN</td>\n",
              "    </tr>\n",
              "    <tr>\n",
              "      <th>3</th>\n",
              "      <td>3</td>\n",
              "      <td>walterodhis1</td>\n",
              "      <td>@Classic105Kenya @ItsMainaKageni I think the k...</td>\n",
              "      <td>Nairobi, Kenya</td>\n",
              "      <td>A philosopher who philosophy philosophies to o...</td>\n",
              "      <td>82</td>\n",
              "      <td>364</td>\n",
              "      <td>2875</td>\n",
              "      <td>2021-09-17 05:22:47</td>\n",
              "      <td>0</td>\n",
              "      <td>[]</td>\n",
              "      <td>general</td>\n",
              "      <td>NaN</td>\n",
              "      <td>NaN</td>\n",
              "      <td>NaN</td>\n",
              "      <td>NaN</td>\n",
              "      <td>NaN</td>\n",
              "      <td>NaN</td>\n",
              "    </tr>\n",
              "    <tr>\n",
              "      <th>4</th>\n",
              "      <td>4</td>\n",
              "      <td>maureennzau</td>\n",
              "      <td>Luos your stress freeee ooooooh \\n@FelixAgola\\...</td>\n",
              "      <td>Nairobi, Kenya</td>\n",
              "      <td>Self love ......I don't listen what people tal...</td>\n",
              "      <td>381</td>\n",
              "      <td>1130</td>\n",
              "      <td>5762</td>\n",
              "      <td>2021-09-17 05:18:31</td>\n",
              "      <td>0</td>\n",
              "      <td>[{'text': 'MainaAndKingangi', 'indices': [55, ...</td>\n",
              "      <td>general</td>\n",
              "      <td>NaN</td>\n",
              "      <td>NaN</td>\n",
              "      <td>NaN</td>\n",
              "      <td>NaN</td>\n",
              "      <td>NaN</td>\n",
              "      <td>NaN</td>\n",
              "    </tr>\n",
              "  </tbody>\n",
              "</table>\n",
              "</div>"
            ],
            "text/plain": [
              "   Unnamed: 0            user  ... Unnamed: 16 Unnamed: 17\n",
              "0           0  NjorogeDorcas3  ...         NaN         NaN\n",
              "1           1         gkukubo  ...         NaN         NaN\n",
              "2           2  Sharon_ondisa3  ...         NaN         NaN\n",
              "3           3    walterodhis1  ...         NaN         NaN\n",
              "4           4     maureennzau  ...         NaN         NaN\n",
              "\n",
              "[5 rows x 18 columns]"
            ]
          },
          "metadata": {},
          "execution_count": 98
        }
      ]
    },
    {
      "cell_type": "code",
      "metadata": {
        "id": "4O-wtmJfiPn4"
      },
      "source": [
        "#drop unnecessary columns\n",
        "df3.drop(['Unnamed: 12', 'Unnamed: 13','Unnamed: 14','Unnamed: 15', 'Unnamed: 16', 'Unnamed: 17'],axis = 1, inplace = True)"
      ],
      "execution_count": null,
      "outputs": []
    },
    {
      "cell_type": "code",
      "metadata": {
        "colab": {
          "base_uri": "https://localhost:8080/"
        },
        "id": "YXfEoa44ixWX",
        "outputId": "53b984bd-e9c2-47f4-af44-7289fe786e18"
      },
      "source": [
        "df3.shape"
      ],
      "execution_count": null,
      "outputs": [
        {
          "output_type": "execute_result",
          "data": {
            "text/plain": [
              "(450, 12)"
            ]
          },
          "metadata": {},
          "execution_count": 100
        }
      ]
    },
    {
      "cell_type": "code",
      "metadata": {
        "colab": {
          "base_uri": "https://localhost:8080/",
          "height": 521
        },
        "id": "lohVeliyi_4V",
        "outputId": "2a08a836-1c0f-4a00-b045-bbc901e4ea99"
      },
      "source": [
        "df8.head()"
      ],
      "execution_count": null,
      "outputs": [
        {
          "output_type": "execute_result",
          "data": {
            "text/html": [
              "<div>\n",
              "<style scoped>\n",
              "    .dataframe tbody tr th:only-of-type {\n",
              "        vertical-align: middle;\n",
              "    }\n",
              "\n",
              "    .dataframe tbody tr th {\n",
              "        vertical-align: top;\n",
              "    }\n",
              "\n",
              "    .dataframe thead th {\n",
              "        text-align: right;\n",
              "    }\n",
              "</style>\n",
              "<table border=\"1\" class=\"dataframe\">\n",
              "  <thead>\n",
              "    <tr style=\"text-align: right;\">\n",
              "      <th></th>\n",
              "      <th>Unnamed: 0</th>\n",
              "      <th>Unnamed: 0.1</th>\n",
              "      <th>user</th>\n",
              "      <th>tweet</th>\n",
              "      <th>location</th>\n",
              "      <th>description</th>\n",
              "      <th>friends_count</th>\n",
              "      <th>followers_count</th>\n",
              "      <th>statuses_count</th>\n",
              "      <th>created_at</th>\n",
              "      <th>retweet_count</th>\n",
              "      <th>hashtags</th>\n",
              "      <th>label</th>\n",
              "    </tr>\n",
              "  </thead>\n",
              "  <tbody>\n",
              "    <tr>\n",
              "      <th>0</th>\n",
              "      <td>0</td>\n",
              "      <td>0</td>\n",
              "      <td>CliffOnyango6</td>\n",
              "      <td>@KituNiFreshiii @kilundeezy They say it every...</td>\n",
              "      <td>Nairobi, Kenya</td>\n",
              "      <td>Introverted Son🤓 | Chemist⚗️|Environmental Act...</td>\n",
              "      <td>562</td>\n",
              "      <td>287</td>\n",
              "      <td>1578</td>\n",
              "      <td>16/09/2021 18:11</td>\n",
              "      <td>0</td>\n",
              "      <td>[]</td>\n",
              "      <td>substance abuse</td>\n",
              "    </tr>\n",
              "    <tr>\n",
              "      <th>1</th>\n",
              "      <td>1</td>\n",
              "      <td>1</td>\n",
              "      <td>DanielMaithyaKE</td>\n",
              "      <td>Michael: DRUG ABUSE and MENTAL ILLNESS are amo...</td>\n",
              "      <td>Nairobi, Kenya</td>\n",
              "      <td>Just Google my name: Daniel Maithya\\n\\n|  📲 +2...</td>\n",
              "      <td>136851</td>\n",
              "      <td>188269</td>\n",
              "      <td>219347</td>\n",
              "      <td>16/09/2021 13:31</td>\n",
              "      <td>9</td>\n",
              "      <td>[]</td>\n",
              "      <td>substance abuse</td>\n",
              "    </tr>\n",
              "    <tr>\n",
              "      <th>2</th>\n",
              "      <td>2</td>\n",
              "      <td>2</td>\n",
              "      <td>democracy_trust</td>\n",
              "      <td>I am the current KANU Women Congress National ...</td>\n",
              "      <td>Nairobi, Kenya</td>\n",
              "      <td>The Democracy Trust Fund's vision is to identi...</td>\n",
              "      <td>167</td>\n",
              "      <td>96</td>\n",
              "      <td>224</td>\n",
              "      <td>16/09/2021 11:51</td>\n",
              "      <td>0</td>\n",
              "      <td>[]</td>\n",
              "      <td>Awareness</td>\n",
              "    </tr>\n",
              "    <tr>\n",
              "      <th>3</th>\n",
              "      <td>3</td>\n",
              "      <td>3</td>\n",
              "      <td>Dok_Tari254</td>\n",
              "      <td>Men,\\n\\nIf you ain't performing well in bed, \\...</td>\n",
              "      <td>Nairobi, Kenya</td>\n",
              "      <td>Art Enthusiast | Video Reviewer | Researcher |...</td>\n",
              "      <td>28</td>\n",
              "      <td>46</td>\n",
              "      <td>180</td>\n",
              "      <td>16/09/2021 07:45</td>\n",
              "      <td>1</td>\n",
              "      <td>[]</td>\n",
              "      <td>general tweet</td>\n",
              "    </tr>\n",
              "    <tr>\n",
              "      <th>4</th>\n",
              "      <td>4</td>\n",
              "      <td>4</td>\n",
              "      <td>ItsChanzu</td>\n",
              "      <td>Want to see what happens to CBC kids when they...</td>\n",
              "      <td>Nairobi</td>\n",
              "      <td>OVO 🦉 (Ongatarongai's Very Own)) 🇰🇪</td>\n",
              "      <td>1677</td>\n",
              "      <td>13173</td>\n",
              "      <td>63279</td>\n",
              "      <td>16/09/2021 06:30</td>\n",
              "      <td>8</td>\n",
              "      <td>[]</td>\n",
              "      <td>general tweet</td>\n",
              "    </tr>\n",
              "  </tbody>\n",
              "</table>\n",
              "</div>"
            ],
            "text/plain": [
              "   Unnamed: 0  Unnamed: 0.1  ... hashtags            label\n",
              "0           0             0  ...       []  substance abuse\n",
              "1           1             1  ...       []  substance abuse\n",
              "2           2             2  ...       []        Awareness\n",
              "3           3             3  ...       []    general tweet\n",
              "4           4             4  ...       []    general tweet\n",
              "\n",
              "[5 rows x 13 columns]"
            ]
          },
          "metadata": {},
          "execution_count": 101
        }
      ]
    },
    {
      "cell_type": "code",
      "metadata": {
        "colab": {
          "base_uri": "https://localhost:8080/"
        },
        "id": "xfoccigbjJWi",
        "outputId": "ce5d4e1e-b7ef-469d-cddc-d66335312cf8"
      },
      "source": [
        "#drop unnecessary columns\n",
        "df8.drop(['Unnamed: 0.1' ],axis = 1, inplace = True)\n",
        "df8.shape"
      ],
      "execution_count": null,
      "outputs": [
        {
          "output_type": "execute_result",
          "data": {
            "text/plain": [
              "(62, 12)"
            ]
          },
          "metadata": {},
          "execution_count": 102
        }
      ]
    },
    {
      "cell_type": "code",
      "metadata": {
        "colab": {
          "base_uri": "https://localhost:8080/",
          "height": 573
        },
        "id": "3B8d41OJja0z",
        "outputId": "cdecf4d5-5a7a-4ff1-e0db-d7b4e180c8eb"
      },
      "source": [
        "df9.head()"
      ],
      "execution_count": null,
      "outputs": [
        {
          "output_type": "execute_result",
          "data": {
            "text/html": [
              "<div>\n",
              "<style scoped>\n",
              "    .dataframe tbody tr th:only-of-type {\n",
              "        vertical-align: middle;\n",
              "    }\n",
              "\n",
              "    .dataframe tbody tr th {\n",
              "        vertical-align: top;\n",
              "    }\n",
              "\n",
              "    .dataframe thead th {\n",
              "        text-align: right;\n",
              "    }\n",
              "</style>\n",
              "<table border=\"1\" class=\"dataframe\">\n",
              "  <thead>\n",
              "    <tr style=\"text-align: right;\">\n",
              "      <th></th>\n",
              "      <th>Unnamed: 0</th>\n",
              "      <th>Unnamed: 0.1</th>\n",
              "      <th>user</th>\n",
              "      <th>tweet</th>\n",
              "      <th>location</th>\n",
              "      <th>description</th>\n",
              "      <th>friends_count</th>\n",
              "      <th>followers_count</th>\n",
              "      <th>statuses_count</th>\n",
              "      <th>created_at</th>\n",
              "      <th>retweet_count</th>\n",
              "      <th>hashtags</th>\n",
              "      <th>label</th>\n",
              "    </tr>\n",
              "  </thead>\n",
              "  <tbody>\n",
              "    <tr>\n",
              "      <th>0</th>\n",
              "      <td>0</td>\n",
              "      <td>0</td>\n",
              "      <td>News_Kenya</td>\n",
              "      <td>[COUNTIES] Suicide rates in Central Kenya worr...</td>\n",
              "      <td>Nairobi</td>\n",
              "      <td>Kenyan News Updates: Get Breaking News on Twit...</td>\n",
              "      <td>43</td>\n",
              "      <td>24673</td>\n",
              "      <td>174373</td>\n",
              "      <td>9/15/2021 11:39</td>\n",
              "      <td>0</td>\n",
              "      <td>[]</td>\n",
              "      <td>general tweet</td>\n",
              "    </tr>\n",
              "    <tr>\n",
              "      <th>1</th>\n",
              "      <td>1</td>\n",
              "      <td>1</td>\n",
              "      <td>MZaikah</td>\n",
              "      <td>@DonaldBKipkorir Hustler has allusion From\\n\" ...</td>\n",
              "      <td>Nairobi, Kenya</td>\n",
              "      <td>Professional Advisor, Experienced life Winner,...</td>\n",
              "      <td>74</td>\n",
              "      <td>15</td>\n",
              "      <td>516</td>\n",
              "      <td>9/15/2021 11:35</td>\n",
              "      <td>0</td>\n",
              "      <td>[]</td>\n",
              "      <td>general tweet</td>\n",
              "    </tr>\n",
              "    <tr>\n",
              "      <th>2</th>\n",
              "      <td>2</td>\n",
              "      <td>2</td>\n",
              "      <td>Aleckeei</td>\n",
              "      <td>I always see people say &amp;amp; tweet be kind to...</td>\n",
              "      <td>Nairobi, Kenya</td>\n",
              "      <td>|Free Thinker | Pragmatist| Anti-Capitalism| E...</td>\n",
              "      <td>2537</td>\n",
              "      <td>1665</td>\n",
              "      <td>42896</td>\n",
              "      <td>9/15/2021 11:32</td>\n",
              "      <td>0</td>\n",
              "      <td>[]</td>\n",
              "      <td>thoughts</td>\n",
              "    </tr>\n",
              "    <tr>\n",
              "      <th>3</th>\n",
              "      <td>3</td>\n",
              "      <td>3</td>\n",
              "      <td>ngatia27</td>\n",
              "      <td>@SylviaKasanga We need to decriminalizate atte...</td>\n",
              "      <td>nairobi</td>\n",
              "      <td>It's easier to tax income, than wealth</td>\n",
              "      <td>969</td>\n",
              "      <td>316</td>\n",
              "      <td>5031</td>\n",
              "      <td>9/15/2021 10:07</td>\n",
              "      <td>0</td>\n",
              "      <td>[{'text': 'mentalhealth', 'indices': [61, 74]}]</td>\n",
              "      <td>general tweet</td>\n",
              "    </tr>\n",
              "    <tr>\n",
              "      <th>4</th>\n",
              "      <td>4</td>\n",
              "      <td>4</td>\n",
              "      <td>SylviaKasanga</td>\n",
              "      <td>At the Kenya Psychiatric Association13th Annua...</td>\n",
              "      <td>Nairobi, Kenya</td>\n",
              "      <td>MCIArb, Arch(1083) MAAK, MBA Practicing Arch.a...</td>\n",
              "      <td>723</td>\n",
              "      <td>4970</td>\n",
              "      <td>1732</td>\n",
              "      <td>9/15/2021 10:03</td>\n",
              "      <td>1</td>\n",
              "      <td>[]</td>\n",
              "      <td>general tweet</td>\n",
              "    </tr>\n",
              "  </tbody>\n",
              "</table>\n",
              "</div>"
            ],
            "text/plain": [
              "   Unnamed: 0  ...          label\n",
              "0           0  ...  general tweet\n",
              "1           1  ...  general tweet\n",
              "2           2  ...       thoughts\n",
              "3           3  ...  general tweet\n",
              "4           4  ...  general tweet\n",
              "\n",
              "[5 rows x 13 columns]"
            ]
          },
          "metadata": {},
          "execution_count": 103
        }
      ]
    },
    {
      "cell_type": "code",
      "metadata": {
        "colab": {
          "base_uri": "https://localhost:8080/"
        },
        "id": "PlZDoHRFjWbf",
        "outputId": "c162699c-289e-4f7c-8e1b-a8db0b9505b2"
      },
      "source": [
        "#drop unnecessary columns\n",
        "df9.drop(['Unnamed: 0.1' ],axis = 1, inplace = True)\n",
        "df9.shape"
      ],
      "execution_count": null,
      "outputs": [
        {
          "output_type": "execute_result",
          "data": {
            "text/plain": [
              "(809, 12)"
            ]
          },
          "metadata": {},
          "execution_count": 104
        }
      ]
    },
    {
      "cell_type": "code",
      "metadata": {
        "colab": {
          "base_uri": "https://localhost:8080/"
        },
        "id": "1j4VNglSV0Ob",
        "outputId": "71e318a6-96f9-41ea-8601-eb0f883f77a5"
      },
      "source": [
        "df1.info()"
      ],
      "execution_count": null,
      "outputs": [
        {
          "output_type": "stream",
          "name": "stdout",
          "text": [
            "<class 'pandas.core.frame.DataFrame'>\n",
            "Int64Index: 492 entries, 1 to 513\n",
            "Data columns (total 12 columns):\n",
            " #   Column           Non-Null Count  Dtype \n",
            "---  ------           --------------  ----- \n",
            " 0   Unnamed: 0       492 non-null    int64 \n",
            " 1   user             492 non-null    int64 \n",
            " 2   tweet            492 non-null    object\n",
            " 3   location         492 non-null    object\n",
            " 4   description      492 non-null    object\n",
            " 5   friends_count    492 non-null    int64 \n",
            " 6   followers_count  492 non-null    int64 \n",
            " 7   statuses_count   492 non-null    int64 \n",
            " 8   created_at       492 non-null    object\n",
            " 9   retweet_count    492 non-null    int64 \n",
            " 10  hashtags         492 non-null    object\n",
            " 11  label            492 non-null    object\n",
            "dtypes: int64(6), object(6)\n",
            "memory usage: 50.0+ KB\n"
          ]
        }
      ]
    },
    {
      "cell_type": "code",
      "metadata": {
        "colab": {
          "base_uri": "https://localhost:8080/"
        },
        "id": "hVGFN65tOVM_",
        "outputId": "87aa26bf-6b11-4266-89b2-48674d1e7280"
      },
      "source": [
        "df1.shape"
      ],
      "execution_count": null,
      "outputs": [
        {
          "output_type": "execute_result",
          "data": {
            "text/plain": [
              "(492, 12)"
            ]
          },
          "metadata": {},
          "execution_count": 106
        }
      ]
    },
    {
      "cell_type": "code",
      "metadata": {
        "colab": {
          "base_uri": "https://localhost:8080/"
        },
        "id": "zOHigVk-hHhC",
        "outputId": "166c0a70-2b4d-4fb8-b21b-0e4642badd15"
      },
      "source": [
        "df2.shape"
      ],
      "execution_count": null,
      "outputs": [
        {
          "output_type": "execute_result",
          "data": {
            "text/plain": [
              "(619, 12)"
            ]
          },
          "metadata": {},
          "execution_count": 107
        }
      ]
    },
    {
      "cell_type": "code",
      "metadata": {
        "colab": {
          "base_uri": "https://localhost:8080/"
        },
        "id": "BtQbb8-EhKyU",
        "outputId": "862139c7-6e8a-4c64-9bdc-6a2b1698050e"
      },
      "source": [
        "df3.shape"
      ],
      "execution_count": null,
      "outputs": [
        {
          "output_type": "execute_result",
          "data": {
            "text/plain": [
              "(450, 12)"
            ]
          },
          "metadata": {},
          "execution_count": 108
        }
      ]
    },
    {
      "cell_type": "code",
      "metadata": {
        "colab": {
          "base_uri": "https://localhost:8080/"
        },
        "id": "CqXdF9PnhOpU",
        "outputId": "c934f8ac-cbd8-49cf-8734-41db4225f9b3"
      },
      "source": [
        "df4.shape"
      ],
      "execution_count": null,
      "outputs": [
        {
          "output_type": "execute_result",
          "data": {
            "text/plain": [
              "(274, 12)"
            ]
          },
          "metadata": {},
          "execution_count": 109
        }
      ]
    },
    {
      "cell_type": "code",
      "metadata": {
        "colab": {
          "base_uri": "https://localhost:8080/"
        },
        "id": "cwNkFhG2hToO",
        "outputId": "1c18e7ae-ec29-42c2-8f4e-ca3eb4fb55c3"
      },
      "source": [
        "df5.shape"
      ],
      "execution_count": null,
      "outputs": [
        {
          "output_type": "execute_result",
          "data": {
            "text/plain": [
              "(524, 12)"
            ]
          },
          "metadata": {},
          "execution_count": 110
        }
      ]
    },
    {
      "cell_type": "code",
      "metadata": {
        "colab": {
          "base_uri": "https://localhost:8080/"
        },
        "id": "6WnhrW7QhXs7",
        "outputId": "7c15b0e7-7dab-4369-816a-13c0b2ab8df9"
      },
      "source": [
        "df6.shape"
      ],
      "execution_count": null,
      "outputs": [
        {
          "output_type": "execute_result",
          "data": {
            "text/plain": [
              "(151, 12)"
            ]
          },
          "metadata": {},
          "execution_count": 111
        }
      ]
    },
    {
      "cell_type": "code",
      "metadata": {
        "colab": {
          "base_uri": "https://localhost:8080/"
        },
        "id": "IZ2Wvz3Bhbzf",
        "outputId": "0f951fb1-fb0c-438a-f036-f56dd10791db"
      },
      "source": [
        "df7.shape"
      ],
      "execution_count": null,
      "outputs": [
        {
          "output_type": "execute_result",
          "data": {
            "text/plain": [
              "(196, 12)"
            ]
          },
          "metadata": {},
          "execution_count": 112
        }
      ]
    },
    {
      "cell_type": "code",
      "metadata": {
        "colab": {
          "base_uri": "https://localhost:8080/"
        },
        "id": "dCNZnGPxhgCi",
        "outputId": "6543684d-a374-4efb-e2da-eda985c072fc"
      },
      "source": [
        "df8.shape"
      ],
      "execution_count": null,
      "outputs": [
        {
          "output_type": "execute_result",
          "data": {
            "text/plain": [
              "(62, 12)"
            ]
          },
          "metadata": {},
          "execution_count": 113
        }
      ]
    },
    {
      "cell_type": "code",
      "metadata": {
        "colab": {
          "base_uri": "https://localhost:8080/"
        },
        "id": "Pu5rrXzIhjhi",
        "outputId": "d42cba11-c5f4-4551-9f00-3e473796d0d4"
      },
      "source": [
        "df9.shape"
      ],
      "execution_count": null,
      "outputs": [
        {
          "output_type": "execute_result",
          "data": {
            "text/plain": [
              "(809, 12)"
            ]
          },
          "metadata": {},
          "execution_count": 114
        }
      ]
    },
    {
      "cell_type": "code",
      "metadata": {
        "colab": {
          "base_uri": "https://localhost:8080/"
        },
        "id": "1JMCO2cyolZI",
        "outputId": "cd8500ae-1bb2-4e7e-c612-cea0725f9fda"
      },
      "source": [
        "df10.shape"
      ],
      "execution_count": null,
      "outputs": [
        {
          "output_type": "execute_result",
          "data": {
            "text/plain": [
              "(685, 12)"
            ]
          },
          "metadata": {},
          "execution_count": 115
        }
      ]
    },
    {
      "cell_type": "code",
      "metadata": {
        "colab": {
          "base_uri": "https://localhost:8080/"
        },
        "id": "R4JjwAOwV4Xn",
        "outputId": "ad489cd0-fe44-4a55-dd2d-75adebb05a5e"
      },
      "source": [
        "df2.info()"
      ],
      "execution_count": null,
      "outputs": [
        {
          "output_type": "stream",
          "name": "stdout",
          "text": [
            "<class 'pandas.core.frame.DataFrame'>\n",
            "RangeIndex: 619 entries, 0 to 618\n",
            "Data columns (total 12 columns):\n",
            " #   Column           Non-Null Count  Dtype \n",
            "---  ------           --------------  ----- \n",
            " 0   Unnamed: 0       619 non-null    int64 \n",
            " 1   user             619 non-null    object\n",
            " 2   tweet            619 non-null    object\n",
            " 3   location         615 non-null    object\n",
            " 4   description      592 non-null    object\n",
            " 5   friends_count    619 non-null    int64 \n",
            " 6   followers_count  619 non-null    int64 \n",
            " 7   statuses_count   619 non-null    int64 \n",
            " 8   created_at       619 non-null    object\n",
            " 9   retweet_count    619 non-null    int64 \n",
            " 10  hashtags         619 non-null    object\n",
            " 11  label            613 non-null    object\n",
            "dtypes: int64(5), object(7)\n",
            "memory usage: 58.2+ KB\n"
          ]
        }
      ]
    },
    {
      "cell_type": "code",
      "metadata": {
        "id": "muUdO0taQsXt"
      },
      "source": [
        "data=pd.concat([df1, df2, df3, df4, df5, df6, df7, df8, df9, df10])"
      ],
      "execution_count": null,
      "outputs": []
    },
    {
      "cell_type": "code",
      "metadata": {
        "colab": {
          "base_uri": "https://localhost:8080/",
          "height": 469
        },
        "id": "mXJ3_8vIR4Qp",
        "outputId": "79d7393e-10ee-4b01-cd8c-687ebc36f659"
      },
      "source": [
        "data.head()"
      ],
      "execution_count": null,
      "outputs": [
        {
          "output_type": "execute_result",
          "data": {
            "text/html": [
              "<div>\n",
              "<style scoped>\n",
              "    .dataframe tbody tr th:only-of-type {\n",
              "        vertical-align: middle;\n",
              "    }\n",
              "\n",
              "    .dataframe tbody tr th {\n",
              "        vertical-align: top;\n",
              "    }\n",
              "\n",
              "    .dataframe thead th {\n",
              "        text-align: right;\n",
              "    }\n",
              "</style>\n",
              "<table border=\"1\" class=\"dataframe\">\n",
              "  <thead>\n",
              "    <tr style=\"text-align: right;\">\n",
              "      <th></th>\n",
              "      <th>Unnamed: 0</th>\n",
              "      <th>user</th>\n",
              "      <th>tweet</th>\n",
              "      <th>location</th>\n",
              "      <th>description</th>\n",
              "      <th>friends_count</th>\n",
              "      <th>followers_count</th>\n",
              "      <th>statuses_count</th>\n",
              "      <th>created_at</th>\n",
              "      <th>retweet_count</th>\n",
              "      <th>hashtags</th>\n",
              "      <th>label</th>\n",
              "    </tr>\n",
              "  </thead>\n",
              "  <tbody>\n",
              "    <tr>\n",
              "      <th>1</th>\n",
              "      <td>1</td>\n",
              "      <td>1</td>\n",
              "      <td>BunMo Multi Item Stretchy Strings Fidget Toy 6...</td>\n",
              "      <td>Burundi</td>\n",
              "      <td>Официальная учетная запись Twitter для Journal...</td>\n",
              "      <td>182</td>\n",
              "      <td>83</td>\n",
              "      <td>6950</td>\n",
              "      <td>09/14/2021 7:47</td>\n",
              "      <td>0</td>\n",
              "      <td>[]</td>\n",
              "      <td>anxiety</td>\n",
              "    </tr>\n",
              "    <tr>\n",
              "      <th>2</th>\n",
              "      <td>2</td>\n",
              "      <td>2</td>\n",
              "      <td>@unkonfined The basic motivation behind our be...</td>\n",
              "      <td>Kenya</td>\n",
              "      <td>...dark nights of the soul are real and of gre...</td>\n",
              "      <td>983</td>\n",
              "      <td>915</td>\n",
              "      <td>12944</td>\n",
              "      <td>09/14/2021 7:31</td>\n",
              "      <td>0</td>\n",
              "      <td>[]</td>\n",
              "      <td>anxiety</td>\n",
              "    </tr>\n",
              "    <tr>\n",
              "      <th>3</th>\n",
              "      <td>3</td>\n",
              "      <td>3</td>\n",
              "      <td>@Munenekimathi5 @zablonorina1 Is your BP norma...</td>\n",
              "      <td>Nairobi, Kenya</td>\n",
              "      <td>Enterpreneur and start up Advisor\\nBeliever in...</td>\n",
              "      <td>281</td>\n",
              "      <td>63</td>\n",
              "      <td>290</td>\n",
              "      <td>09/14/2021 7:30</td>\n",
              "      <td>0</td>\n",
              "      <td>[]</td>\n",
              "      <td>anxiety</td>\n",
              "    </tr>\n",
              "    <tr>\n",
              "      <th>4</th>\n",
              "      <td>4</td>\n",
              "      <td>4</td>\n",
              "      <td>How do you deal with being anxious?\\n\\nShare y...</td>\n",
              "      <td>Nairobi Kenya</td>\n",
              "      <td>Your Ultimate Fresh and Classic Hits\\n\\n96.9 F...</td>\n",
              "      <td>220</td>\n",
              "      <td>2052</td>\n",
              "      <td>37982</td>\n",
              "      <td>09/14/2021 7:02</td>\n",
              "      <td>0</td>\n",
              "      <td>[]</td>\n",
              "      <td>anxiety</td>\n",
              "    </tr>\n",
              "    <tr>\n",
              "      <th>5</th>\n",
              "      <td>5</td>\n",
              "      <td>5</td>\n",
              "      <td>Did you know ‘dry spell’ causes anxiety, depre...</td>\n",
              "      <td>Nairobi, Kenya</td>\n",
              "      <td>Chelsea fan</td>\n",
              "      <td>857</td>\n",
              "      <td>272</td>\n",
              "      <td>650</td>\n",
              "      <td>09/14/2021 7:00</td>\n",
              "      <td>2</td>\n",
              "      <td>[]</td>\n",
              "      <td>general tweet</td>\n",
              "    </tr>\n",
              "  </tbody>\n",
              "</table>\n",
              "</div>"
            ],
            "text/plain": [
              "   Unnamed: 0 user  ... hashtags          label\n",
              "1           1    1  ...       []        anxiety\n",
              "2           2    2  ...       []        anxiety\n",
              "3           3    3  ...       []        anxiety\n",
              "4           4    4  ...       []        anxiety\n",
              "5           5    5  ...       []  general tweet\n",
              "\n",
              "[5 rows x 12 columns]"
            ]
          },
          "metadata": {},
          "execution_count": 138
        }
      ]
    },
    {
      "cell_type": "code",
      "metadata": {
        "colab": {
          "base_uri": "https://localhost:8080/"
        },
        "id": "ttmuF-04Q84v",
        "outputId": "7653a9fa-7261-4538-dd66-48bf93f2ba8b"
      },
      "source": [
        "\n",
        "data.shape"
      ],
      "execution_count": null,
      "outputs": [
        {
          "output_type": "execute_result",
          "data": {
            "text/plain": [
              "(4262, 12)"
            ]
          },
          "metadata": {},
          "execution_count": 139
        }
      ]
    },
    {
      "cell_type": "code",
      "metadata": {
        "id": "hbY4Xe9STKtp"
      },
      "source": [
        "#drop unnecessary columns\n",
        "data.drop(['Unnamed: 0', 'user','description','hashtags'],axis = 1, inplace = True)"
      ],
      "execution_count": null,
      "outputs": []
    },
    {
      "cell_type": "code",
      "metadata": {
        "colab": {
          "base_uri": "https://localhost:8080/"
        },
        "id": "81mIHx4WTZPc",
        "outputId": "5d4a8f16-1186-482c-9e61-d9cdeef5fab7"
      },
      "source": [
        "# Check for nulls\n",
        "data.isnull().sum()"
      ],
      "execution_count": null,
      "outputs": [
        {
          "output_type": "execute_result",
          "data": {
            "text/plain": [
              "tweet               0\n",
              "location           33\n",
              "friends_count       0\n",
              "followers_count     0\n",
              "statuses_count      0\n",
              "created_at          0\n",
              "retweet_count       0\n",
              "label               7\n",
              "dtype: int64"
            ]
          },
          "metadata": {},
          "execution_count": 141
        }
      ]
    },
    {
      "cell_type": "code",
      "metadata": {
        "colab": {
          "base_uri": "https://localhost:8080/",
          "height": 549
        },
        "id": "cYzKytPgUlG0",
        "outputId": "5bd2d418-d3f2-48a1-b68e-5469945fed3c"
      },
      "source": [
        "# Select rows where columns has NaN value\n",
        "selected_rows = data[data['label'].isnull()]\n",
        "print('Selected rows')\n",
        "selected_rows"
      ],
      "execution_count": null,
      "outputs": [
        {
          "output_type": "stream",
          "name": "stdout",
          "text": [
            "Selected rows\n"
          ]
        },
        {
          "output_type": "execute_result",
          "data": {
            "text/html": [
              "<div>\n",
              "<style scoped>\n",
              "    .dataframe tbody tr th:only-of-type {\n",
              "        vertical-align: middle;\n",
              "    }\n",
              "\n",
              "    .dataframe tbody tr th {\n",
              "        vertical-align: top;\n",
              "    }\n",
              "\n",
              "    .dataframe thead th {\n",
              "        text-align: right;\n",
              "    }\n",
              "</style>\n",
              "<table border=\"1\" class=\"dataframe\">\n",
              "  <thead>\n",
              "    <tr style=\"text-align: right;\">\n",
              "      <th></th>\n",
              "      <th>tweet</th>\n",
              "      <th>location</th>\n",
              "      <th>friends_count</th>\n",
              "      <th>followers_count</th>\n",
              "      <th>statuses_count</th>\n",
              "      <th>created_at</th>\n",
              "      <th>retweet_count</th>\n",
              "      <th>label</th>\n",
              "    </tr>\n",
              "  </thead>\n",
              "  <tbody>\n",
              "    <tr>\n",
              "      <th>173</th>\n",
              "      <td>@Just_Wanjiru Ilikuwa drugs Bbz</td>\n",
              "      <td>Kenya</td>\n",
              "      <td>1265</td>\n",
              "      <td>4387</td>\n",
              "      <td>308823</td>\n",
              "      <td>09/15/2021 18:47</td>\n",
              "      <td>0</td>\n",
              "      <td>NaN</td>\n",
              "    </tr>\n",
              "    <tr>\n",
              "      <th>202</th>\n",
              "      <td>Anaesthesia is chill. Give your drugs and sit ...</td>\n",
              "      <td>Kampala, Uganda</td>\n",
              "      <td>2058</td>\n",
              "      <td>2287</td>\n",
              "      <td>15586</td>\n",
              "      <td>09/15/2021 10:50</td>\n",
              "      <td>0</td>\n",
              "      <td>NaN</td>\n",
              "    </tr>\n",
              "    <tr>\n",
              "      <th>318</th>\n",
              "      <td>During the lockdown access to Medicare and dru...</td>\n",
              "      <td>Kampala Uganda</td>\n",
              "      <td>334</td>\n",
              "      <td>114</td>\n",
              "      <td>2343</td>\n",
              "      <td>09/13/2021 16:48</td>\n",
              "      <td>0</td>\n",
              "      <td>NaN</td>\n",
              "    </tr>\n",
              "    <tr>\n",
              "      <th>509</th>\n",
              "      <td>Sobi arthritis drug cuts death risk; heart dru...</td>\n",
              "      <td>Kigali, Rwanda</td>\n",
              "      <td>840</td>\n",
              "      <td>703</td>\n",
              "      <td>71024</td>\n",
              "      <td>09-11-21 3:46</td>\n",
              "      <td>0</td>\n",
              "      <td>NaN</td>\n",
              "    </tr>\n",
              "    <tr>\n",
              "      <th>533</th>\n",
              "      <td>Real atheists should be having orgies and doin...</td>\n",
              "      <td>Nairobi, Kenya</td>\n",
              "      <td>2301</td>\n",
              "      <td>1955</td>\n",
              "      <td>25063</td>\n",
              "      <td>09-10-21 14:51</td>\n",
              "      <td>0</td>\n",
              "      <td>NaN</td>\n",
              "    </tr>\n",
              "    <tr>\n",
              "      <th>543</th>\n",
              "      <td>@Shifframarvins1 free alcohol and drugs.... 😳🤦‍♂️</td>\n",
              "      <td>Kampala, Uganda</td>\n",
              "      <td>780</td>\n",
              "      <td>325</td>\n",
              "      <td>1715</td>\n",
              "      <td>09-10-21 12:30</td>\n",
              "      <td>0</td>\n",
              "      <td>NaN</td>\n",
              "    </tr>\n",
              "    <tr>\n",
              "      <th>478</th>\n",
              "      <td>There are many cases of death by #suicide For ...</td>\n",
              "      <td>Kenya</td>\n",
              "      <td>693</td>\n",
              "      <td>687</td>\n",
              "      <td>957</td>\n",
              "      <td>9/10/2021 7:03</td>\n",
              "      <td>13</td>\n",
              "      <td>NaN</td>\n",
              "    </tr>\n",
              "  </tbody>\n",
              "</table>\n",
              "</div>"
            ],
            "text/plain": [
              "                                                 tweet  ... label\n",
              "173                    @Just_Wanjiru Ilikuwa drugs Bbz  ...   NaN\n",
              "202  Anaesthesia is chill. Give your drugs and sit ...  ...   NaN\n",
              "318  During the lockdown access to Medicare and dru...  ...   NaN\n",
              "509  Sobi arthritis drug cuts death risk; heart dru...  ...   NaN\n",
              "533  Real atheists should be having orgies and doin...  ...   NaN\n",
              "543  @Shifframarvins1 free alcohol and drugs.... 😳🤦‍♂️  ...   NaN\n",
              "478  There are many cases of death by #suicide For ...  ...   NaN\n",
              "\n",
              "[7 rows x 8 columns]"
            ]
          },
          "metadata": {},
          "execution_count": 142
        }
      ]
    },
    {
      "cell_type": "code",
      "metadata": {
        "id": "6ejG0A4PU5Tc"
      },
      "source": [
        "# drop null\n",
        "data.dropna(inplace=True)"
      ],
      "execution_count": null,
      "outputs": []
    },
    {
      "cell_type": "code",
      "metadata": {
        "colab": {
          "base_uri": "https://localhost:8080/"
        },
        "id": "f4NzHoZvVELj",
        "outputId": "d45fe039-de23-4278-cefd-d1818f1aa6b0"
      },
      "source": [
        "# Check for duplicates\n",
        "data.duplicated().value_counts()"
      ],
      "execution_count": null,
      "outputs": [
        {
          "output_type": "execute_result",
          "data": {
            "text/plain": [
              "False    4172\n",
              "True       50\n",
              "dtype: int64"
            ]
          },
          "metadata": {},
          "execution_count": 144
        }
      ]
    },
    {
      "cell_type": "code",
      "metadata": {
        "id": "2V9ITGZ6VR3L"
      },
      "source": [
        "# Drop duplicates\n",
        "data.drop_duplicates(inplace=True)"
      ],
      "execution_count": null,
      "outputs": []
    },
    {
      "cell_type": "code",
      "metadata": {
        "colab": {
          "base_uri": "https://localhost:8080/"
        },
        "id": "4AC6sjteVjRP",
        "outputId": "a148c20a-119e-4972-cd20-905bcf55228b"
      },
      "source": [
        "data.info()"
      ],
      "execution_count": null,
      "outputs": [
        {
          "output_type": "stream",
          "name": "stdout",
          "text": [
            "<class 'pandas.core.frame.DataFrame'>\n",
            "Int64Index: 4172 entries, 1 to 684\n",
            "Data columns (total 8 columns):\n",
            " #   Column           Non-Null Count  Dtype \n",
            "---  ------           --------------  ----- \n",
            " 0   tweet            4172 non-null   object\n",
            " 1   location         4172 non-null   object\n",
            " 2   friends_count    4172 non-null   object\n",
            " 3   followers_count  4172 non-null   int64 \n",
            " 4   statuses_count   4172 non-null   int64 \n",
            " 5   created_at       4172 non-null   object\n",
            " 6   retweet_count    4172 non-null   object\n",
            " 7   label            4172 non-null   object\n",
            "dtypes: int64(2), object(6)\n",
            "memory usage: 293.3+ KB\n"
          ]
        }
      ]
    },
    {
      "cell_type": "code",
      "metadata": {
        "colab": {
          "base_uri": "https://localhost:8080/"
        },
        "id": "ujLz9W9GWQ56",
        "outputId": "b9890665-3ec3-4737-d0be-a5d36ecf17ca"
      },
      "source": [
        "# Check unique values of label column\n",
        "data['label'].unique()"
      ],
      "execution_count": null,
      "outputs": [
        {
          "output_type": "execute_result",
          "data": {
            "text/plain": [
              "array(['anxiety', 'general tweet', 'awareness', 'depression',\n",
              "       'substance abuse', 'thoughts', 'stress', 'general',\n",
              "       'suicidal thoughts ', 'Awareness', 'suicidal thoughts',\n",
              "       'general tweets'], dtype=object)"
            ]
          },
          "metadata": {},
          "execution_count": 147
        }
      ]
    },
    {
      "cell_type": "code",
      "metadata": {
        "id": "pETy_DMGV8FQ"
      },
      "source": [
        "# CHange label column to lowercase and edit classnames\n",
        "data['label'] = data['label'].str.lower()\n",
        "\n",
        "data['label'] = data['label'].replace(['general'],'general tweet')\n",
        "data['label'] = data['label'].replace(['suicidal thoughts'],'thoughts')\n",
        "data['label'] = data['label'].replace(['general tweets'],'general tweet')\n",
        "data['label'] = data['label'].replace(['anxiety '],'anxiety')\n",
        "data['label'] = data['label'].replace(['suicidal thoughts '],'thoughts')"
      ],
      "execution_count": null,
      "outputs": []
    },
    {
      "cell_type": "code",
      "metadata": {
        "colab": {
          "base_uri": "https://localhost:8080/"
        },
        "id": "5kJ6gWDGphxt",
        "outputId": "13ee6693-8fd7-46af-ee37-4b37c320e314"
      },
      "source": [
        "# Check unique values of label column\n",
        "data['label'].unique()"
      ],
      "execution_count": null,
      "outputs": [
        {
          "output_type": "execute_result",
          "data": {
            "text/plain": [
              "array(['anxiety', 'general tweet', 'awareness', 'depression',\n",
              "       'substance abuse', 'thoughts', 'stress'], dtype=object)"
            ]
          },
          "metadata": {},
          "execution_count": 149
        }
      ]
    },
    {
      "cell_type": "code",
      "metadata": {
        "id": "i0C1WEK2Ynax"
      },
      "source": [
        "# new data frame with split value columns\n",
        "data_1 = data[\"location\"].str.split(\",\", n = 1, expand = True)\n",
        "  \n",
        "# making separate first name column from new data frame\n",
        "data[\"town\"]= data_1[0]\n",
        "  \n",
        "# making separate last name column from new data frame\n",
        "data[\"country\"]= data_1[1]\n",
        "  \n"
      ],
      "execution_count": null,
      "outputs": []
    },
    {
      "cell_type": "code",
      "metadata": {
        "colab": {
          "base_uri": "https://localhost:8080/",
          "height": 267
        },
        "id": "jZ54qQ6SZtlJ",
        "outputId": "f992f0f2-067b-46ef-b23d-494765f97153"
      },
      "source": [
        "data[:3]"
      ],
      "execution_count": null,
      "outputs": [
        {
          "output_type": "execute_result",
          "data": {
            "text/html": [
              "<div>\n",
              "<style scoped>\n",
              "    .dataframe tbody tr th:only-of-type {\n",
              "        vertical-align: middle;\n",
              "    }\n",
              "\n",
              "    .dataframe tbody tr th {\n",
              "        vertical-align: top;\n",
              "    }\n",
              "\n",
              "    .dataframe thead th {\n",
              "        text-align: right;\n",
              "    }\n",
              "</style>\n",
              "<table border=\"1\" class=\"dataframe\">\n",
              "  <thead>\n",
              "    <tr style=\"text-align: right;\">\n",
              "      <th></th>\n",
              "      <th>tweet</th>\n",
              "      <th>location</th>\n",
              "      <th>friends_count</th>\n",
              "      <th>followers_count</th>\n",
              "      <th>statuses_count</th>\n",
              "      <th>created_at</th>\n",
              "      <th>retweet_count</th>\n",
              "      <th>label</th>\n",
              "      <th>town</th>\n",
              "      <th>country</th>\n",
              "    </tr>\n",
              "  </thead>\n",
              "  <tbody>\n",
              "    <tr>\n",
              "      <th>1</th>\n",
              "      <td>BunMo Multi Item Stretchy Strings Fidget Toy 6...</td>\n",
              "      <td>Burundi</td>\n",
              "      <td>182</td>\n",
              "      <td>83</td>\n",
              "      <td>6950</td>\n",
              "      <td>09/14/2021 7:47</td>\n",
              "      <td>0</td>\n",
              "      <td>anxiety</td>\n",
              "      <td>Burundi</td>\n",
              "      <td>None</td>\n",
              "    </tr>\n",
              "    <tr>\n",
              "      <th>2</th>\n",
              "      <td>@unkonfined The basic motivation behind our be...</td>\n",
              "      <td>Kenya</td>\n",
              "      <td>983</td>\n",
              "      <td>915</td>\n",
              "      <td>12944</td>\n",
              "      <td>09/14/2021 7:31</td>\n",
              "      <td>0</td>\n",
              "      <td>anxiety</td>\n",
              "      <td>Kenya</td>\n",
              "      <td>None</td>\n",
              "    </tr>\n",
              "    <tr>\n",
              "      <th>3</th>\n",
              "      <td>@Munenekimathi5 @zablonorina1 Is your BP norma...</td>\n",
              "      <td>Nairobi, Kenya</td>\n",
              "      <td>281</td>\n",
              "      <td>63</td>\n",
              "      <td>290</td>\n",
              "      <td>09/14/2021 7:30</td>\n",
              "      <td>0</td>\n",
              "      <td>anxiety</td>\n",
              "      <td>Nairobi</td>\n",
              "      <td>Kenya</td>\n",
              "    </tr>\n",
              "  </tbody>\n",
              "</table>\n",
              "</div>"
            ],
            "text/plain": [
              "                                               tweet  ... country\n",
              "1  BunMo Multi Item Stretchy Strings Fidget Toy 6...  ...    None\n",
              "2  @unkonfined The basic motivation behind our be...  ...    None\n",
              "3  @Munenekimathi5 @zablonorina1 Is your BP norma...  ...   Kenya\n",
              "\n",
              "[3 rows x 10 columns]"
            ]
          },
          "metadata": {},
          "execution_count": 151
        }
      ]
    },
    {
      "cell_type": "code",
      "metadata": {
        "id": "p4oXCyIbaL5d"
      },
      "source": [
        "# Change to lowercase\n",
        "data['town'] = data['town'].str.lower()\n",
        "data['country'] = data['country'].str.lower()\n"
      ],
      "execution_count": null,
      "outputs": []
    },
    {
      "cell_type": "code",
      "metadata": {
        "colab": {
          "base_uri": "https://localhost:8080/",
          "height": 842
        },
        "id": "qRzgzrJiatzQ",
        "outputId": "d3090fc7-a53d-44d1-cac7-17699ca181d3"
      },
      "source": [
        "data"
      ],
      "execution_count": null,
      "outputs": [
        {
          "output_type": "execute_result",
          "data": {
            "text/html": [
              "<div>\n",
              "<style scoped>\n",
              "    .dataframe tbody tr th:only-of-type {\n",
              "        vertical-align: middle;\n",
              "    }\n",
              "\n",
              "    .dataframe tbody tr th {\n",
              "        vertical-align: top;\n",
              "    }\n",
              "\n",
              "    .dataframe thead th {\n",
              "        text-align: right;\n",
              "    }\n",
              "</style>\n",
              "<table border=\"1\" class=\"dataframe\">\n",
              "  <thead>\n",
              "    <tr style=\"text-align: right;\">\n",
              "      <th></th>\n",
              "      <th>tweet</th>\n",
              "      <th>location</th>\n",
              "      <th>friends_count</th>\n",
              "      <th>followers_count</th>\n",
              "      <th>statuses_count</th>\n",
              "      <th>created_at</th>\n",
              "      <th>retweet_count</th>\n",
              "      <th>label</th>\n",
              "      <th>town</th>\n",
              "      <th>country</th>\n",
              "    </tr>\n",
              "  </thead>\n",
              "  <tbody>\n",
              "    <tr>\n",
              "      <th>1</th>\n",
              "      <td>BunMo Multi Item Stretchy Strings Fidget Toy 6...</td>\n",
              "      <td>Burundi</td>\n",
              "      <td>182</td>\n",
              "      <td>83</td>\n",
              "      <td>6950</td>\n",
              "      <td>09/14/2021 7:47</td>\n",
              "      <td>0</td>\n",
              "      <td>anxiety</td>\n",
              "      <td>burundi</td>\n",
              "      <td>None</td>\n",
              "    </tr>\n",
              "    <tr>\n",
              "      <th>2</th>\n",
              "      <td>@unkonfined The basic motivation behind our be...</td>\n",
              "      <td>Kenya</td>\n",
              "      <td>983</td>\n",
              "      <td>915</td>\n",
              "      <td>12944</td>\n",
              "      <td>09/14/2021 7:31</td>\n",
              "      <td>0</td>\n",
              "      <td>anxiety</td>\n",
              "      <td>kenya</td>\n",
              "      <td>None</td>\n",
              "    </tr>\n",
              "    <tr>\n",
              "      <th>3</th>\n",
              "      <td>@Munenekimathi5 @zablonorina1 Is your BP norma...</td>\n",
              "      <td>Nairobi, Kenya</td>\n",
              "      <td>281</td>\n",
              "      <td>63</td>\n",
              "      <td>290</td>\n",
              "      <td>09/14/2021 7:30</td>\n",
              "      <td>0</td>\n",
              "      <td>anxiety</td>\n",
              "      <td>nairobi</td>\n",
              "      <td>kenya</td>\n",
              "    </tr>\n",
              "    <tr>\n",
              "      <th>4</th>\n",
              "      <td>How do you deal with being anxious?\\n\\nShare y...</td>\n",
              "      <td>Nairobi Kenya</td>\n",
              "      <td>220</td>\n",
              "      <td>2052</td>\n",
              "      <td>37982</td>\n",
              "      <td>09/14/2021 7:02</td>\n",
              "      <td>0</td>\n",
              "      <td>anxiety</td>\n",
              "      <td>nairobi kenya</td>\n",
              "      <td>None</td>\n",
              "    </tr>\n",
              "    <tr>\n",
              "      <th>5</th>\n",
              "      <td>Did you know ‘dry spell’ causes anxiety, depre...</td>\n",
              "      <td>Nairobi, Kenya</td>\n",
              "      <td>857</td>\n",
              "      <td>272</td>\n",
              "      <td>650</td>\n",
              "      <td>09/14/2021 7:00</td>\n",
              "      <td>2</td>\n",
              "      <td>general tweet</td>\n",
              "      <td>nairobi</td>\n",
              "      <td>kenya</td>\n",
              "    </tr>\n",
              "    <tr>\n",
              "      <th>...</th>\n",
              "      <td>...</td>\n",
              "      <td>...</td>\n",
              "      <td>...</td>\n",
              "      <td>...</td>\n",
              "      <td>...</td>\n",
              "      <td>...</td>\n",
              "      <td>...</td>\n",
              "      <td>...</td>\n",
              "      <td>...</td>\n",
              "      <td>...</td>\n",
              "    </tr>\n",
              "    <tr>\n",
              "      <th>680</th>\n",
              "      <td>@MillicentOmanga I have decided to put my ego ...</td>\n",
              "      <td>Bungoma</td>\n",
              "      <td>726</td>\n",
              "      <td>117</td>\n",
              "      <td>375</td>\n",
              "      <td>07-09-21 8:04</td>\n",
              "      <td>0</td>\n",
              "      <td>depression</td>\n",
              "      <td>bungoma</td>\n",
              "      <td>None</td>\n",
              "    </tr>\n",
              "    <tr>\n",
              "      <th>681</th>\n",
              "      <td>@amerix I have decided to put my ego aside and...</td>\n",
              "      <td>Bungoma</td>\n",
              "      <td>726</td>\n",
              "      <td>117</td>\n",
              "      <td>375</td>\n",
              "      <td>07-09-21 8:01</td>\n",
              "      <td>0</td>\n",
              "      <td>depression</td>\n",
              "      <td>bungoma</td>\n",
              "      <td>None</td>\n",
              "    </tr>\n",
              "    <tr>\n",
              "      <th>682</th>\n",
              "      <td>Some of the longterm drug effects include; dep...</td>\n",
              "      <td>Isiolo, Kenya</td>\n",
              "      <td>746</td>\n",
              "      <td>756</td>\n",
              "      <td>560</td>\n",
              "      <td>07-09-21 7:04</td>\n",
              "      <td>11</td>\n",
              "      <td>awareness</td>\n",
              "      <td>isiolo</td>\n",
              "      <td>kenya</td>\n",
              "    </tr>\n",
              "    <tr>\n",
              "      <th>683</th>\n",
              "      <td>@itsminabo_ @lenana_samorai @bennytothedj Hio ...</td>\n",
              "      <td>Kiambu, Kenya</td>\n",
              "      <td>796</td>\n",
              "      <td>228</td>\n",
              "      <td>3694</td>\n",
              "      <td>07-09-21 6:33</td>\n",
              "      <td>1</td>\n",
              "      <td>general tweet</td>\n",
              "      <td>kiambu</td>\n",
              "      <td>kenya</td>\n",
              "    </tr>\n",
              "    <tr>\n",
              "      <th>684</th>\n",
              "      <td>The most effective method to Help Someone Who ...</td>\n",
              "      <td>Nairobi, KE</td>\n",
              "      <td>89</td>\n",
              "      <td>74</td>\n",
              "      <td>151</td>\n",
              "      <td>07-09-21 6:22</td>\n",
              "      <td>1</td>\n",
              "      <td>depression</td>\n",
              "      <td>nairobi</td>\n",
              "      <td>ke</td>\n",
              "    </tr>\n",
              "  </tbody>\n",
              "</table>\n",
              "<p>4172 rows × 10 columns</p>\n",
              "</div>"
            ],
            "text/plain": [
              "                                                 tweet  ... country\n",
              "1    BunMo Multi Item Stretchy Strings Fidget Toy 6...  ...    None\n",
              "2    @unkonfined The basic motivation behind our be...  ...    None\n",
              "3    @Munenekimathi5 @zablonorina1 Is your BP norma...  ...   kenya\n",
              "4    How do you deal with being anxious?\\n\\nShare y...  ...    None\n",
              "5    Did you know ‘dry spell’ causes anxiety, depre...  ...   kenya\n",
              "..                                                 ...  ...     ...\n",
              "680  @MillicentOmanga I have decided to put my ego ...  ...    None\n",
              "681  @amerix I have decided to put my ego aside and...  ...    None\n",
              "682  Some of the longterm drug effects include; dep...  ...   kenya\n",
              "683  @itsminabo_ @lenana_samorai @bennytothedj Hio ...  ...   kenya\n",
              "684  The most effective method to Help Someone Who ...  ...      ke\n",
              "\n",
              "[4172 rows x 10 columns]"
            ]
          },
          "metadata": {},
          "execution_count": 153
        }
      ]
    },
    {
      "cell_type": "code",
      "metadata": {
        "id": "s00yAb2sqTYW"
      },
      "source": [
        "#data['date'] = pd.to_datetime(data['created_at'],format=\"%m-%d-%y %H:%M\")\n",
        "#data['hour'] = pd.DatetimeIndex(data['created_at']).hour\n",
        "#data['minute'] = pd.DatetimeIndex(data['created_at']).minute\n",
        "#data['month'] = pd.DatetimeIndex(data['created_at']).month\n",
        "#data['year'] = pd.DatetimeIndex(data['created_at']).year\n"
      ],
      "execution_count": null,
      "outputs": []
    },
    {
      "cell_type": "markdown",
      "metadata": {
        "id": "gZGL8IkbcF8f"
      },
      "source": [
        "Tweet Preprocessing"
      ]
    },
    {
      "cell_type": "code",
      "metadata": {
        "id": "BH40vf4Bun5D"
      },
      "source": [
        "# Remove url\n",
        "#removing the URL links\n",
        "example=\"New competition launched :https://www.kaggle.com/c/nlp-getting-started\"\n",
        "def remove_URL(text):\n",
        "    url = re.compile(r'https?://\\S+|www\\.\\S+')\n",
        "    return url.sub(r'',text)\n",
        "\n",
        "remove_URL(example)\n",
        "data['tweet']=data['tweet'].apply(lambda x : remove_URL(x))\n",
        "\n"
      ],
      "execution_count": null,
      "outputs": []
    },
    {
      "cell_type": "code",
      "metadata": {
        "colab": {
          "base_uri": "https://localhost:8080/",
          "height": 747
        },
        "id": "Kj8BFBGfuqVr",
        "outputId": "0b54146b-fd67-4c66-94ed-594136025a1b"
      },
      "source": [
        "data[:10]"
      ],
      "execution_count": null,
      "outputs": [
        {
          "output_type": "execute_result",
          "data": {
            "text/html": [
              "<div>\n",
              "<style scoped>\n",
              "    .dataframe tbody tr th:only-of-type {\n",
              "        vertical-align: middle;\n",
              "    }\n",
              "\n",
              "    .dataframe tbody tr th {\n",
              "        vertical-align: top;\n",
              "    }\n",
              "\n",
              "    .dataframe thead th {\n",
              "        text-align: right;\n",
              "    }\n",
              "</style>\n",
              "<table border=\"1\" class=\"dataframe\">\n",
              "  <thead>\n",
              "    <tr style=\"text-align: right;\">\n",
              "      <th></th>\n",
              "      <th>tweet</th>\n",
              "      <th>location</th>\n",
              "      <th>friends_count</th>\n",
              "      <th>followers_count</th>\n",
              "      <th>statuses_count</th>\n",
              "      <th>created_at</th>\n",
              "      <th>retweet_count</th>\n",
              "      <th>label</th>\n",
              "      <th>town</th>\n",
              "      <th>country</th>\n",
              "    </tr>\n",
              "  </thead>\n",
              "  <tbody>\n",
              "    <tr>\n",
              "      <th>1</th>\n",
              "      <td>BunMo Multi Item Stretchy Strings Fidget Toy 6...</td>\n",
              "      <td>Burundi</td>\n",
              "      <td>182</td>\n",
              "      <td>83</td>\n",
              "      <td>6950</td>\n",
              "      <td>09/14/2021 7:47</td>\n",
              "      <td>0</td>\n",
              "      <td>anxiety</td>\n",
              "      <td>burundi</td>\n",
              "      <td>None</td>\n",
              "    </tr>\n",
              "    <tr>\n",
              "      <th>2</th>\n",
              "      <td>@unkonfined The basic motivation behind our be...</td>\n",
              "      <td>Kenya</td>\n",
              "      <td>983</td>\n",
              "      <td>915</td>\n",
              "      <td>12944</td>\n",
              "      <td>09/14/2021 7:31</td>\n",
              "      <td>0</td>\n",
              "      <td>anxiety</td>\n",
              "      <td>kenya</td>\n",
              "      <td>None</td>\n",
              "    </tr>\n",
              "    <tr>\n",
              "      <th>3</th>\n",
              "      <td>@Munenekimathi5 @zablonorina1 Is your BP norma...</td>\n",
              "      <td>Nairobi, Kenya</td>\n",
              "      <td>281</td>\n",
              "      <td>63</td>\n",
              "      <td>290</td>\n",
              "      <td>09/14/2021 7:30</td>\n",
              "      <td>0</td>\n",
              "      <td>anxiety</td>\n",
              "      <td>nairobi</td>\n",
              "      <td>kenya</td>\n",
              "    </tr>\n",
              "    <tr>\n",
              "      <th>4</th>\n",
              "      <td>How do you deal with being anxious?\\n\\nShare y...</td>\n",
              "      <td>Nairobi Kenya</td>\n",
              "      <td>220</td>\n",
              "      <td>2052</td>\n",
              "      <td>37982</td>\n",
              "      <td>09/14/2021 7:02</td>\n",
              "      <td>0</td>\n",
              "      <td>anxiety</td>\n",
              "      <td>nairobi kenya</td>\n",
              "      <td>None</td>\n",
              "    </tr>\n",
              "    <tr>\n",
              "      <th>5</th>\n",
              "      <td>Did you know ‘dry spell’ causes anxiety, depre...</td>\n",
              "      <td>Nairobi, Kenya</td>\n",
              "      <td>857</td>\n",
              "      <td>272</td>\n",
              "      <td>650</td>\n",
              "      <td>09/14/2021 7:00</td>\n",
              "      <td>2</td>\n",
              "      <td>general tweet</td>\n",
              "      <td>nairobi</td>\n",
              "      <td>kenya</td>\n",
              "    </tr>\n",
              "    <tr>\n",
              "      <th>6</th>\n",
              "      <td>As a person who struggles with procrastination...</td>\n",
              "      <td>Kenya</td>\n",
              "      <td>1088</td>\n",
              "      <td>21324</td>\n",
              "      <td>105390</td>\n",
              "      <td>09/14/2021 6:58</td>\n",
              "      <td>5</td>\n",
              "      <td>anxiety</td>\n",
              "      <td>kenya</td>\n",
              "      <td>None</td>\n",
              "    </tr>\n",
              "    <tr>\n",
              "      <th>8</th>\n",
              "      <td>OVERCOME ANXIETY\\nExercise daily to help you f...</td>\n",
              "      <td>Nairobi, Kenya</td>\n",
              "      <td>3677</td>\n",
              "      <td>2925</td>\n",
              "      <td>2880</td>\n",
              "      <td>09/14/2021 6:36</td>\n",
              "      <td>0</td>\n",
              "      <td>anxiety</td>\n",
              "      <td>nairobi</td>\n",
              "      <td>kenya</td>\n",
              "    </tr>\n",
              "    <tr>\n",
              "      <th>9</th>\n",
              "      <td>OVERCOME ANXIETY \\n\\nTake a time-out\\n\\nEat we...</td>\n",
              "      <td>Nairobi, Kenya</td>\n",
              "      <td>3677</td>\n",
              "      <td>2925</td>\n",
              "      <td>2880</td>\n",
              "      <td>09/14/2021 6:34</td>\n",
              "      <td>0</td>\n",
              "      <td>anxiety</td>\n",
              "      <td>nairobi</td>\n",
              "      <td>kenya</td>\n",
              "    </tr>\n",
              "    <tr>\n",
              "      <th>10</th>\n",
              "      <td>Anxiety happens when you think you've to figur...</td>\n",
              "      <td>Kakamega, Kenya</td>\n",
              "      <td>1943</td>\n",
              "      <td>100</td>\n",
              "      <td>495</td>\n",
              "      <td>09/14/2021 6:34</td>\n",
              "      <td>0</td>\n",
              "      <td>anxiety</td>\n",
              "      <td>kakamega</td>\n",
              "      <td>kenya</td>\n",
              "    </tr>\n",
              "    <tr>\n",
              "      <th>11</th>\n",
              "      <td>BunMo Multi Item Stretchy Strings Fidget Toy 6...</td>\n",
              "      <td>Burundi</td>\n",
              "      <td>182</td>\n",
              "      <td>83</td>\n",
              "      <td>6950</td>\n",
              "      <td>09/14/2021 6:33</td>\n",
              "      <td>0</td>\n",
              "      <td>anxiety</td>\n",
              "      <td>burundi</td>\n",
              "      <td>None</td>\n",
              "    </tr>\n",
              "  </tbody>\n",
              "</table>\n",
              "</div>"
            ],
            "text/plain": [
              "                                                tweet  ... country\n",
              "1   BunMo Multi Item Stretchy Strings Fidget Toy 6...  ...    None\n",
              "2   @unkonfined The basic motivation behind our be...  ...    None\n",
              "3   @Munenekimathi5 @zablonorina1 Is your BP norma...  ...   kenya\n",
              "4   How do you deal with being anxious?\\n\\nShare y...  ...    None\n",
              "5   Did you know ‘dry spell’ causes anxiety, depre...  ...   kenya\n",
              "6   As a person who struggles with procrastination...  ...    None\n",
              "8   OVERCOME ANXIETY\\nExercise daily to help you f...  ...   kenya\n",
              "9   OVERCOME ANXIETY \\n\\nTake a time-out\\n\\nEat we...  ...   kenya\n",
              "10  Anxiety happens when you think you've to figur...  ...   kenya\n",
              "11  BunMo Multi Item Stretchy Strings Fidget Toy 6...  ...    None\n",
              "\n",
              "[10 rows x 10 columns]"
            ]
          },
          "metadata": {},
          "execution_count": 157
        }
      ]
    },
    {
      "cell_type": "code",
      "metadata": {
        "id": "RmqNEu6TbSf7"
      },
      "source": [
        "#convert to lowercase, strip and remove punctuations\n",
        "def preprocess(text):\n",
        "    text = text.lower() \n",
        "    text=text.strip()  \n",
        "    text=re.compile('<.*?>').sub('', text) \n",
        "    text = re.compile('[%s]' % re.escape(string.punctuation)).sub(' ', text)  \n",
        "    text = re.sub('\\s+', ' ', text)  \n",
        "    text = re.sub(r'\\[[0-9]*\\]',' ',text) \n",
        "    text=re.sub(r'[^\\w\\s]', '', str(text).lower().strip())\n",
        "    text = re.sub(r'\\d',' ',text) \n",
        "    text = re.sub(r'\\s+',' ',text) \n",
        "    text = re.sub(\"@\\S+\", \"\", text)\n",
        "    re.sub(\"\\$\", \"\", text)\n",
        "    text = re.sub(\"https?:\\/\\/.*[\\r\\n]*\", \"\", text)\n",
        "    re.sub(\"#\", \"\", text)\n",
        "    return text\n",
        "\n",
        "\n",
        "#tokenizer, pos tagging and entity recognition\n",
        "\n",
        " \n",
        "# STOPWORD REMOVAL\n",
        "def stopword(string):\n",
        "    a= [i for i in string.split() if i not in stopwords.words('english')]\n",
        "    return ' '.join(a)\n",
        "#LEMMATIZATION\n",
        "# Initialize the lemmatizer\n",
        "wl = WordNetLemmatizer()\n",
        " \n",
        "# This is a helper function to map NTLK position tags\n",
        "def get_wordnet_pos(tag):\n",
        "    if tag.startswith('J'):\n",
        "        return wordnet.ADJ\n",
        "    elif tag.startswith('V'):\n",
        "        return wordnet.VERB\n",
        "    elif tag.startswith('N'):\n",
        "        return wordnet.NOUN\n",
        "    elif tag.startswith('R'):\n",
        "        return wordnet.ADV\n",
        "    else:\n",
        "        return wordnet.NOUN\n",
        "# Tokenize the sentence\n",
        "def lemmatizer(string):\n",
        "    word_pos_tags = nltk.pos_tag(word_tokenize(string)) # Get position tags\n",
        "    a=[wl.lemmatize(tag[0], get_wordnet_pos(tag[1])) for idx, tag in enumerate(word_pos_tags)] # Map the position tag and lemmatize the word/token\n",
        "    return \" \".join(a)\n",
        "\n"
      ],
      "execution_count": null,
      "outputs": []
    },
    {
      "cell_type": "code",
      "metadata": {
        "id": "NOtd61SucM8o"
      },
      "source": [
        "def finalpreprocess(string):\n",
        "    return lemmatizer(stopword(preprocess(string)))\n",
        "data['clean_text'] = data['tweet'].apply(lambda x: finalpreprocess(x))\n",
        "# df = df.drop(['tweet'], axis= 1)"
      ],
      "execution_count": null,
      "outputs": []
    },
    {
      "cell_type": "code",
      "metadata": {
        "id": "cAVolm72vepc"
      },
      "source": [
        "import matplotlib.pyplot as plt\n"
      ],
      "execution_count": null,
      "outputs": []
    },
    {
      "cell_type": "code",
      "metadata": {
        "colab": {
          "base_uri": "https://localhost:8080/",
          "height": 232
        },
        "id": "ofMK1kWCvNmh",
        "outputId": "92540ea7-ea6c-4118-d246-44d327fee533"
      },
      "source": [
        "#plotting the wordcount\n",
        "from wordcloud import WordCloud \n",
        "temperature = data\n",
        "allWords= ''.join( [twts for twts in temperature['clean_text']] )\n",
        "WordCloud= WordCloud(width=500, height=300, random_state=21, max_font_size=200, ).generate(allWords)\n",
        "\n",
        "plt.imshow(WordCloud, interpolation='bilinear')\n",
        "plt.axis('off')\n",
        "plt.show()"
      ],
      "execution_count": null,
      "outputs": [
        {
          "output_type": "display_data",
          "data": {
            "image/png": "[encoded data removed]",
            "text/plain": [
              "<Figure size 432x288 with 1 Axes>"
            ]
          },
          "metadata": {
            "needs_background": "light"
          }
        }
      ]
    },
    {
      "cell_type": "code",
      "metadata": {
        "colab": {
          "base_uri": "https://localhost:8080/"
        },
        "id": "zjS7CcbYcVqS",
        "outputId": "71aef1f8-2820-4ea7-b6e4-cafbf5fdf2c9"
      },
      "source": [
        "data['clean_text']"
      ],
      "execution_count": null,
      "outputs": [
        {
          "output_type": "execute_result",
          "data": {
            "text/plain": [
              "1      bunmo multi item stretchy string fidget toy pk...\n",
              "2      unkonfined basic motivation behind behavior bi...\n",
              "3      munenekimathi zablonorina bp normal yes check ...\n",
              "4      deal anxious share experience anxiety yvonne m...\n",
              "5      know dry spell cause anxiety depression even s...\n",
              "                             ...                        \n",
              "680    millicentomanga decide put ego aside ask help ...\n",
              "681    amerix decide put ego aside ask help barely fe...\n",
              "682    longterm drug effect include depression anxiet...\n",
              "683    itsminabo lenana samorai bennytothedj hio ndio...\n",
              "684    effective method help someone depress step mak...\n",
              "Name: clean_text, Length: 4172, dtype: object"
            ]
          },
          "metadata": {},
          "execution_count": 162
        }
      ]
    },
    {
      "cell_type": "code",
      "metadata": {
        "colab": {
          "base_uri": "https://localhost:8080/"
        },
        "id": "PpexD9EEcfJK",
        "outputId": "0988a1a9-3526-4d1c-9a95-28035e95a7fb"
      },
      "source": [
        "data.info()"
      ],
      "execution_count": null,
      "outputs": [
        {
          "output_type": "stream",
          "name": "stdout",
          "text": [
            "<class 'pandas.core.frame.DataFrame'>\n",
            "Int64Index: 4172 entries, 1 to 684\n",
            "Data columns (total 11 columns):\n",
            " #   Column           Non-Null Count  Dtype \n",
            "---  ------           --------------  ----- \n",
            " 0   tweet            4172 non-null   object\n",
            " 1   location         4172 non-null   object\n",
            " 2   friends_count    4172 non-null   object\n",
            " 3   followers_count  4172 non-null   int64 \n",
            " 4   statuses_count   4172 non-null   int64 \n",
            " 5   created_at       4172 non-null   object\n",
            " 6   retweet_count    4172 non-null   object\n",
            " 7   label            4172 non-null   object\n",
            " 8   town             4172 non-null   object\n",
            " 9   country          2764 non-null   object\n",
            " 10  clean_text       4172 non-null   object\n",
            "dtypes: int64(2), object(9)\n",
            "memory usage: 391.1+ KB\n"
          ]
        }
      ]
    },
    {
      "cell_type": "code",
      "metadata": {
        "id": "VGtAp4zdsolm"
      },
      "source": [
        "# Drop unneeded columns\n",
        "#clean_df=data.drop(columns=['tweet','minute','created_at','date','location'])"
      ],
      "execution_count": null,
      "outputs": []
    },
    {
      "cell_type": "code",
      "metadata": {
        "id": "nvsS0jihcu7T"
      },
      "source": [
        "# Drop unneeded columns\n",
        "clean_df=data.drop(columns=['tweet','location','country'])"
      ],
      "execution_count": null,
      "outputs": []
    },
    {
      "cell_type": "code",
      "metadata": {
        "colab": {
          "base_uri": "https://localhost:8080/",
          "height": 998
        },
        "id": "G3q7wWEBeUrw",
        "outputId": "9f0795d1-cc5c-4a80-f862-dd7b8ed30baf"
      },
      "source": [
        "clean_df"
      ],
      "execution_count": null,
      "outputs": [
        {
          "output_type": "execute_result",
          "data": {
            "text/html": [
              "<div>\n",
              "<style scoped>\n",
              "    .dataframe tbody tr th:only-of-type {\n",
              "        vertical-align: middle;\n",
              "    }\n",
              "\n",
              "    .dataframe tbody tr th {\n",
              "        vertical-align: top;\n",
              "    }\n",
              "\n",
              "    .dataframe thead th {\n",
              "        text-align: right;\n",
              "    }\n",
              "</style>\n",
              "<table border=\"1\" class=\"dataframe\">\n",
              "  <thead>\n",
              "    <tr style=\"text-align: right;\">\n",
              "      <th></th>\n",
              "      <th>friends_count</th>\n",
              "      <th>followers_count</th>\n",
              "      <th>statuses_count</th>\n",
              "      <th>created_at</th>\n",
              "      <th>retweet_count</th>\n",
              "      <th>label</th>\n",
              "      <th>town</th>\n",
              "      <th>clean_text</th>\n",
              "    </tr>\n",
              "  </thead>\n",
              "  <tbody>\n",
              "    <tr>\n",
              "      <th>1</th>\n",
              "      <td>182</td>\n",
              "      <td>83</td>\n",
              "      <td>6950</td>\n",
              "      <td>09/14/2021 7:47</td>\n",
              "      <td>0</td>\n",
              "      <td>anxiety</td>\n",
              "      <td>burundi</td>\n",
              "      <td>bunmo multi item stretchy string fidget toy pk...</td>\n",
              "    </tr>\n",
              "    <tr>\n",
              "      <th>2</th>\n",
              "      <td>983</td>\n",
              "      <td>915</td>\n",
              "      <td>12944</td>\n",
              "      <td>09/14/2021 7:31</td>\n",
              "      <td>0</td>\n",
              "      <td>anxiety</td>\n",
              "      <td>kenya</td>\n",
              "      <td>unkonfined basic motivation behind behavior bi...</td>\n",
              "    </tr>\n",
              "    <tr>\n",
              "      <th>3</th>\n",
              "      <td>281</td>\n",
              "      <td>63</td>\n",
              "      <td>290</td>\n",
              "      <td>09/14/2021 7:30</td>\n",
              "      <td>0</td>\n",
              "      <td>anxiety</td>\n",
              "      <td>nairobi</td>\n",
              "      <td>munenekimathi zablonorina bp normal yes check ...</td>\n",
              "    </tr>\n",
              "    <tr>\n",
              "      <th>4</th>\n",
              "      <td>220</td>\n",
              "      <td>2052</td>\n",
              "      <td>37982</td>\n",
              "      <td>09/14/2021 7:02</td>\n",
              "      <td>0</td>\n",
              "      <td>anxiety</td>\n",
              "      <td>nairobi kenya</td>\n",
              "      <td>deal anxious share experience anxiety yvonne m...</td>\n",
              "    </tr>\n",
              "    <tr>\n",
              "      <th>5</th>\n",
              "      <td>857</td>\n",
              "      <td>272</td>\n",
              "      <td>650</td>\n",
              "      <td>09/14/2021 7:00</td>\n",
              "      <td>2</td>\n",
              "      <td>general tweet</td>\n",
              "      <td>nairobi</td>\n",
              "      <td>know dry spell cause anxiety depression even s...</td>\n",
              "    </tr>\n",
              "    <tr>\n",
              "      <th>...</th>\n",
              "      <td>...</td>\n",
              "      <td>...</td>\n",
              "      <td>...</td>\n",
              "      <td>...</td>\n",
              "      <td>...</td>\n",
              "      <td>...</td>\n",
              "      <td>...</td>\n",
              "      <td>...</td>\n",
              "    </tr>\n",
              "    <tr>\n",
              "      <th>680</th>\n",
              "      <td>726</td>\n",
              "      <td>117</td>\n",
              "      <td>375</td>\n",
              "      <td>07-09-21 8:04</td>\n",
              "      <td>0</td>\n",
              "      <td>depression</td>\n",
              "      <td>bungoma</td>\n",
              "      <td>millicentomanga decide put ego aside ask help ...</td>\n",
              "    </tr>\n",
              "    <tr>\n",
              "      <th>681</th>\n",
              "      <td>726</td>\n",
              "      <td>117</td>\n",
              "      <td>375</td>\n",
              "      <td>07-09-21 8:01</td>\n",
              "      <td>0</td>\n",
              "      <td>depression</td>\n",
              "      <td>bungoma</td>\n",
              "      <td>amerix decide put ego aside ask help barely fe...</td>\n",
              "    </tr>\n",
              "    <tr>\n",
              "      <th>682</th>\n",
              "      <td>746</td>\n",
              "      <td>756</td>\n",
              "      <td>560</td>\n",
              "      <td>07-09-21 7:04</td>\n",
              "      <td>11</td>\n",
              "      <td>awareness</td>\n",
              "      <td>isiolo</td>\n",
              "      <td>longterm drug effect include depression anxiet...</td>\n",
              "    </tr>\n",
              "    <tr>\n",
              "      <th>683</th>\n",
              "      <td>796</td>\n",
              "      <td>228</td>\n",
              "      <td>3694</td>\n",
              "      <td>07-09-21 6:33</td>\n",
              "      <td>1</td>\n",
              "      <td>general tweet</td>\n",
              "      <td>kiambu</td>\n",
              "      <td>itsminabo lenana samorai bennytothedj hio ndio...</td>\n",
              "    </tr>\n",
              "    <tr>\n",
              "      <th>684</th>\n",
              "      <td>89</td>\n",
              "      <td>74</td>\n",
              "      <td>151</td>\n",
              "      <td>07-09-21 6:22</td>\n",
              "      <td>1</td>\n",
              "      <td>depression</td>\n",
              "      <td>nairobi</td>\n",
              "      <td>effective method help someone depress step mak...</td>\n",
              "    </tr>\n",
              "  </tbody>\n",
              "</table>\n",
              "<p>4172 rows × 8 columns</p>\n",
              "</div>"
            ],
            "text/plain": [
              "    friends_count  ...                                         clean_text\n",
              "1             182  ...  bunmo multi item stretchy string fidget toy pk...\n",
              "2             983  ...  unkonfined basic motivation behind behavior bi...\n",
              "3             281  ...  munenekimathi zablonorina bp normal yes check ...\n",
              "4             220  ...  deal anxious share experience anxiety yvonne m...\n",
              "5             857  ...  know dry spell cause anxiety depression even s...\n",
              "..            ...  ...                                                ...\n",
              "680           726  ...  millicentomanga decide put ego aside ask help ...\n",
              "681           726  ...  amerix decide put ego aside ask help barely fe...\n",
              "682           746  ...  longterm drug effect include depression anxiet...\n",
              "683           796  ...  itsminabo lenana samorai bennytothedj hio ndio...\n",
              "684            89  ...  effective method help someone depress step mak...\n",
              "\n",
              "[4172 rows x 8 columns]"
            ]
          },
          "metadata": {},
          "execution_count": 168
        }
      ]
    },
    {
      "cell_type": "code",
      "metadata": {
        "id": "m8UAxIxciHw8"
      },
      "source": [
        "clean_df.to_csv('final_data_suicide.csv')"
      ],
      "execution_count": null,
      "outputs": []
    }
  ]
}